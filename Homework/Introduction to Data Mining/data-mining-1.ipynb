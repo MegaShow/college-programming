{
 "cells": [
  {
   "cell_type": "code",
   "execution_count": 1,
   "metadata": {
    "_uuid": "1e42407f9575e2dd4ab1d7bfbdab898e2cded511"
   },
   "outputs": [],
   "source": [
    "import matplotlib.pyplot as plt\n",
    "import numpy as np\n",
    "import pandas as pd\n",
    "from sklearn import metrics\n",
    "from sklearn import preprocessing\n",
    "from sklearn.linear_model import LogisticRegression\n",
    "import torch\n",
    "import torch.nn as nn\n",
    "from torch.utils.data import Dataset, DataLoader"
   ]
  },
  {
   "cell_type": "code",
   "execution_count": 2,
   "metadata": {},
   "outputs": [
    {
     "name": "stdout",
     "output_type": "stream",
     "text": [
      "True\n"
     ]
    }
   ],
   "source": [
    "device_id = 0\n",
    "is_cuda = torch.cuda.is_available()\n",
    "print(is_cuda)\n",
    "if is_cuda:\n",
    "    torch.cuda.set_device(device_id)\n",
    "is_cuda = False"
   ]
  },
  {
   "cell_type": "markdown",
   "metadata": {},
   "source": [
    "## 1. LR"
   ]
  },
  {
   "cell_type": "code",
   "execution_count": 3,
   "metadata": {},
   "outputs": [],
   "source": [
    "# trainset = pd.read_csv('../input/trainSet.csv')\n",
    "# testset = pd.read_csv('../input/test set.csv')"
   ]
  },
  {
   "cell_type": "code",
   "execution_count": 4,
   "metadata": {},
   "outputs": [],
   "source": [
    "# epochs = 1\n",
    "# X, y = trainset.iloc[:, :32].values, trainset.iloc[:, 32].values\n",
    "# print(X.size, y.size)\n",
    "# model = LogisticRegression(solver='liblinear')\n",
    "# for epoch in range(epochs):\n",
    "#     model.fit(X, y)\n",
    "#     predicted = model.predict(X)\n",
    "#     train_loss = metrics.log_loss(y, predicted)\n",
    "#     train_accuracy = metrics.accuracy_score(y, predicted)\n",
    "#     message = 'Epoch: {}/{}. Train set: Average loss: {:.4f}, Accuracy: {:.4f}'.format(epoch+1, \\\n",
    "#                                                                 epochs, train_loss, train_accuracy)\n",
    "#     print(message)\n",
    "# arr = model.predict(testset.values)\n",
    "# df = pd.DataFrame({ 'id': range(1, arr.size + 1), 'Predicted': arr })\n",
    "# df.to_csv('./lr.csv', index=False)"
   ]
  },
  {
   "cell_type": "markdown",
   "metadata": {},
   "source": [
    "> ## 2. NN"
   ]
  },
  {
   "cell_type": "code",
   "execution_count": 5,
   "metadata": {},
   "outputs": [],
   "source": [
    "class CsvDataset(Dataset):\n",
    "    def __init__(self, csv_file, include_label=False, transform=None):\n",
    "        frame = pd.read_csv(csv_file)\n",
    "        # self.data = preprocessing.minmax_scale(frame, feature_range=(-10, 10))\n",
    "        self.data = preprocessing.scale(frame.iloc[:, :32])\n",
    "        if include_label:\n",
    "            self.label = frame.iloc[:, 32]\n",
    "        self.include_label = include_label\n",
    "        self.transform = transform\n",
    "\n",
    "    def __len__(self):\n",
    "        return len(self.data)\n",
    "\n",
    "    def __getitem__(self, i):\n",
    "        feature = np.array(self.data[i, :32])\n",
    "        if self.include_label:\n",
    "            label = 1 if self.label[i] > 0 else 0\n",
    "        else:\n",
    "            label = 0\n",
    "        if self.transform is not None:\n",
    "            feature = self.transform(feature)\n",
    "        return (feature, label)"
   ]
  },
  {
   "cell_type": "code",
   "execution_count": 6,
   "metadata": {},
   "outputs": [
    {
     "name": "stderr",
     "output_type": "stream",
     "text": [
      "/opt/conda/lib/python3.6/site-packages/ipykernel_launcher.py:5: DataConversionWarning: Data with input dtype int64, float64 were all converted to float64 by the scale function.\n",
      "  \"\"\"\n",
      "/opt/conda/lib/python3.6/site-packages/ipykernel_launcher.py:5: DataConversionWarning: Data with input dtype int64, float64 were all converted to float64 by the scale function.\n",
      "  \"\"\"\n"
     ]
    }
   ],
   "source": [
    "batch_size = 1000\n",
    "trainset = CsvDataset('../input/trainSet.csv', include_label=True, transform=torch.tensor)\n",
    "trainloader = DataLoader(dataset=trainset, batch_size=batch_size, shuffle=False)\n",
    "\n",
    "testset = CsvDataset('../input/test set.csv', include_label=False, transform=torch.tensor)\n",
    "testloader = DataLoader(dataset=testset, batch_size=batch_size, shuffle=False)"
   ]
  },
  {
   "cell_type": "code",
   "execution_count": 7,
   "metadata": {
    "_uuid": "b2e0287f9db5bdd9a53d08369e419096e1ed939d",
    "scrolled": true
   },
   "outputs": [],
   "source": [
    "class NeuralNetwork(nn.Module):\n",
    "    def __init__(self, in_size, hidden_size, out_size):\n",
    "        super(NeuralNetwork, self).__init__()\n",
    "#         self.layer = nn.Sequential(\n",
    "#             nn.Linear(in_size, hidden_size),\n",
    "#             nn.LeakyReLU(),\n",
    "#             nn.BatchNorm1d(hidden_size),\n",
    "#             nn.Linear(hidden_size, hidden_size // 2),\n",
    "#             nn.LeakyReLU(),\n",
    "#             nn.BatchNorm1d(hidden_size // 2),\n",
    "#             nn.Linear(hidden_size // 2, out_size),\n",
    "#             nn.Sigmoid()\n",
    "#         )\n",
    "        self.layer = nn.Sequential(\n",
    "            nn.Linear(in_size, hidden_size),\n",
    "            nn.ReLU(),\n",
    "            nn.Linear(hidden_size, hidden_size),\n",
    "            nn.ReLU(),\n",
    "            nn.Linear(hidden_size, out_size),\n",
    "            nn.ReLU()\n",
    "        )\n",
    "        \n",
    "    def forward(self, x):\n",
    "        x = x.view(x.size(0), -1)\n",
    "        x = self.layer(x)\n",
    "        return x"
   ]
  },
  {
   "cell_type": "code",
   "execution_count": 8,
   "metadata": {},
   "outputs": [],
   "source": [
    "def train(trainloader, model, loss_fn, optimizer, device):\n",
    "    model.train()\n",
    "    total_loss = 0\n",
    "    for batch_idx, (inputs, targets) in enumerate(trainloader):\n",
    "        inputs, targets = inputs.type('torch.FloatTensor').to(device), targets.to(device)\n",
    "        optimizer.zero_grad()\n",
    "        outputs = model(inputs)\n",
    "        loss = loss_fn(outputs, targets)\n",
    "        total_loss += loss.item()\n",
    "        loss.backward()\n",
    "        optimizer.step()\n",
    "    average_loss = total_loss / (batch_idx + 1)\n",
    "    return average_loss\n",
    "\n",
    "def evaluate(testloader, model, loss_fn, device):\n",
    "    with torch.no_grad():\n",
    "        model.eval()\n",
    "        test_loss = 0\n",
    "        correct = 0\n",
    "        total = 0\n",
    "        for batch_idx, (inputs, targets) in enumerate(testloader):\n",
    "            inputs, targets = inputs.type('torch.FloatTensor').to(device), targets.to(device)\n",
    "            outputs = model(inputs)\n",
    "            loss = loss_fn(outputs, targets)\n",
    "            test_loss += loss.item()\n",
    "            _, predicted = outputs.max(1)\n",
    "            total += targets.size(0)\n",
    "            correct += predicted.eq(targets).sum().item()\n",
    "    average_loss = test_loss / (batch_idx + 1)\n",
    "    return average_loss, correct / total"
   ]
  },
  {
   "cell_type": "code",
   "execution_count": 9,
   "metadata": {
    "_cell_guid": "b1076dfc-b9ad-4769-8c92-a6c4dae69d19",
    "_uuid": "8f2839f25d086af736a60e9eeb907d3b93b6e0e5"
   },
   "outputs": [],
   "source": [
    "def fit(trainloader, model, loss_fn, optimizer, scheduler, epochs, device):\n",
    "    train_accs = []\n",
    "    train_losses = []\n",
    "    \n",
    "    for epoch in range(epochs):\n",
    "        train_loss = train(trainloader, model, loss_fn, optimizer, device)\n",
    "        _, train_accuracy = evaluate(trainloader, model, loss_fn, device)\n",
    "        message = 'Epoch: {}/{}. Train set: Average loss: {:.4f}, Accuracy: {:.4f}'.format(epoch+1, \\\n",
    "                                                                epochs, train_loss, train_accuracy)\n",
    "        print(message)\n",
    "    \n",
    "        train_accs.append(train_accuracy)\n",
    "        train_losses.append(train_loss)\n",
    "        \n",
    "        scheduler.step()\n",
    "    return train_accs, train_losses"
   ]
  },
  {
   "cell_type": "code",
   "execution_count": 10,
   "metadata": {},
   "outputs": [],
   "source": [
    "def show_curve(ys, title):\n",
    "    x = np.array(range(len(ys)))\n",
    "    y = np.array(ys)\n",
    "    plt.plot(x, y, c='b')\n",
    "    plt.axis()\n",
    "    plt.title('{} Curve:'.format(title))\n",
    "    plt.xlabel('Epoch')\n",
    "    plt.ylabel('{} Value'.format(title))\n",
    "    plt.show()"
   ]
  },
  {
   "cell_type": "code",
   "execution_count": 11,
   "metadata": {},
   "outputs": [],
   "source": [
    "def weight_bias_reset(model):\n",
    "    for m in model.modules():\n",
    "        if isinstance(m, nn.Linear):\n",
    "            mean, std = 0, 0.1 \n",
    "            torch.nn.init.normal_(m.weight, mean, std)\n",
    "            torch.nn.init.normal_(m.bias, mean, std)"
   ]
  },
  {
   "cell_type": "code",
   "execution_count": 12,
   "metadata": {},
   "outputs": [
    {
     "name": "stdout",
     "output_type": "stream",
     "text": [
      "Epoch: 1/200. Train set: Average loss: 0.6956, Accuracy: 0.5154\n",
      "Epoch: 2/200. Train set: Average loss: 0.6884, Accuracy: 0.5156\n",
      "Epoch: 3/200. Train set: Average loss: 0.6820, Accuracy: 0.5157\n",
      "Epoch: 4/200. Train set: Average loss: 0.6762, Accuracy: 0.5158\n",
      "Epoch: 5/200. Train set: Average loss: 0.6737, Accuracy: 0.5159\n",
      "Epoch: 6/200. Train set: Average loss: 0.6726, Accuracy: 0.5159\n",
      "Epoch: 7/200. Train set: Average loss: 0.6720, Accuracy: 0.5159\n",
      "Epoch: 8/200. Train set: Average loss: 0.6716, Accuracy: 0.5160\n",
      "Epoch: 9/200. Train set: Average loss: 0.6713, Accuracy: 0.5160\n",
      "Epoch: 10/200. Train set: Average loss: 0.6710, Accuracy: 0.5162\n",
      "Epoch: 11/200. Train set: Average loss: 0.6709, Accuracy: 0.5163\n",
      "Epoch: 12/200. Train set: Average loss: 0.6707, Accuracy: 0.5165\n",
      "Epoch: 13/200. Train set: Average loss: 0.6706, Accuracy: 0.5169\n",
      "Epoch: 14/200. Train set: Average loss: 0.6705, Accuracy: 0.5180\n",
      "Epoch: 15/200. Train set: Average loss: 0.6704, Accuracy: 0.5202\n",
      "Epoch: 16/200. Train set: Average loss: 0.6702, Accuracy: 0.5267\n",
      "Epoch: 17/200. Train set: Average loss: 0.6694, Accuracy: 0.5428\n",
      "Epoch: 18/200. Train set: Average loss: 0.6672, Accuracy: 0.5655\n",
      "Epoch: 19/200. Train set: Average loss: 0.6636, Accuracy: 0.5927\n",
      "Epoch: 20/200. Train set: Average loss: 0.6594, Accuracy: 0.6074\n",
      "Epoch: 21/200. Train set: Average loss: 0.6564, Accuracy: 0.6089\n",
      "Epoch: 22/200. Train set: Average loss: 0.6551, Accuracy: 0.6095\n",
      "Epoch: 23/200. Train set: Average loss: 0.6544, Accuracy: 0.6098\n",
      "Epoch: 24/200. Train set: Average loss: 0.6539, Accuracy: 0.6102\n",
      "Epoch: 25/200. Train set: Average loss: 0.6536, Accuracy: 0.6106\n",
      "Epoch: 26/200. Train set: Average loss: 0.6533, Accuracy: 0.6109\n",
      "Epoch: 27/200. Train set: Average loss: 0.6531, Accuracy: 0.6112\n",
      "Epoch: 28/200. Train set: Average loss: 0.6530, Accuracy: 0.6112\n",
      "Epoch: 29/200. Train set: Average loss: 0.6528, Accuracy: 0.6116\n",
      "Epoch: 30/200. Train set: Average loss: 0.6527, Accuracy: 0.6117\n",
      "Epoch: 31/200. Train set: Average loss: 0.6527, Accuracy: 0.6121\n",
      "Epoch: 32/200. Train set: Average loss: 0.6526, Accuracy: 0.6123\n",
      "Epoch: 33/200. Train set: Average loss: 0.6525, Accuracy: 0.6126\n",
      "Epoch: 34/200. Train set: Average loss: 0.6525, Accuracy: 0.6128\n",
      "Epoch: 35/200. Train set: Average loss: 0.6525, Accuracy: 0.6131\n",
      "Epoch: 36/200. Train set: Average loss: 0.6524, Accuracy: 0.6131\n",
      "Epoch: 37/200. Train set: Average loss: 0.6524, Accuracy: 0.6133\n",
      "Epoch: 38/200. Train set: Average loss: 0.6524, Accuracy: 0.6137\n",
      "Epoch: 39/200. Train set: Average loss: 0.6524, Accuracy: 0.6140\n",
      "Epoch: 40/200. Train set: Average loss: 0.6524, Accuracy: 0.6141\n",
      "Epoch: 41/200. Train set: Average loss: 0.6524, Accuracy: 0.6143\n",
      "Epoch: 42/200. Train set: Average loss: 0.6524, Accuracy: 0.6144\n",
      "Epoch: 43/200. Train set: Average loss: 0.6524, Accuracy: 0.6145\n",
      "Epoch: 44/200. Train set: Average loss: 0.6524, Accuracy: 0.6148\n",
      "Epoch: 45/200. Train set: Average loss: 0.6524, Accuracy: 0.6150\n",
      "Epoch: 46/200. Train set: Average loss: 0.6524, Accuracy: 0.6151\n",
      "Epoch: 47/200. Train set: Average loss: 0.6524, Accuracy: 0.6155\n",
      "Epoch: 48/200. Train set: Average loss: 0.6524, Accuracy: 0.6156\n",
      "Epoch: 49/200. Train set: Average loss: 0.6524, Accuracy: 0.6155\n",
      "Epoch: 50/200. Train set: Average loss: 0.6524, Accuracy: 0.6156\n",
      "Epoch: 51/200. Train set: Average loss: 0.6524, Accuracy: 0.6156\n",
      "Epoch: 52/200. Train set: Average loss: 0.6528, Accuracy: 0.6170\n",
      "Epoch: 53/200. Train set: Average loss: 0.6525, Accuracy: 0.6171\n",
      "Epoch: 54/200. Train set: Average loss: 0.6525, Accuracy: 0.6171\n",
      "Epoch: 55/200. Train set: Average loss: 0.6525, Accuracy: 0.6171\n",
      "Epoch: 56/200. Train set: Average loss: 0.6525, Accuracy: 0.6171\n",
      "Epoch: 57/200. Train set: Average loss: 0.6525, Accuracy: 0.6171\n",
      "Epoch: 58/200. Train set: Average loss: 0.6525, Accuracy: 0.6170\n",
      "Epoch: 59/200. Train set: Average loss: 0.6525, Accuracy: 0.6171\n",
      "Epoch: 60/200. Train set: Average loss: 0.6525, Accuracy: 0.6171\n",
      "Epoch: 61/200. Train set: Average loss: 0.6525, Accuracy: 0.6170\n",
      "Epoch: 62/200. Train set: Average loss: 0.6525, Accuracy: 0.6171\n",
      "Epoch: 63/200. Train set: Average loss: 0.6525, Accuracy: 0.6171\n",
      "Epoch: 64/200. Train set: Average loss: 0.6525, Accuracy: 0.6171\n",
      "Epoch: 65/200. Train set: Average loss: 0.6525, Accuracy: 0.6171\n",
      "Epoch: 66/200. Train set: Average loss: 0.6525, Accuracy: 0.6171\n",
      "Epoch: 67/200. Train set: Average loss: 0.6525, Accuracy: 0.6170\n",
      "Epoch: 68/200. Train set: Average loss: 0.6525, Accuracy: 0.6170\n",
      "Epoch: 69/200. Train set: Average loss: 0.6525, Accuracy: 0.6170\n",
      "Epoch: 70/200. Train set: Average loss: 0.6525, Accuracy: 0.6170\n",
      "Epoch: 71/200. Train set: Average loss: 0.6525, Accuracy: 0.6170\n",
      "Epoch: 72/200. Train set: Average loss: 0.6525, Accuracy: 0.6169\n",
      "Epoch: 73/200. Train set: Average loss: 0.6525, Accuracy: 0.6169\n",
      "Epoch: 74/200. Train set: Average loss: 0.6525, Accuracy: 0.6169\n",
      "Epoch: 75/200. Train set: Average loss: 0.6525, Accuracy: 0.6168\n",
      "Epoch: 76/200. Train set: Average loss: 0.6525, Accuracy: 0.6169\n",
      "Epoch: 77/200. Train set: Average loss: 0.6525, Accuracy: 0.6169\n",
      "Epoch: 78/200. Train set: Average loss: 0.6525, Accuracy: 0.6169\n",
      "Epoch: 79/200. Train set: Average loss: 0.6525, Accuracy: 0.6169\n",
      "Epoch: 80/200. Train set: Average loss: 0.6525, Accuracy: 0.6169\n",
      "Epoch: 81/200. Train set: Average loss: 0.6525, Accuracy: 0.6169\n",
      "Epoch: 82/200. Train set: Average loss: 0.6525, Accuracy: 0.6169\n",
      "Epoch: 83/200. Train set: Average loss: 0.6525, Accuracy: 0.6169\n",
      "Epoch: 84/200. Train set: Average loss: 0.6525, Accuracy: 0.6169\n",
      "Epoch: 85/200. Train set: Average loss: 0.6525, Accuracy: 0.6169\n",
      "Epoch: 86/200. Train set: Average loss: 0.6526, Accuracy: 0.6169\n",
      "Epoch: 87/200. Train set: Average loss: 0.6526, Accuracy: 0.6169\n",
      "Epoch: 88/200. Train set: Average loss: 0.6526, Accuracy: 0.6169\n",
      "Epoch: 89/200. Train set: Average loss: 0.6526, Accuracy: 0.6170\n",
      "Epoch: 90/200. Train set: Average loss: 0.6526, Accuracy: 0.6169\n",
      "Epoch: 91/200. Train set: Average loss: 0.6526, Accuracy: 0.6170\n",
      "Epoch: 92/200. Train set: Average loss: 0.6526, Accuracy: 0.6169\n",
      "Epoch: 93/200. Train set: Average loss: 0.6526, Accuracy: 0.6169\n",
      "Epoch: 94/200. Train set: Average loss: 0.6526, Accuracy: 0.6169\n",
      "Epoch: 95/200. Train set: Average loss: 0.6526, Accuracy: 0.6169\n",
      "Epoch: 96/200. Train set: Average loss: 0.6526, Accuracy: 0.6169\n",
      "Epoch: 97/200. Train set: Average loss: 0.6526, Accuracy: 0.6170\n",
      "Epoch: 98/200. Train set: Average loss: 0.6526, Accuracy: 0.6169\n",
      "Epoch: 99/200. Train set: Average loss: 0.6526, Accuracy: 0.6170\n",
      "Epoch: 100/200. Train set: Average loss: 0.6526, Accuracy: 0.6170\n",
      "Epoch: 101/200. Train set: Average loss: 0.6526, Accuracy: 0.6171\n",
      "Epoch: 102/200. Train set: Average loss: 0.6526, Accuracy: 0.6170\n",
      "Epoch: 103/200. Train set: Average loss: 0.6525, Accuracy: 0.6169\n",
      "Epoch: 104/200. Train set: Average loss: 0.6525, Accuracy: 0.6170\n",
      "Epoch: 105/200. Train set: Average loss: 0.6525, Accuracy: 0.6169\n",
      "Epoch: 106/200. Train set: Average loss: 0.6525, Accuracy: 0.6169\n",
      "Epoch: 107/200. Train set: Average loss: 0.6525, Accuracy: 0.6169\n",
      "Epoch: 108/200. Train set: Average loss: 0.6525, Accuracy: 0.6168\n",
      "Epoch: 109/200. Train set: Average loss: 0.6525, Accuracy: 0.6168\n",
      "Epoch: 110/200. Train set: Average loss: 0.6525, Accuracy: 0.6168\n",
      "Epoch: 111/200. Train set: Average loss: 0.6525, Accuracy: 0.6168\n",
      "Epoch: 112/200. Train set: Average loss: 0.6525, Accuracy: 0.6168\n",
      "Epoch: 113/200. Train set: Average loss: 0.6525, Accuracy: 0.6168\n",
      "Epoch: 114/200. Train set: Average loss: 0.6525, Accuracy: 0.6168\n",
      "Epoch: 115/200. Train set: Average loss: 0.6525, Accuracy: 0.6168\n",
      "Epoch: 116/200. Train set: Average loss: 0.6525, Accuracy: 0.6168\n",
      "Epoch: 117/200. Train set: Average loss: 0.6525, Accuracy: 0.6168\n",
      "Epoch: 118/200. Train set: Average loss: 0.6525, Accuracy: 0.6169\n",
      "Epoch: 119/200. Train set: Average loss: 0.6525, Accuracy: 0.6169\n",
      "Epoch: 120/200. Train set: Average loss: 0.6525, Accuracy: 0.6169\n",
      "Epoch: 121/200. Train set: Average loss: 0.6525, Accuracy: 0.6169\n",
      "Epoch: 122/200. Train set: Average loss: 0.6525, Accuracy: 0.6169\n",
      "Epoch: 123/200. Train set: Average loss: 0.6525, Accuracy: 0.6169\n",
      "Epoch: 124/200. Train set: Average loss: 0.6525, Accuracy: 0.6169\n",
      "Epoch: 125/200. Train set: Average loss: 0.6525, Accuracy: 0.6168\n",
      "Epoch: 126/200. Train set: Average loss: 0.6525, Accuracy: 0.6168\n",
      "Epoch: 127/200. Train set: Average loss: 0.6525, Accuracy: 0.6168\n",
      "Epoch: 128/200. Train set: Average loss: 0.6525, Accuracy: 0.6168\n",
      "Epoch: 129/200. Train set: Average loss: 0.6526, Accuracy: 0.6168\n",
      "Epoch: 130/200. Train set: Average loss: 0.6526, Accuracy: 0.6168\n",
      "Epoch: 131/200. Train set: Average loss: 0.6526, Accuracy: 0.6168\n",
      "Epoch: 132/200. Train set: Average loss: 0.6526, Accuracy: 0.6168\n",
      "Epoch: 133/200. Train set: Average loss: 0.6526, Accuracy: 0.6168\n",
      "Epoch: 134/200. Train set: Average loss: 0.6526, Accuracy: 0.6169\n",
      "Epoch: 135/200. Train set: Average loss: 0.6526, Accuracy: 0.6168\n",
      "Epoch: 136/200. Train set: Average loss: 0.6526, Accuracy: 0.6168\n",
      "Epoch: 137/200. Train set: Average loss: 0.6526, Accuracy: 0.6168\n",
      "Epoch: 138/200. Train set: Average loss: 0.6526, Accuracy: 0.6168\n",
      "Epoch: 139/200. Train set: Average loss: 0.6526, Accuracy: 0.6168\n",
      "Epoch: 140/200. Train set: Average loss: 0.6526, Accuracy: 0.6168\n",
      "Epoch: 141/200. Train set: Average loss: 0.6526, Accuracy: 0.6168\n",
      "Epoch: 142/200. Train set: Average loss: 0.6526, Accuracy: 0.6169\n",
      "Epoch: 143/200. Train set: Average loss: 0.6526, Accuracy: 0.6169\n",
      "Epoch: 144/200. Train set: Average loss: 0.6526, Accuracy: 0.6169\n",
      "Epoch: 145/200. Train set: Average loss: 0.6526, Accuracy: 0.6169\n",
      "Epoch: 146/200. Train set: Average loss: 0.6526, Accuracy: 0.6169\n",
      "Epoch: 147/200. Train set: Average loss: 0.6526, Accuracy: 0.6169\n",
      "Epoch: 148/200. Train set: Average loss: 0.6526, Accuracy: 0.6169\n",
      "Epoch: 149/200. Train set: Average loss: 0.6526, Accuracy: 0.6169\n",
      "Epoch: 150/200. Train set: Average loss: 0.6526, Accuracy: 0.6169\n",
      "Epoch: 151/200. Train set: Average loss: 0.6526, Accuracy: 0.6168\n",
      "Epoch: 152/200. Train set: Average loss: 0.6525, Accuracy: 0.6167\n",
      "Epoch: 153/200. Train set: Average loss: 0.6525, Accuracy: 0.6167\n",
      "Epoch: 154/200. Train set: Average loss: 0.6525, Accuracy: 0.6167\n",
      "Epoch: 155/200. Train set: Average loss: 0.6525, Accuracy: 0.6167\n",
      "Epoch: 156/200. Train set: Average loss: 0.6525, Accuracy: 0.6168\n",
      "Epoch: 157/200. Train set: Average loss: 0.6525, Accuracy: 0.6168\n",
      "Epoch: 158/200. Train set: Average loss: 0.6525, Accuracy: 0.6168\n",
      "Epoch: 159/200. Train set: Average loss: 0.6525, Accuracy: 0.6168\n",
      "Epoch: 160/200. Train set: Average loss: 0.6525, Accuracy: 0.6168\n",
      "Epoch: 161/200. Train set: Average loss: 0.6525, Accuracy: 0.6168\n",
      "Epoch: 162/200. Train set: Average loss: 0.6525, Accuracy: 0.6168\n",
      "Epoch: 163/200. Train set: Average loss: 0.6525, Accuracy: 0.6169\n",
      "Epoch: 164/200. Train set: Average loss: 0.6525, Accuracy: 0.6168\n",
      "Epoch: 165/200. Train set: Average loss: 0.6525, Accuracy: 0.6168\n",
      "Epoch: 166/200. Train set: Average loss: 0.6525, Accuracy: 0.6168\n",
      "Epoch: 167/200. Train set: Average loss: 0.6525, Accuracy: 0.6168\n",
      "Epoch: 168/200. Train set: Average loss: 0.6525, Accuracy: 0.6168\n",
      "Epoch: 169/200. Train set: Average loss: 0.6525, Accuracy: 0.6168\n",
      "Epoch: 170/200. Train set: Average loss: 0.6525, Accuracy: 0.6168\n",
      "Epoch: 171/200. Train set: Average loss: 0.6525, Accuracy: 0.6168\n",
      "Epoch: 172/200. Train set: Average loss: 0.6525, Accuracy: 0.6168\n",
      "Epoch: 173/200. Train set: Average loss: 0.6525, Accuracy: 0.6168\n",
      "Epoch: 174/200. Train set: Average loss: 0.6525, Accuracy: 0.6168\n",
      "Epoch: 175/200. Train set: Average loss: 0.6525, Accuracy: 0.6168\n",
      "Epoch: 176/200. Train set: Average loss: 0.6525, Accuracy: 0.6168\n",
      "Epoch: 177/200. Train set: Average loss: 0.6525, Accuracy: 0.6169\n",
      "Epoch: 178/200. Train set: Average loss: 0.6525, Accuracy: 0.6168\n",
      "Epoch: 179/200. Train set: Average loss: 0.6525, Accuracy: 0.6168\n",
      "Epoch: 180/200. Train set: Average loss: 0.6525, Accuracy: 0.6168\n",
      "Epoch: 181/200. Train set: Average loss: 0.6525, Accuracy: 0.6168\n",
      "Epoch: 182/200. Train set: Average loss: 0.6525, Accuracy: 0.6168\n",
      "Epoch: 183/200. Train set: Average loss: 0.6525, Accuracy: 0.6168\n",
      "Epoch: 184/200. Train set: Average loss: 0.6525, Accuracy: 0.6168\n",
      "Epoch: 185/200. Train set: Average loss: 0.6525, Accuracy: 0.6168\n",
      "Epoch: 186/200. Train set: Average loss: 0.6525, Accuracy: 0.6168\n",
      "Epoch: 187/200. Train set: Average loss: 0.6525, Accuracy: 0.6168\n",
      "Epoch: 188/200. Train set: Average loss: 0.6525, Accuracy: 0.6168\n",
      "Epoch: 189/200. Train set: Average loss: 0.6525, Accuracy: 0.6168\n",
      "Epoch: 190/200. Train set: Average loss: 0.6525, Accuracy: 0.6168\n",
      "Epoch: 191/200. Train set: Average loss: 0.6525, Accuracy: 0.6168\n",
      "Epoch: 192/200. Train set: Average loss: 0.6525, Accuracy: 0.6168\n",
      "Epoch: 193/200. Train set: Average loss: 0.6525, Accuracy: 0.6168\n",
      "Epoch: 194/200. Train set: Average loss: 0.6525, Accuracy: 0.6167\n",
      "Epoch: 195/200. Train set: Average loss: 0.6525, Accuracy: 0.6167\n",
      "Epoch: 196/200. Train set: Average loss: 0.6525, Accuracy: 0.6167\n",
      "Epoch: 197/200. Train set: Average loss: 0.6525, Accuracy: 0.6167\n",
      "Epoch: 198/200. Train set: Average loss: 0.6525, Accuracy: 0.6168\n",
      "Epoch: 199/200. Train set: Average loss: 0.6525, Accuracy: 0.6168\n",
      "Epoch: 200/200. Train set: Average loss: 0.6525, Accuracy: 0.6168\n"
     ]
    },
    {
     "data": {
      "image/png": "[encoded data removed]",
      "text/plain": [
       "<Figure size 432x288 with 1 Axes>"
      ]
     },
     "metadata": {},
     "output_type": "display_data"
    },
    {
     "data": {
      "image/png": "[encoded data removed]",
      "text/plain": [
       "<Figure size 432x288 with 1 Axes>"
      ]
     },
     "metadata": {},
     "output_type": "display_data"
    }
   ],
   "source": [
    "epochs = 200\n",
    "learning_rate = 0.001\n",
    "hidden_size = 256\n",
    "device = 'cuda:0' if is_cuda else 'cpu'\n",
    "\n",
    "model = NeuralNetwork(32, hidden_size, 2)\n",
    "if is_cuda:\n",
    "    model = model.to(device)\n",
    "loss_fn = nn.CrossEntropyLoss().to(device)\n",
    "# loss_fn = nn.BCEWithLogitsLoss()\n",
    "optimizer = torch.optim.SGD(model.parameters(), lr=learning_rate, momentum=0.9, weight_decay=0.01)\n",
    "scheduler = torch.optim.lr_scheduler.StepLR(optimizer, step_size=50, gamma=0.5)\n",
    "weight_bias_reset(model)\n",
    "train_accs, train_losses = fit(trainloader, model, loss_fn, optimizer, scheduler, epochs, device)\n",
    "show_curve(train_accs, 'accuracy')\n",
    "show_curve(train_losses, 'loss')"
   ]
  },
  {
   "cell_type": "code",
   "execution_count": 13,
   "metadata": {},
   "outputs": [],
   "source": [
    "def get_test_result(testloader, model, device):\n",
    "    model.eval()\n",
    "    with torch.no_grad():\n",
    "        for batch_idx, (inputs, _) in enumerate(testloader):\n",
    "            inputs = inputs.type('torch.FloatTensor').to(device)\n",
    "            outputs = model(inputs)\n",
    "            _, predicted = outputs.max(1)\n",
    "            if batch_idx == 0:\n",
    "                result = predicted\n",
    "            else:\n",
    "                result = torch.cat([result, predicted], 0)\n",
    "        print(result.sum())\n",
    "    return result"
   ]
  },
  {
   "cell_type": "code",
   "execution_count": 14,
   "metadata": {},
   "outputs": [
    {
     "name": "stdout",
     "output_type": "stream",
     "text": [
      "tensor(106575)\n"
     ]
    }
   ],
   "source": [
    "result = get_test_result(testloader, model, device)\n",
    "arr = result.cpu().numpy()\n",
    "df = pd.DataFrame({ 'id': range(1, arr.size + 1), 'Predicted': arr })\n",
    "df.to_csv('./nn.csv', index=False)"
   ]
  }
 ],
 "metadata": {
  "kernelspec": {
   "display_name": "Python 3",
   "language": "python",
   "name": "python3"
  },
  "language_info": {
   "codemirror_mode": {
    "name": "ipython",
    "version": 3
   },
   "file_extension": ".py",
   "mimetype": "text/x-python",
   "name": "python",
   "nbconvert_exporter": "python",
   "pygments_lexer": "ipython3",
   "version": "3.6.6"
  }
 },
 "nbformat": 4,
 "nbformat_minor": 1
}
