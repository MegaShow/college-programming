{
 "cells": [
  {
   "cell_type": "code",
   "execution_count": 1,
   "metadata": {
    "_cell_guid": "b1076dfc-b9ad-4769-8c92-a6c4dae69d19",
    "_uuid": "8f2839f25d086af736a60e9eeb907d3b93b6e0e5"
   },
   "outputs": [
    {
     "name": "stdout",
     "output_type": "stream",
     "text": [
      "['train label.csv', 'dataset']\n"
     ]
    }
   ],
   "source": [
    "import os\n",
    "print(os.listdir(\"../input\"))"
   ]
  },
  {
   "cell_type": "code",
   "execution_count": 2,
   "metadata": {},
   "outputs": [],
   "source": [
    "from PIL import Image\n",
    "import matplotlib.pyplot as plt\n",
    "import numpy as np\n",
    "import pandas as pd\n",
    "import time\n",
    "import torch\n",
    "import torch.nn as nn\n",
    "from torch.optim import lr_scheduler\n",
    "from torch.utils.data import Dataset, DataLoader\n",
    "import torchvision\n",
    "from torchvision import transforms"
   ]
  },
  {
   "cell_type": "code",
   "execution_count": 3,
   "metadata": {},
   "outputs": [],
   "source": [
    "torch.cuda.set_device(0)\n",
    "device = torch.device('cuda:0')"
   ]
  },
  {
   "cell_type": "markdown",
   "metadata": {},
   "source": [
    "## 1. ResNet"
   ]
  },
  {
   "cell_type": "code",
   "execution_count": 4,
   "metadata": {},
   "outputs": [],
   "source": [
    "class ImageDataset(Dataset):\n",
    "    def __init__(self, csv_file, data_type='train'):\n",
    "        self.data_type = data_type\n",
    "        self.transform_fn = transforms.Compose([\n",
    "            transforms.Resize((350, 350)),\n",
    "            transforms.ToTensor()\n",
    "        ])\n",
    "        if self.data_type == 'train':\n",
    "            self.frame = pd.read_csv(csv_file).values\n",
    "        elif self.data_type == 'test':\n",
    "            self.frame = os.listdir('../input/dataset/image/test')\n",
    "        else:\n",
    "            raise 'Not support data_type %s' % self.data_type\n",
    "\n",
    "    def __len__(self):\n",
    "        return len(self.frame)\n",
    "\n",
    "    def __getitem__(self, i):\n",
    "        if self.data_type == 'train':\n",
    "            img = Image.open('../input/dataset/image/train/%s' % self.frame[i, 0]).convert('RGB')\n",
    "            feature = self.transform_fn(img)\n",
    "            label = self.frame[i, 1]\n",
    "            return (feature, label)\n",
    "        elif self.data_type == 'test':\n",
    "            img = Image.open('../input/dataset/image/test/%s' % self.frame[i]).convert('RGB')\n",
    "            feature = self.transform_fn(img)\n",
    "            return (feature, 0)\n",
    "        return None"
   ]
  },
  {
   "cell_type": "code",
   "execution_count": 5,
   "metadata": {},
   "outputs": [],
   "source": [
    "batch_size = 64\n",
    "\n",
    "trainset = ImageDataset('../input/train label.csv', 'train')\n",
    "trainloader = DataLoader(dataset=trainset, batch_size=batch_size, shuffle=True, num_workers=4)\n",
    "\n",
    "testset = ImageDataset(None, 'test')\n",
    "testloader = DataLoader(dataset=testset, batch_size=batch_size, shuffle=False, num_workers=4)"
   ]
  },
  {
   "cell_type": "code",
   "execution_count": 6,
   "metadata": {},
   "outputs": [],
   "source": [
    "def train(trainloader, model, loss_fn, optimizer,device):\n",
    "    model.train()\n",
    "    total_loss = 0\n",
    "    for batch_idx, (data, target) in enumerate(trainloader):\n",
    "        data, target = data.to(device), target.to(device)\n",
    "        optimizer.zero_grad()\n",
    "        outputs = model(data)\n",
    "        loss = loss_fn(outputs, target)\n",
    "        total_loss += loss.item()\n",
    "        loss.backward()\n",
    "        optimizer.step()\n",
    "    average_loss = total_loss / (batch_idx + 1)\n",
    "    return average_loss\n",
    "\n",
    "def evaluate(testloader, model, loss_fn, device):\n",
    "    with torch.no_grad():\n",
    "        model.eval()\n",
    "        correct = 0.0\n",
    "        total_loss = 0\n",
    "        for batch_idx, (data, target) in enumerate(testloader):\n",
    "            data, target = data.to(device), target.to(device)\n",
    "            outputs = model(data)\n",
    "            _, predicted = torch.max(outputs, 1)\n",
    "            correct += (predicted == target).cpu().sum().detach().numpy()\n",
    "            loss = loss_fn(outputs, target)\n",
    "            total_loss += loss.item()\n",
    "        accuracy = correct*100.0 / len(testloader.dataset)\n",
    "        average_loss = total_loss / (batch_idx + 1)\n",
    "    return average_loss, accuracy"
   ]
  },
  {
   "cell_type": "code",
   "execution_count": 7,
   "metadata": {},
   "outputs": [],
   "source": [
    "def fit(train_loader, model, loss_fn, optimizer, scheduler, n_epochs, device):\n",
    "    train_accs = []\n",
    "    train_losses = []\n",
    "\n",
    "    print('Fit start')\n",
    "    start_time = time.time()\n",
    "    for epoch in range(n_epochs):\n",
    "        train_loss= train(train_loader, model, loss_fn, optimizer, device=device)\n",
    "        _, train_accuracy = evaluate(train_loader, model, loss_fn, device=device)\n",
    "        \n",
    "        message = 'Epoch: {}/{}. Train set: Average loss: {:.4f}, Accuracy: {:.4f}'.format(epoch+1, \\\n",
    "                                                                n_epochs, train_loss, train_accuracy)\n",
    "        print(message)\n",
    "        print(\"Cost:\", time.time() - start_time)\n",
    "\n",
    "        train_accs.append(train_accuracy)\n",
    "        train_losses.append(train_loss)\n",
    "        scheduler.step()\n",
    "    print('Fit end')\n",
    "    return train_accs, train_losses"
   ]
  },
  {
   "cell_type": "code",
   "execution_count": 8,
   "metadata": {},
   "outputs": [],
   "source": [
    "def show_curve(ys, title):\n",
    "    x = np.array(range(len(ys)))\n",
    "    y = np.array(ys)\n",
    "    plt.plot(x, y, c='b')\n",
    "    plt.axis()\n",
    "    plt.title('{} Curve:'.format(title))\n",
    "    plt.xlabel('Epoch')\n",
    "    plt.ylabel('{} Value'.format(title))\n",
    "    plt.show()"
   ]
  },
  {
   "cell_type": "code",
   "execution_count": 9,
   "metadata": {},
   "outputs": [
    {
     "name": "stderr",
     "output_type": "stream",
     "text": [
      "Downloading: \"https://download.pytorch.org/models/resnet34-333f7ec4.pth\" to /tmp/.cache/torch/checkpoints/resnet34-333f7ec4.pth\n",
      "100%|██████████| 87306240/87306240 [00:01<00:00, 59119530.11it/s]\n"
     ]
    },
    {
     "name": "stdout",
     "output_type": "stream",
     "text": [
      "Fit start\n",
      "Epoch: 1/30. Train set: Average loss: 0.6783, Accuracy: 88.9491\n",
      "Cost: 245.8003008365631\n",
      "Epoch: 2/30. Train set: Average loss: 0.2970, Accuracy: 92.7071\n",
      "Cost: 497.5570938587189\n",
      "Epoch: 3/30. Train set: Average loss: 0.1955, Accuracy: 92.3841\n",
      "Cost: 738.3637852668762\n",
      "Epoch: 4/30. Train set: Average loss: 0.1336, Accuracy: 92.8497\n",
      "Cost: 982.6039950847626\n",
      "Epoch: 5/30. Train set: Average loss: 0.0949, Accuracy: 96.6220\n",
      "Cost: 1218.4251017570496\n",
      "Epoch: 6/30. Train set: Average loss: 0.0709, Accuracy: 97.9666\n",
      "Cost: 1452.3085570335388\n",
      "Epoch: 7/30. Train set: Average loss: 0.0257, Accuracy: 99.8717\n",
      "Cost: 1684.6923298835754\n",
      "Epoch: 8/30. Train set: Average loss: 0.0095, Accuracy: 99.8765\n",
      "Cost: 1916.434635400772\n",
      "Epoch: 9/30. Train set: Average loss: 0.0066, Accuracy: 99.9002\n",
      "Cost: 2147.653678894043\n",
      "Epoch: 10/30. Train set: Average loss: 0.0053, Accuracy: 99.9192\n",
      "Cost: 2378.4302971363068\n",
      "Epoch: 11/30. Train set: Average loss: 0.0046, Accuracy: 99.9097\n",
      "Cost: 2610.2387969493866\n",
      "Epoch: 12/30. Train set: Average loss: 0.0035, Accuracy: 99.9192\n",
      "Cost: 2840.2053570747375\n",
      "Epoch: 13/30. Train set: Average loss: 0.0029, Accuracy: 99.9192\n",
      "Cost: 3070.2152268886566\n",
      "Epoch: 14/30. Train set: Average loss: 0.0025, Accuracy: 99.9240\n",
      "Cost: 3299.7286093235016\n",
      "Epoch: 15/30. Train set: Average loss: 0.0023, Accuracy: 99.9240\n",
      "Cost: 3529.6019518375397\n",
      "Epoch: 16/30. Train set: Average loss: 0.0023, Accuracy: 99.9240\n",
      "Cost: 3759.2799236774445\n",
      "Epoch: 17/30. Train set: Average loss: 0.0022, Accuracy: 99.9240\n",
      "Cost: 3988.9871125221252\n",
      "Epoch: 18/30. Train set: Average loss: 0.0023, Accuracy: 99.9192\n",
      "Cost: 4217.994400024414\n",
      "Epoch: 19/30. Train set: Average loss: 0.0019, Accuracy: 99.9240\n",
      "Cost: 4447.772457122803\n",
      "Epoch: 20/30. Train set: Average loss: 0.0020, Accuracy: 99.9240\n",
      "Cost: 4676.442782878876\n",
      "Epoch: 21/30. Train set: Average loss: 0.0019, Accuracy: 99.9240\n",
      "Cost: 4906.064531803131\n",
      "Epoch: 22/30. Train set: Average loss: 0.0020, Accuracy: 99.9240\n",
      "Cost: 5135.523351430893\n",
      "Epoch: 23/30. Train set: Average loss: 0.0021, Accuracy: 99.9240\n",
      "Cost: 5364.365376710892\n",
      "Epoch: 24/30. Train set: Average loss: 0.0018, Accuracy: 99.9240\n",
      "Cost: 5593.113879442215\n",
      "Epoch: 25/30. Train set: Average loss: 0.0018, Accuracy: 99.9240\n",
      "Cost: 5821.717133283615\n",
      "Epoch: 26/30. Train set: Average loss: 0.0019, Accuracy: 99.9240\n",
      "Cost: 6050.584810972214\n",
      "Epoch: 27/30. Train set: Average loss: 0.0016, Accuracy: 99.9240\n",
      "Cost: 6279.316712856293\n",
      "Epoch: 28/30. Train set: Average loss: 0.0017, Accuracy: 99.9240\n",
      "Cost: 6507.956127166748\n",
      "Epoch: 29/30. Train set: Average loss: 0.0017, Accuracy: 99.9240\n",
      "Cost: 6736.368175983429\n",
      "Epoch: 30/30. Train set: Average loss: 0.0018, Accuracy: 99.9240\n",
      "Cost: 6965.27156996727\n",
      "Fit end\n"
     ]
    },
    {
     "data": {
      "image/png": "[encoded data removed]",
      "text/plain": [
       "<Figure size 432x288 with 1 Axes>"
      ]
     },
     "metadata": {
      "needs_background": "light"
     },
     "output_type": "display_data"
    },
    {
     "data": {
      "image/png": "[encoded data removed]",
      "text/plain": [
       "<Figure size 432x288 with 1 Axes>"
      ]
     },
     "metadata": {
      "needs_background": "light"
     },
     "output_type": "display_data"
    }
   ],
   "source": [
    "n_epochs = 30\n",
    "learning_rate = 0.01\n",
    "\n",
    "model = torchvision.models.resnet34(pretrained=True).to(device)\n",
    "loss_fn = torch.nn.CrossEntropyLoss()\n",
    "optimizer = torch.optim.SGD(model.parameters(), lr=learning_rate, momentum=0.9)\n",
    "scheduler = torch.optim.lr_scheduler.StepLR(optimizer, step_size=6, gamma=0.5)\n",
    "train_accs, train_losses = fit(trainloader, model, loss_fn, optimizer, scheduler, n_epochs, device)\n",
    "show_curve(train_accs, 'accuracy')\n",
    "show_curve(train_losses, 'loss')"
   ]
  },
  {
   "cell_type": "code",
   "execution_count": 10,
   "metadata": {},
   "outputs": [],
   "source": [
    "def get_test_result(testloader, model, device):\n",
    "    model.eval()\n",
    "    with torch.no_grad():\n",
    "        for batch_idx, (inputs, _) in enumerate(testloader):\n",
    "            inputs = inputs.to(device)\n",
    "            outputs = model(inputs)\n",
    "            _, predicted = outputs.max(1)\n",
    "            if batch_idx == 0:\n",
    "                result = predicted\n",
    "            else:\n",
    "                result = torch.cat([result, predicted], 0)\n",
    "    return result"
   ]
  },
  {
   "cell_type": "code",
   "execution_count": 11,
   "metadata": {},
   "outputs": [
    {
     "name": "stdout",
     "output_type": "stream",
     "text": [
      "                  Image  Cloth_label\n",
      "0      1284435479_0.jpg            6\n",
      "1      1349231750_0.jpg            6\n",
      "2      1091302340_0.jpg            7\n",
      "3      1161240451_0.jpg            6\n",
      "4      1062697695_0.jpg            6\n",
      "5      1190892145_0.jpg            5\n",
      "6      1303701329_0.jpg            3\n",
      "7      1044877955_0.jpg            3\n",
      "8      1018025143_0.jpg            5\n",
      "9      1489565201_0.jpg            4\n",
      "10     1029014607_0.jpg            5\n",
      "11     1036137089_0.jpg            3\n",
      "12     1264603468_0.jpg            7\n",
      "13     1082599717_0.jpg            7\n",
      "14     1330526512_0.jpg            7\n",
      "15     1482292533_0.jpg            3\n",
      "16     1114667779_0.jpg            4\n",
      "17     1076129978_0.jpg            7\n",
      "18     1016487823_0.jpg            7\n",
      "19     1036522015_0.jpg            0\n",
      "20     1167034175_0.jpg            0\n",
      "21     1421717323_0.jpg            5\n",
      "22     1016504505_0.jpg            3\n",
      "23     1486465210_0.jpg            1\n",
      "24     1309775983_0.jpg            5\n",
      "25     1267915461_0.jpg            7\n",
      "26     1076267185_0.jpg            7\n",
      "27     1330062212_0.jpg            6\n",
      "28     1452048636_0.jpg            5\n",
      "29    10097079742_0.jpg            0\n",
      "...                 ...          ...\n",
      "4470   1491479464_0.jpg            4\n",
      "4471   1090531135_0.jpg            7\n",
      "4472   1473862024_0.jpg            7\n",
      "4473   1473544140_0.jpg            7\n",
      "4474   1241352398_0.jpg            6\n",
      "4475   1313689818_0.jpg            5\n",
      "4476   1298409877_0.jpg            7\n",
      "4477   1217700148_0.jpg            7\n",
      "4478   1403411123_0.jpg            6\n",
      "4479   1468027610_0.jpg            5\n",
      "4480   1413299590_0.jpg            5\n",
      "4481   1034406739_0.jpg            4\n",
      "4482   1021112938_0.jpg            3\n",
      "4483   1227787437_0.jpg            2\n",
      "4484   1190016327_0.jpg            3\n",
      "4485   1000739925_0.jpg            5\n",
      "4486   1213201059_0.jpg            7\n",
      "4487   1476972994_0.jpg            5\n",
      "4488   1482525246_0.jpg            4\n",
      "4489   1310234274_0.jpg            4\n",
      "4490   1038033091_0.jpg            3\n",
      "4491   1483490457_0.jpg            7\n",
      "4492   1247774806_0.jpg            7\n",
      "4493   1084263835_0.jpg            0\n",
      "4494   1018024991_0.jpg            7\n",
      "4495   1096074983_0.jpg            4\n",
      "4496   1224556035_0.jpg            5\n",
      "4497   1478774003_0.jpg            7\n",
      "4498   1436041698_0.jpg            7\n",
      "4499   1219370727_0.jpg            7\n",
      "\n",
      "[4500 rows x 2 columns]\n",
      "Finish\n"
     ]
    }
   ],
   "source": [
    "result = get_test_result(testloader, model, device)\n",
    "arr = result.cpu().numpy()\n",
    "df = pd.DataFrame({ 'Image': testloader.dataset.frame, 'Cloth_label': arr })\n",
    "print(df)\n",
    "df.to_csv('./resnet.csv', index=False)\n",
    "print('Finish')"
   ]
  }
 ],
 "metadata": {
  "kernelspec": {
   "display_name": "Python 3",
   "language": "python",
   "name": "python3"
  },
  "language_info": {
   "codemirror_mode": {
    "name": "ipython",
    "version": 3
   },
   "file_extension": ".py",
   "mimetype": "text/x-python",
   "name": "python",
   "nbconvert_exporter": "python",
   "pygments_lexer": "ipython3",
   "version": "3.6.6"
  }
 },
 "nbformat": 4,
 "nbformat_minor": 1
}
