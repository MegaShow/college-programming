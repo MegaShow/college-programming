{
 "cells": [
  {
   "cell_type": "markdown",
   "metadata": {},
   "source": [
    "# week 13: Memory networks"
   ]
  },
  {
   "cell_type": "markdown",
   "metadata": {},
   "source": [
    "## 0. Introduction"
   ]
  },
  {
   "cell_type": "markdown",
   "metadata": {},
   "source": [
    "本次实验的代码主要参考自github的开源代码，原文请点击[这里](https://github.com/dandelin/Dynamic-memory-networks-plus-Pytorch)。 如对本次课件的内容有任何疑惑的同学可以直接微信我或者邮件到cuizhiying.csu@gmail.com"
   ]
  },
  {
   "cell_type": "markdown",
   "metadata": {},
   "source": [
    "### 0.1 Experimental content and requirements\n",
    "本次实验内容主要实现和运行 *_Dynamic Memory Networks for Visual and Textual Question Answering (2016)_* ，使用的是数据集是[__bAbI__](https://research.fb.com/downloads/babi/)数据集 The (20) QA bAbI tasks，具体要求如下：\n",
    "1. 体会Memory Network的基本框架结构，阅读实验代码，结合理论课的内容，加深对Memory Network的思考和理解\n",
    "2. 独立完成实验指导书中提出的问题（简要回答）\n",
    "3. 按照实验指导书的引导，填充缺失部分的代码，让程序顺利地运转起来\n",
    "4. 坚持独立完成，**禁止抄袭**\n",
    "5. 实验结束后，将整个文件夹下载下来（注意保留程序运行结果），打包上传到超算课堂网站中（统一使用zip格式压缩）。"
   ]
  },
  {
   "cell_type": "markdown",
   "metadata": {},
   "source": [
    "### 0.2 Recommended Reading"
   ]
  },
  {
   "cell_type": "markdown",
   "metadata": {},
   "source": [
    "今天进行的任务是一个典型的**QA( [Question answering]() )**任务, 这是一个我们之前还没有接触过的任务，所以在进行实验之前，强烈建议同学们可以在课堂之余，看一下相关的文章。对模型结构先有一个清晰认识能够很好帮助我们理解代码。当然，一边看代码一边理解也是一个很好的选择。\n",
    "\n",
    "以下四篇论文，在Memory Networks的演变上有清晰的脉络，可供参考。实验中的代码针对的是第四篇文章。\n",
    "1. Memory Networks (2015)\n",
    "2. End-To-End Memory Networks (2015)\n",
    "3. Ask Me Anything: Dynamic Memory Networks for Natural Language Processing (2016)\n",
    "4. Dynamic Memory Networks for Visual and Textual Question Answering (2016)\n",
    "\n",
    "若果对网络的理解还不够透彻，又不想花太多时间看论文的同学，**强烈建议阅读这篇[论文总结](http://www.shuang0420.com/2017/12/04/%E8%AE%BA%E6%96%87%E7%AC%94%E8%AE%B0%20-%20Memory%20Networks/)**， 这份文章总结的思路非常清晰，能够非常有效地帮助大家更好地理解和完成本次实验。"
   ]
  },
  {
   "cell_type": "markdown",
   "metadata": {},
   "source": [
    "## 1. Dataset Explore"
   ]
  },
  {
   "cell_type": "markdown",
   "metadata": {},
   "source": [
    "### 1.1 Intuition"
   ]
  },
  {
   "cell_type": "markdown",
   "metadata": {},
   "source": [
    "本次实验用到是数据集是[__bAbI__](https://research.fb.com/downloads/babi/)数据集中的 The (20) QA bAbI tasks。在数据存放在`./data/en-10k/`中，以`txt`的文件形式存放着，建议先打开文件来看一下，有个感性的认识。"
   ]
  },
  {
   "cell_type": "markdown",
   "metadata": {},
   "source": [
    "官方说明引用如下： \n",
    "\n",
    ">This section presents the first set of 20 tasks for testing text understanding and reasoning in the bAbI project.    \n",
    ">The aim is that each task tests a unique aspect of text and reasoning, and hence test different capabilities of learning models.     \n",
    "\n",
    "The file format for each task is as follows:\n",
    "\n"
   ]
  },
  {
   "cell_type": "markdown",
   "metadata": {},
   "source": [
    "```\n",
    "ID text\n",
    "ID text\n",
    "ID text\n",
    "ID question[tab]answer[tab]supporting fact IDS.\n",
    "...\n",
    "```"
   ]
  },
  {
   "cell_type": "markdown",
   "metadata": {},
   "source": [
    "The IDs for a given “story” start at 1 and increase. When the IDs in a file reset back to 1 you can consider the following sentences as a new “story”. Supporting fact IDs only ever reference the sentences within a “story”.\n",
    "\n",
    "For Example:"
   ]
  },
  {
   "cell_type": "markdown",
   "metadata": {},
   "source": [
    "```\n",
    "1 Mary moved to the bathroom.\n",
    "2 John went to the hallway.\n",
    "3 Where is Mary?        bathroom        1\n",
    "4 Daniel went back to the hallway.\n",
    "5 Sandra moved to the garden.\n",
    "6 Where is Daniel?      hallway 4\n",
    "7 John moved to the office.\n",
    "8 Sandra journeyed to the bathroom.\n",
    "9 Where is Daniel?      hallway 4\n",
    "10 Mary moved to the hallway.\n",
    "11 Daniel travelled to the office.\n",
    "12 Where is Daniel?     office  11\n",
    "13 John went back to the garden.\n",
    "14 John moved to the bedroom.\n",
    "15 Where is Sandra?     bathroom        8\n",
    "1 Sandra travelled to the office.\n",
    "2 Sandra went to the bathroom.\n",
    "3 Where is Sandra?      bathroom        2\n",
    "```\n"
   ]
  },
  {
   "cell_type": "markdown",
   "metadata": {},
   "source": [
    "以上应该也是你们在该文件中看到的数据集的样子。"
   ]
  },
  {
   "cell_type": "markdown",
   "metadata": {},
   "source": [
    "### 1.2 dataset prepare"
   ]
  },
  {
   "cell_type": "markdown",
   "metadata": {},
   "source": [
    "处理以上格式的数据跟我们以前的任务不太一样，要繁琐很多。数据的预处理自然很重要，但不是本次实验的重点。所以，我们在这次实验中以已经处理好的`Dataset`和`Dataloader`的形式直接提供给大家使用。     \n",
    "\n",
    "我们只需要知道的是在本次实验中，数据预处理的基本思路是将上述文本，编码成了了单词索引的形式，然后将长短不一的文段采用最大段数的形式，以类似于补0的形式，padding到了同样的长度。这样子，我们就可以以batch的形式进行输入了。如果还没有理解的话，没有关系，我们接下来的测试。（感兴趣的同学可以直接阅读源代码`./babi_loader.py`）"
   ]
  },
  {
   "cell_type": "code",
   "execution_count": 1,
   "metadata": {},
   "outputs": [],
   "source": [
    "from babi_loader import BabiDataset, pad_collate"
   ]
  },
  {
   "cell_type": "code",
   "execution_count": 2,
   "metadata": {},
   "outputs": [],
   "source": [
    "from torch.utils.data import DataLoader\n",
    "# There are 20 tasks, we should control which task we would like to load\n",
    "task_id = 1\n",
    "dataset = BabiDataset( task_id )\n",
    "dataloader = DataLoader(dataset, batch_size=4, shuffle=False, collate_fn=pad_collate)"
   ]
  },
  {
   "cell_type": "markdown",
   "metadata": {},
   "source": [
    "好了，现在我们导入了`dataloader`之后，可以尝试将每一个batch的数据打印出来看看是什么样子的"
   ]
  },
  {
   "cell_type": "code",
   "execution_count": 3,
   "metadata": {
    "scrolled": false
   },
   "outputs": [
    {
     "name": "stdout",
     "output_type": "stream",
     "text": [
      "torch.Size([4, 8, 8])\n",
      "torch.Size([4, 4])\n",
      "torch.Size([4])\n",
      "tensor([[[ 2.,  3.,  4.,  5.,  6.,  7.,  1.,  0.],\n",
      "         [ 8.,  9.,  4.,  5., 10.,  7.,  1.,  0.],\n",
      "         [ 0.,  0.,  0.,  0.,  0.,  0.,  0.,  0.],\n",
      "         [ 0.,  0.,  0.,  0.,  0.,  0.,  0.,  0.],\n",
      "         [ 0.,  0.,  0.,  0.,  0.,  0.,  0.,  0.],\n",
      "         [ 0.,  0.,  0.,  0.,  0.,  0.,  0.,  0.],\n",
      "         [ 0.,  0.,  0.,  0.,  0.,  0.,  0.,  0.],\n",
      "         [ 0.,  0.,  0.,  0.,  0.,  0.,  0.,  0.]],\n",
      "\n",
      "        [[ 2.,  3.,  4.,  5.,  6.,  7.,  1.,  0.],\n",
      "         [ 8.,  9.,  4.,  5., 10.,  7.,  1.,  0.],\n",
      "         [13.,  9., 14.,  4.,  5., 10.,  7.,  1.],\n",
      "         [15.,  3.,  4.,  5., 16.,  7.,  1.,  0.],\n",
      "         [ 0.,  0.,  0.,  0.,  0.,  0.,  0.,  0.],\n",
      "         [ 0.,  0.,  0.,  0.,  0.,  0.,  0.,  0.],\n",
      "         [ 0.,  0.,  0.,  0.,  0.,  0.,  0.,  0.],\n",
      "         [ 0.,  0.,  0.,  0.,  0.,  0.,  0.,  0.]],\n",
      "\n",
      "        [[ 2.,  3.,  4.,  5.,  6.,  7.,  1.,  0.],\n",
      "         [ 8.,  9.,  4.,  5., 10.,  7.,  1.,  0.],\n",
      "         [13.,  9., 14.,  4.,  5., 10.,  7.,  1.],\n",
      "         [15.,  3.,  4.,  5., 16.,  7.,  1.,  0.],\n",
      "         [ 8.,  3.,  4.,  5., 17.,  7.,  1.,  0.],\n",
      "         [15., 18.,  4.,  5.,  6.,  7.,  1.,  0.],\n",
      "         [ 0.,  0.,  0.,  0.,  0.,  0.,  0.,  0.],\n",
      "         [ 0.,  0.,  0.,  0.,  0.,  0.,  0.,  0.]],\n",
      "\n",
      "        [[ 2.,  3.,  4.,  5.,  6.,  7.,  1.,  0.],\n",
      "         [ 8.,  9.,  4.,  5., 10.,  7.,  1.,  0.],\n",
      "         [13.,  9., 14.,  4.,  5., 10.,  7.,  1.],\n",
      "         [15.,  3.,  4.,  5., 16.,  7.,  1.,  0.],\n",
      "         [ 8.,  3.,  4.,  5., 17.,  7.,  1.,  0.],\n",
      "         [15., 18.,  4.,  5.,  6.,  7.,  1.,  0.],\n",
      "         [ 2.,  3.,  4.,  5., 10.,  7.,  1.,  0.],\n",
      "         [13., 19.,  4.,  5., 17.,  7.,  1.,  0.]]], dtype=torch.float64)\n",
      "tensor([[11, 12,  2,  1],\n",
      "        [11, 12, 13,  1],\n",
      "        [11, 12, 13,  1],\n",
      "        [11, 12, 13,  1]])\n",
      "tensor([ 6, 10, 10, 17])\n"
     ]
    }
   ],
   "source": [
    "contexts, questions, answers = next(iter(dataloader))\n",
    "print(contexts.shape)\n",
    "print(questions.shape)\n",
    "print(answers.shape)\n",
    "print(contexts)\n",
    "print(questions)\n",
    "print(answers)"
   ]
  },
  {
   "cell_type": "markdown",
   "metadata": {},
   "source": [
    "可以看到，打印出来的都是数字索引，不是真实的文本，所以我们在输出之前，肯定需要对这些索引进行重新映射，找回原来的文本信息，我们先看一下查找表"
   ]
  },
  {
   "cell_type": "code",
   "execution_count": 4,
   "metadata": {},
   "outputs": [
    {
     "name": "stdout",
     "output_type": "stream",
     "text": [
      "{0: '<PAD>', 1: '<EOS>', 2: 'mary', 3: 'moved', 4: 'to', 5: 'the', 6: 'bathroom', 7: '.', 8: 'john', 9: 'went', 10: 'hallway', 11: 'where', 12: 'is', 13: 'daniel', 14: 'back', 15: 'sandra', 16: 'garden', 17: 'office', 18: 'journeyed', 19: 'travelled', 20: 'bedroom', 21: 'kitchen'}\n"
     ]
    }
   ],
   "source": [
    "references = dataset.QA.IVOCAB\n",
    "print(references)"
   ]
  },
  {
   "cell_type": "markdown",
   "metadata": {},
   "source": [
    "好了，根据这个查找表，我们就可以很顺利得将我们的数据还原出来了。只需要按照索引重新映射回来即可。"
   ]
  },
  {
   "cell_type": "code",
   "execution_count": 5,
   "metadata": {},
   "outputs": [],
   "source": [
    "def interpret_indexed_tensor(contexts, questions, answers):\n",
    "    for n, data in enumerate(zip(contexts, questions, answers)):\n",
    "        context  = data[0]\n",
    "        question = data[1]\n",
    "        answer   = data[2]\n",
    "        \n",
    "        print(n)\n",
    "        for i, sentence in enumerate(context):\n",
    "            s = ' '.join([references[elem.item()] for elem in sentence])\n",
    "            print(f'{i}th sentence: {s}')\n",
    "        s = ' '.join([references[elem.item()] for elem in question])\n",
    "        print(f'question: {s}')\n",
    "        s = references[answer.item()]\n",
    "        print(f'answer:   {s}')"
   ]
  },
  {
   "cell_type": "code",
   "execution_count": 6,
   "metadata": {
    "scrolled": false
   },
   "outputs": [
    {
     "name": "stdout",
     "output_type": "stream",
     "text": [
      "0\n",
      "0th sentence: mary moved to the bathroom . <EOS> <PAD>\n",
      "1th sentence: john went to the hallway . <EOS> <PAD>\n",
      "2th sentence: <PAD> <PAD> <PAD> <PAD> <PAD> <PAD> <PAD> <PAD>\n",
      "3th sentence: <PAD> <PAD> <PAD> <PAD> <PAD> <PAD> <PAD> <PAD>\n",
      "4th sentence: <PAD> <PAD> <PAD> <PAD> <PAD> <PAD> <PAD> <PAD>\n",
      "5th sentence: <PAD> <PAD> <PAD> <PAD> <PAD> <PAD> <PAD> <PAD>\n",
      "6th sentence: <PAD> <PAD> <PAD> <PAD> <PAD> <PAD> <PAD> <PAD>\n",
      "7th sentence: <PAD> <PAD> <PAD> <PAD> <PAD> <PAD> <PAD> <PAD>\n",
      "question: where is mary <EOS>\n",
      "answer:   bathroom\n",
      "1\n",
      "0th sentence: mary moved to the bathroom . <EOS> <PAD>\n",
      "1th sentence: john went to the hallway . <EOS> <PAD>\n",
      "2th sentence: daniel went back to the hallway . <EOS>\n",
      "3th sentence: sandra moved to the garden . <EOS> <PAD>\n",
      "4th sentence: <PAD> <PAD> <PAD> <PAD> <PAD> <PAD> <PAD> <PAD>\n",
      "5th sentence: <PAD> <PAD> <PAD> <PAD> <PAD> <PAD> <PAD> <PAD>\n",
      "6th sentence: <PAD> <PAD> <PAD> <PAD> <PAD> <PAD> <PAD> <PAD>\n",
      "7th sentence: <PAD> <PAD> <PAD> <PAD> <PAD> <PAD> <PAD> <PAD>\n",
      "question: where is daniel <EOS>\n",
      "answer:   hallway\n",
      "2\n",
      "0th sentence: mary moved to the bathroom . <EOS> <PAD>\n",
      "1th sentence: john went to the hallway . <EOS> <PAD>\n",
      "2th sentence: daniel went back to the hallway . <EOS>\n",
      "3th sentence: sandra moved to the garden . <EOS> <PAD>\n",
      "4th sentence: john moved to the office . <EOS> <PAD>\n",
      "5th sentence: sandra journeyed to the bathroom . <EOS> <PAD>\n",
      "6th sentence: <PAD> <PAD> <PAD> <PAD> <PAD> <PAD> <PAD> <PAD>\n",
      "7th sentence: <PAD> <PAD> <PAD> <PAD> <PAD> <PAD> <PAD> <PAD>\n",
      "question: where is daniel <EOS>\n",
      "answer:   hallway\n",
      "3\n",
      "0th sentence: mary moved to the bathroom . <EOS> <PAD>\n",
      "1th sentence: john went to the hallway . <EOS> <PAD>\n",
      "2th sentence: daniel went back to the hallway . <EOS>\n",
      "3th sentence: sandra moved to the garden . <EOS> <PAD>\n",
      "4th sentence: john moved to the office . <EOS> <PAD>\n",
      "5th sentence: sandra journeyed to the bathroom . <EOS> <PAD>\n",
      "6th sentence: mary moved to the hallway . <EOS> <PAD>\n",
      "7th sentence: daniel travelled to the office . <EOS> <PAD>\n",
      "question: where is daniel <EOS>\n",
      "answer:   office\n"
     ]
    }
   ],
   "source": [
    "interpret_indexed_tensor(contexts, questions, answers)"
   ]
  },
  {
   "cell_type": "markdown",
   "metadata": {},
   "source": [
    "从上面测试中，我们就清楚我们该如何使用这个`Dataloader`了。   \n",
    "\n",
    "同时，通过观察上面的输入和输出，我们应该看到：\n",
    "1. `<PAD>`符号：在同一个`batch`中，所以的句子都进行了`padding`的操作，将一个batch中的所有的句子都补到和最长的句子一样长。同时，每个问题也是，比如batchsize为8，则说明这个batch中共有8个问题，但是有个故事可能句子多些，有的故事句子少些，统一padding到最多句子的形式就好了。**在rnn中，我们本不必统一句子和文段的长度，在这里使用`padding`的方式固定长度是出于训练的需要，定长才能将句子和文段以`batch`的形式输入进行处理，是文本处理的一个常用的方式**\n",
    "2. `<EOS>`符号：end of sentence\n",
    "3. 有的句子可以同时被多个问题引用到\n",
    "4. 预测的答案是输入的`sentences`中所包含的单词中的一个。"
   ]
  },
  {
   "cell_type": "markdown",
   "metadata": {},
   "source": [
    "## 2. Dynamic Memory Networks "
   ]
  },
  {
   "cell_type": "markdown",
   "metadata": {},
   "source": [
    "在理解这个网络结构之前，一定要认真阅读上面提到的论文总结，上面的讲述很详细，很多很细节的地方，我在这里就不会跟那篇文章那样子对比得那么详细了，**强烈建议先重新回顾一下上述论文的演变过程，对网络的运作有个清楚的认识**，重温总结，点击[这里](http://www.shuang0420.com/2017/12/04/%E8%AE%BA%E6%96%87%E7%AC%94%E8%AE%B0%20-%20Memory%20Networks/)"
   ]
  },
  {
   "cell_type": "markdown",
   "metadata": {},
   "source": [
    "### 2.1 Architecture"
   ]
  },
  {
   "cell_type": "markdown",
   "metadata": {},
   "source": [
    "网络的总体架构入下图所示。"
   ]
  },
  {
   "cell_type": "markdown",
   "metadata": {},
   "source": [
    "\n",
    " <img src=\"./images/example.png\" width = \"50%\" />"
   ]
  },
  {
   "cell_type": "markdown",
   "metadata": {},
   "source": [
    "从上图中可以看出要实现这个QA系统，我们需要实现4个模块：Input Module, Memory Module, Question Module and Answer Module. 我们在下来的实现中看细节。"
   ]
  },
  {
   "cell_type": "markdown",
   "metadata": {},
   "source": [
    "### 2.2 Input Module"
   ]
  },
  {
   "cell_type": "markdown",
   "metadata": {},
   "source": [
    "首先导入一些常用的包"
   ]
  },
  {
   "cell_type": "code",
   "execution_count": 7,
   "metadata": {},
   "outputs": [],
   "source": [
    "import os\n",
    "import torch\n",
    "import torch.nn as nn\n",
    "import torch.nn.functional as F\n",
    "import torch.nn.init as init\n",
    "from torch.autograd import Variable"
   ]
  },
  {
   "cell_type": "markdown",
   "metadata": {},
   "source": [
    "整个DMN的过程使用了很多的`GRU`作为编码器，在这里的话，我们可以稍作回顾，一般的情况下，`GRU`的更新过程如下公式所示：   \n",
    " <img src=\"./images/gru.png\" width = \"50%\" />"
   ]
  },
  {
   "cell_type": "markdown",
   "metadata": {},
   "source": [
    "一般情况下，我们直接将`GRU`看做简化版的`LSTM`即可。"
   ]
  },
  {
   "cell_type": "markdown",
   "metadata": {},
   "source": [
    "首先，我们需要对输入的句子进行编码，这里使用的是`bi-directional GRU`，另外注意到在`forward`函数中，我们用到了一个参数`word_embedding`参数。这里面实际上传入的是`embedding`函数，如`nn.Embedding`。因为我们分成了不同的模块来编写这份代码，所以我们需要设置这样子一个参数，来使得所有的`word_embedding`保持一致。整个过程如下图所示："
   ]
  },
  {
   "cell_type": "markdown",
   "metadata": {},
   "source": [
    " <img src=\"./images/input.png\" width = \"70%\" />"
   ]
  },
  {
   "cell_type": "markdown",
   "metadata": {},
   "source": [
    "在这里使用`bi-directional GRU`来更好得获取前后文信息。如果对GRU模块不清楚的，可以点击[这里](https://zhuanlan.zhihu.com/p/32481747)，快速回顾一下. 在这里，`bi-directional GRU`的更新方式如下公式所示：  \n",
    "<img src=\"./images/bi-gru.png\" width = \"50%\" />"
   ]
  },
  {
   "cell_type": "code",
   "execution_count": 8,
   "metadata": {},
   "outputs": [],
   "source": [
    "class InputModule(nn.Module):\n",
    "    def __init__(self, vocab_size, hidden_size):\n",
    "        super(InputModule, self).__init__()\n",
    "        self.hidden_size = hidden_size\n",
    "        \n",
    "        ##################################################################################\n",
    "        #\n",
    "        # nn.GRU use the bidirectional parameter to control the type of GRU\n",
    "        #\n",
    "        ##################################################################################\n",
    "        self.gru = nn.GRU(hidden_size, hidden_size, bidirectional=True, batch_first=True)\n",
    "        self.dropout = nn.Dropout(0.1)\n",
    "\n",
    "    # we should all the word_embedding the same, while we using the different module\n",
    "    def forward(self, contexts, word_embedding):\n",
    "        '''\n",
    "        contexts.size() -> (#batch, #sentence, #token)\n",
    "        word_embedding() -> (#batch, #sentence x #token, #embedding)\n",
    "        position_encoding() -> (#batch, #sentence, #embedding)\n",
    "        facts.size() -> (#batch, #sentence, #hidden = #embedding)\n",
    "        '''\n",
    "        batch_num, sen_num, token_num = contexts.size()\n",
    "\n",
    "        contexts = contexts.view(batch_num, -1)\n",
    "        contexts = word_embedding(contexts)\n",
    "\n",
    "        contexts = contexts.view(batch_num, sen_num, token_num, -1)\n",
    "        contexts = self.position_encoding(contexts)\n",
    "        contexts = self.dropout(contexts)\n",
    "\n",
    "        #########################################################################\n",
    "        #\n",
    "        # if you change the gru type, you should also change the initial hidden state\n",
    "        # as bidirectional gru's shape is (2, *, *), while normal gru just need( 1, *, *)\n",
    "        #\n",
    "        #########################################################################\n",
    "        h0 = Variable(torch.zeros(2, batch_num, self.hidden_size).cuda())\n",
    "        facts, hdn = self.gru(contexts, h0)\n",
    "        #########################################################################\n",
    "        #\n",
    "        # if you use bi-directional GRU, you should fusion the output,\n",
    "        # if you use normal GRU, commont the following code. \n",
    "        # acconding to the equation (6)\n",
    "        #\n",
    "        #########################################################################\n",
    "        facts = facts[:, :, :self.hidden_size] + facts[:, :, self.hidden_size:]\n",
    "        return facts\n",
    "    \n",
    "    def position_encoding(self, embedded_sentence):\n",
    "        '''\n",
    "        embedded_sentence.size() -> (#batch, #sentence, #token, #embedding)\n",
    "        l.size() -> (#sentence, #embedding)\n",
    "        output.size() -> (#batch, #sentence, #embedding)\n",
    "        '''\n",
    "        _, _, slen, elen = embedded_sentence.size()\n",
    "\n",
    "        l = [[(1 - s/(slen-1)) - (e/(elen-1)) * (1 - 2*s/(slen-1)) for e in range(elen)] for s in range(slen)]\n",
    "        l = torch.FloatTensor(l)\n",
    "        l = l.unsqueeze(0) # for #batch\n",
    "        l = l.unsqueeze(1) # for #sen\n",
    "        l = l.expand_as(embedded_sentence)\n",
    "        weighted = embedded_sentence * Variable(l.cuda())\n",
    "        return torch.sum(weighted, dim=2).squeeze(2) # sum with tokens"
   ]
  },
  {
   "cell_type": "markdown",
   "metadata": {},
   "source": [
    "在上面的模块中，你可能注意到了`self.position_encoding()`这个函数，它的作用在于给输入的句子加上位置信息。即，position_encoding的作用是将输入的句子`{我， 爱， 你}`转换成`{我1， 爱2， 你3}`的形式进行输出。这样子做的含义如下文引用所示。\n",
    "具体含义引用如下 \n",
    ">词袋模型本身是无序的，句子“我爱你”和“你爱我”在BOW中都是{我，爱，你}，模型本无法区分这两句话不同的含义，但如果给每个词加上position encoding，变成{我1，爱2， 你3}和{我3，爱2，你1}，则变成不同的数据，所以就是位置编码就是一种特征。\n",
    ">\n",
    ">作者：HideOnBooks    \n",
    "链接：https://www.zhihu.com/question/56476625/answer/416928811    \n",
    "来源：知乎     \n",
    "著作权归作者所有。商业转载请联系作者获得授权，非商业转载请注明出处。   "
   ]
  },
  {
   "cell_type": "markdown",
   "metadata": {},
   "source": [
    "### 2.3 Question Module"
   ]
  },
  {
   "cell_type": "markdown",
   "metadata": {},
   "source": [
    "`Question Module`实际上只是对问题文本信息（一个句子，比如where are you？），使用一个普通的`GRU`进行编码，然后，将编码信息**输送**到`Memory Module`中进行`Attention`操作。代码比较简单，不复赘言。\n"
   ]
  },
  {
   "cell_type": "code",
   "execution_count": 9,
   "metadata": {},
   "outputs": [],
   "source": [
    "class QuestionModule(nn.Module):\n",
    "    def __init__(self, vocab_size, hidden_size):\n",
    "        super(QuestionModule, self).__init__()\n",
    "        self.gru = nn.GRU(hidden_size, hidden_size, batch_first=True)\n",
    "\n",
    "    def forward(self, questions, word_embedding):\n",
    "        '''\n",
    "        questions.size() -> (#batch, #token)\n",
    "        word_embedding() -> (#batch, #token, #embedding)\n",
    "        gru() -> (1, #batch, #hidden)\n",
    "        '''\n",
    "        questions = word_embedding(questions)\n",
    "        _, questions = self.gru(questions)\n",
    "        questions = questions.transpose(0, 1)\n",
    "        return questions"
   ]
  },
  {
   "cell_type": "markdown",
   "metadata": {},
   "source": [
    "### 2.4 Memory Module"
   ]
  },
  {
   "cell_type": "markdown",
   "metadata": {},
   "source": [
    "Memory 模块的示意图如下所示：\n",
    "    ![memory](./images/memory.png)\n"
   ]
  },
  {
   "cell_type": "markdown",
   "metadata": {},
   "source": [
    "在这里，我们先获取经过`Input Module`编码过后的信息$F$，然后进行输入`Attention Mechanism`中，迭代查找相关信息。`Attention Mechanism`中隐含了从`Question Module`中获得的对问题的文本描述进行`GRU`编码之后的信息输入。    \n",
    "`Attention`实际上是在比较和查找`Question` 和 `Input`之间的联系"
   ]
  },
  {
   "cell_type": "code",
   "execution_count": 10,
   "metadata": {},
   "outputs": [],
   "source": [
    "class AttentionGRUCell(nn.Module):\n",
    "    def __init__(self, input_size, hidden_size):\n",
    "        super(AttentionGRUCell, self).__init__()\n",
    "        self.hidden_size = hidden_size\n",
    "        \n",
    "        self.Wr = nn.Linear(input_size, hidden_size)\n",
    "        self.Ur = nn.Linear(hidden_size, hidden_size)\n",
    "        self.W = nn.Linear(input_size, hidden_size)\n",
    "        self.U = nn.Linear(hidden_size, hidden_size)\n",
    "\n",
    "    def forward(self, fact, C, g):\n",
    "        r = torch.sigmoid(self.Wr(fact) + self.Ur(C))\n",
    "        h_tilda = torch.tanh(self.W(fact) + r * self.U(C))\n",
    "        g = g.unsqueeze(1).expand_as(h_tilda)\n",
    "        h = g * h_tilda + (1 - g) * C\n",
    "        return h"
   ]
  },
  {
   "cell_type": "code",
   "execution_count": 11,
   "metadata": {},
   "outputs": [],
   "source": [
    "class AttentionGRU(nn.Module):\n",
    "    def __init__(self, input_size, hidden_size):\n",
    "        super(AttentionGRU, self).__init__()\n",
    "        self.hidden_size = hidden_size\n",
    "        self.AGRUCell = AttentionGRUCell(input_size, hidden_size)\n",
    "\n",
    "    def forward(self, facts, G):\n",
    "        batch_num, sen_num, embedding_size = facts.size()\n",
    "        C = Variable(torch.zeros(self.hidden_size)).cuda()\n",
    "        for sid in range(sen_num):\n",
    "            fact = facts[:, sid, :]\n",
    "            g = G[:, sid]\n",
    "            if sid == 0:\n",
    "                C = C.unsqueeze(0).expand_as(fact)\n",
    "            C = self.AGRUCell(fact, C, g)\n",
    "        return C"
   ]
  },
  {
   "cell_type": "markdown",
   "metadata": {},
   "source": [
    "<img src=\"./images/memory_equation.png\" width = \"50%\" />"
   ]
  },
  {
   "cell_type": "code",
   "execution_count": 12,
   "metadata": {},
   "outputs": [],
   "source": [
    "class EpisodicMemory(nn.Module):\n",
    "    def __init__(self, hidden_size):\n",
    "        super(EpisodicMemory, self).__init__()\n",
    "        self.AGRU = AttentionGRU(hidden_size, hidden_size)\n",
    "        self.z1 = nn.Linear(4 * hidden_size, hidden_size)\n",
    "        self.z2 = nn.Linear(hidden_size, 1)\n",
    "        self.next_mem = nn.Linear(3 * hidden_size, hidden_size)\n",
    "\n",
    "    def make_interaction(self, facts, questions, prevM):\n",
    "        '''\n",
    "        facts.size() -> (#batch, #sentence, #hidden = #embedding)\n",
    "        questions.size() -> (#batch, 1, #hidden)\n",
    "        prevM.size() -> (#batch, #sentence = 1, #hidden = #embedding)\n",
    "        z.size() -> (#batch, #sentence, 4 x #embedding)\n",
    "        G.size() -> (#batch, #sentence)\n",
    "        '''\n",
    "        batch_num, sen_num, embedding_size = facts.size()\n",
    "        questions = questions.expand_as(facts)\n",
    "        prevM = prevM.expand_as(facts)\n",
    "\n",
    "        z = torch.cat([\n",
    "            facts * questions,\n",
    "            facts * prevM,\n",
    "            torch.abs(facts - questions),\n",
    "            torch.abs(facts - prevM)\n",
    "        ], dim=2)\n",
    "\n",
    "        z = z.view(-1, 4 * embedding_size)\n",
    "\n",
    "        G = torch.tanh(self.z1(z))\n",
    "        G = self.z2(G)\n",
    "        G = G.view(batch_num, -1)\n",
    "        G = F.softmax(G, dim=1)\n",
    "\n",
    "        return G\n",
    "    \n",
    "    def forward(self, facts, questions, prevM):\n",
    "        '''\n",
    "        facts.size() -> (#batch, #sentence, #hidden = #embedding)\n",
    "        questions.size() -> (#batch, #sentence = 1, #hidden)\n",
    "        prevM.size() -> (#batch, #sentence = 1, #hidden = #embedding)\n",
    "        G.size() -> (#batch, #sentence)\n",
    "        C.size() -> (#batch, #hidden)\n",
    "        concat.size() -> (#batch, 3 x #embedding)\n",
    "        '''\n",
    "        G = self.make_interaction(facts, questions, prevM)\n",
    "        C = self.AGRU(facts, G)\n",
    "        concat = torch.cat([prevM.squeeze(1), C, questions.squeeze(1)], dim=1)\n",
    "        next_mem = F.relu(self.next_mem(concat))\n",
    "        next_mem = next_mem.unsqueeze(1)\n",
    "        return next_mem\n"
   ]
  },
  {
   "cell_type": "markdown",
   "metadata": {},
   "source": [
    "### 2.5 Answer Module"
   ]
  },
  {
   "cell_type": "markdown",
   "metadata": {},
   "source": [
    "`Answer Module`将`Memory Module`和`Question Module`的信息使用全连接层结合到一起，然后输出一个文本中所有单词的对应着问题答案的可能性。"
   ]
  },
  {
   "cell_type": "code",
   "execution_count": 13,
   "metadata": {},
   "outputs": [],
   "source": [
    "class AnswerModule(nn.Module):\n",
    "    def __init__(self, vocab_size, hidden_size):\n",
    "        super(AnswerModule, self).__init__()\n",
    "        self.z = nn.Linear(2 * hidden_size, vocab_size)\n",
    "        self.dropout = nn.Dropout(0.1)\n",
    "\n",
    "    def forward(self, M, questions):\n",
    "        M = self.dropout(M)\n",
    "        concat = torch.cat([M, questions], dim=2).squeeze(1)\n",
    "        z = self.z(concat)\n",
    "        return z"
   ]
  },
  {
   "cell_type": "markdown",
   "metadata": {},
   "source": [
    "### 2.6 Combine "
   ]
  },
  {
   "cell_type": "markdown",
   "metadata": {},
   "source": [
    "重新回顾一下整体的网络结构   \n",
    "\n",
    "Note: 虽然本文实现的网络结构不是这一幅图（这幅结构图是上述四篇论文中的第三篇论文所提供的结构图），但是在此还是借用了这幅图，因为，这两篇论文的总体结构都非常相似，两者只是在部分结构的细节上有所差异，因此，在此仍旧借用这幅图来表述总体的网络结构图。其中的信息流动几乎是一毛一样的。"
   ]
  },
  {
   "cell_type": "markdown",
   "metadata": {},
   "source": [
    "\n",
    " <img src=\"./images/network2.png\" width = \"60%\" />"
   ]
  },
  {
   "cell_type": "code",
   "execution_count": 14,
   "metadata": {},
   "outputs": [],
   "source": [
    "class DMNPlus(nn.Module):\n",
    "    '''\n",
    "    This class combine all the module above. The data flow is showed as the above image.\n",
    "    '''\n",
    "    def __init__(self, hidden_size, vocab_size, num_hop=3, qa=None):\n",
    "        super(DMNPlus, self).__init__()\n",
    "        self.num_hop = num_hop\n",
    "        self.qa = qa\n",
    "        self.word_embedding = nn.Embedding(vocab_size, hidden_size, padding_idx=0, sparse=True).cuda()\n",
    "        self.criterion = nn.CrossEntropyLoss(reduction='sum')\n",
    "\n",
    "        self.input_module = InputModule(vocab_size, hidden_size)\n",
    "        self.question_module = QuestionModule(vocab_size, hidden_size)\n",
    "        self.memory = EpisodicMemory(hidden_size)\n",
    "        self.answer_module = AnswerModule(vocab_size, hidden_size)\n",
    "\n",
    "    def forward(self, contexts, questions):\n",
    "        '''\n",
    "        contexts.size() -> (#batch, #sentence, #token) -> (#batch, #sentence, #hidden = #embedding)\n",
    "        questions.size() -> (#batch, #token) -> (#batch, 1, #hidden)\n",
    "        '''\n",
    "        facts = self.input_module(contexts, self.word_embedding)\n",
    "        questions = self.question_module(questions, self.word_embedding)\n",
    "        M = questions\n",
    "        for hop in range(self.num_hop):\n",
    "            M = self.memory(facts, questions, M)\n",
    "        preds = self.answer_module(M, questions)\n",
    "        return preds\n",
    "\n",
    "    # train the index into a word, it's similar to the part 1 data explore\n",
    "    def interpret_indexed_tensor(self, var):\n",
    "        if len(var.size()) == 3:\n",
    "            # var -> n x #sen x #token\n",
    "            for n, sentences in enumerate(var):\n",
    "                for i, sentence in enumerate(sentences):\n",
    "                    s = ' '.join([self.qa.IVOCAB[elem.data[0]] for elem in sentence])\n",
    "                    print(f'{n}th of batch, {i}th sentence, {s}')\n",
    "        elif len(var.size()) == 2:\n",
    "            # var -> n x #token\n",
    "            for n, sentence in enumerate(var):\n",
    "                s = ' '.join([self.qa.IVOCAB[elem.data[0]] for elem in sentence])\n",
    "                print(f'{n}th of batch, {s}')\n",
    "        elif len(var.size()) == 1:\n",
    "            # var -> n (one token per batch)\n",
    "            for n, token in enumerate(var):\n",
    "                s = self.qa.IVOCAB[token.data[0]]\n",
    "                print(f'{n}th of batch, {s}')\n",
    "\n",
    "    # calculate the loss of the network\n",
    "    def get_loss(self, contexts, questions, targets):\n",
    "        output = self.forward(contexts, questions)\n",
    "        loss = self.criterion(output, targets)\n",
    "        reg_loss = 0\n",
    "        for param in self.parameters():\n",
    "            reg_loss += 0.001 * torch.sum(param * param)\n",
    "        preds = F.softmax(output, dim=1)\n",
    "        _, pred_ids = torch.max(preds, dim=1)\n",
    "        corrects = (pred_ids.data == answers.cuda().data)\n",
    "        acc = torch.mean(corrects.float())\n",
    "        return loss + reg_loss, acc\n"
   ]
  },
  {
   "cell_type": "markdown",
   "metadata": {},
   "source": [
    "## 3. Training and Test"
   ]
  },
  {
   "cell_type": "markdown",
   "metadata": {},
   "source": [
    "### 3.1 Train the Network"
   ]
  },
  {
   "cell_type": "markdown",
   "metadata": {},
   "source": [
    "`bAbI`数据集共有20个小的`QA`任务，为了训练简单，我们每次只训练一个任务，请将下面的一个 cell 中的 task_id 设置成你的学号的最后一个数字，尾号为 0 的同学将`task_id`设置为`10`"
   ]
  },
  {
   "cell_type": "code",
   "execution_count": 26,
   "metadata": {
    "scrolled": false
   },
   "outputs": [
    {
     "name": "stdout",
     "output_type": "stream",
     "text": [
      "[Task 10, Epoch 0] [Training] loss :  106.01664, acc :  0.25, batch_idx : 0\n",
      "[Task 10, Epoch 0] [Training] loss :  40.160023, acc :  0.4598, batch_idx : 20\n",
      "[Task 10, Epoch 0] [Training] loss :  35.166271, acc :  0.4451, batch_idx : 40\n",
      "[Task 10, Epoch 0] [Training] loss :  43.961296, acc :  0.438, batch_idx : 60\n",
      "[Task 10, Epoch 0] [Training] loss :  31.439713, acc :  0.4425, batch_idx : 80\n",
      "[Task 10, Epoch 0] [Training] loss :   32.85585, acc :  0.4462, batch_idx : 100\n",
      "[Task 10, Epoch 0] [Training] loss :  32.927139, acc :  0.445, batch_idx : 120\n",
      "[Task 10, Epoch 0] [Training] loss :  37.371578, acc :  0.4441, batch_idx : 140\n",
      "[Task 10, Epoch 0] [Training] loss :  31.568272, acc :  0.4513, batch_idx : 160\n",
      "[Task 10, Epoch 0] [Training] loss :  30.929462, acc :  0.4577, batch_idx : 180\n",
      "[Task 10, Epoch 0] [Training] loss :  29.434761, acc :  0.4622, batch_idx : 200\n",
      "[Task 10, Epoch 0] [Training] loss :  31.283617, acc :  0.4596, batch_idx : 220\n",
      "[Task 10, Epoch 0] [Training] loss :  30.693546, acc :  0.4593, batch_idx : 240\n",
      "[Task 10, Epoch 0] [Training] loss :  32.336746, acc :  0.4594, batch_idx : 260\n",
      "[Task 10, Epoch 0] [Training] loss :  30.624126, acc :  0.4597, batch_idx : 280\n",
      "[Task 10, Epoch 1] [Training] loss :  32.483063, acc :   0.5, batch_idx : 0\n",
      "[Task 10, Epoch 1] [Training] loss :  31.752934, acc :  0.4792, batch_idx : 20\n",
      "[Task 10, Epoch 1] [Training] loss :  29.740837, acc :  0.4619, batch_idx : 40\n",
      "[Task 10, Epoch 1] [Training] loss :  32.197277, acc :  0.4606, batch_idx : 60\n",
      "[Task 10, Epoch 1] [Training] loss :  34.138874, acc :  0.4556, batch_idx : 80\n",
      "[Task 10, Epoch 1] [Training] loss :  27.886118, acc :  0.4551, batch_idx : 100\n",
      "[Task 10, Epoch 1] [Training] loss :  31.685862, acc :  0.4592, batch_idx : 120\n",
      "[Task 10, Epoch 1] [Training] loss :  29.508682, acc :  0.4619, batch_idx : 140\n",
      "[Task 10, Epoch 1] [Training] loss :  33.132858, acc :  0.4577, batch_idx : 160\n",
      "[Task 10, Epoch 1] [Training] loss :   32.70747, acc :  0.4591, batch_idx : 180\n",
      "[Task 10, Epoch 1] [Training] loss :  28.314686, acc :  0.461, batch_idx : 200\n",
      "[Task 10, Epoch 1] [Training] loss :  33.346001, acc :  0.463, batch_idx : 220\n",
      "[Task 10, Epoch 1] [Training] loss :  34.441978, acc :  0.463, batch_idx : 240\n",
      "[Task 10, Epoch 1] [Training] loss :  33.728062, acc :  0.4661, batch_idx : 260\n",
      "[Task 10, Epoch 1] [Training] loss :  29.007236, acc :  0.4683, batch_idx : 280\n",
      "[Task 10, Epoch 2] [Training] loss :  30.992353, acc :  0.4688, batch_idx : 0\n",
      "[Task 10, Epoch 2] [Training] loss :  28.893627, acc :  0.4747, batch_idx : 20\n",
      "[Task 10, Epoch 2] [Training] loss :   29.06044, acc :  0.4779, batch_idx : 40\n",
      "[Task 10, Epoch 2] [Training] loss :  30.939363, acc :  0.4821, batch_idx : 60\n",
      "[Task 10, Epoch 2] [Training] loss :  34.449421, acc :  0.4753, batch_idx : 80\n",
      "[Task 10, Epoch 2] [Training] loss :  30.197206, acc :  0.4712, batch_idx : 100\n",
      "[Task 10, Epoch 2] [Training] loss :    30.6458, acc :  0.476, batch_idx : 120\n",
      "[Task 10, Epoch 2] [Training] loss :  30.028925, acc :  0.477, batch_idx : 140\n",
      "[Task 10, Epoch 2] [Training] loss :  30.042446, acc :  0.4763, batch_idx : 160\n",
      "[Task 10, Epoch 2] [Training] loss :  31.846462, acc :  0.4732, batch_idx : 180\n",
      "[Task 10, Epoch 2] [Training] loss :  33.384731, acc :  0.4726, batch_idx : 200\n",
      "[Task 10, Epoch 2] [Training] loss :  33.844685, acc :  0.4713, batch_idx : 220\n",
      "[Task 10, Epoch 2] [Training] loss :  29.480936, acc :  0.4735, batch_idx : 240\n",
      "[Task 10, Epoch 2] [Training] loss :  28.608585, acc :  0.4734, batch_idx : 260\n",
      "[Task 10, Epoch 2] [Training] loss :  31.549011, acc :  0.4759, batch_idx : 280\n"
     ]
    }
   ],
   "source": [
    "task_id = 10\n",
    "\n",
    "epochs = 3\n",
    "\n",
    "if task_id in range(1, 21):\n",
    "#def train(task_id):\n",
    "    dset = BabiDataset(task_id)\n",
    "    vocab_size = len(dset.QA.VOCAB)\n",
    "    hidden_size = 80\n",
    "    \n",
    "\n",
    "    model = DMNPlus(hidden_size, vocab_size, num_hop=3, qa=dset.QA)\n",
    "    model.cuda()\n",
    "    \n",
    "    best_acc = 0\n",
    "    optim = torch.optim.Adam(model.parameters())\n",
    "\n",
    "    for epoch in range(epochs):\n",
    "        dset.set_mode('train')\n",
    "        train_loader = DataLoader(\n",
    "                dset, batch_size=32, shuffle=True, collate_fn=pad_collate\n",
    "                )\n",
    "\n",
    "        model.train()\n",
    "        total_acc = 0\n",
    "        cnt = 0\n",
    "        for batch_idx, data in enumerate(train_loader):\n",
    "            contexts, questions, answers = data\n",
    "            batch_size = contexts.size()[0]\n",
    "            contexts  = Variable(contexts.long().cuda())\n",
    "            questions = Variable(questions.long().cuda())\n",
    "            answers   = Variable(answers.cuda())\n",
    "\n",
    "            loss, acc = model.get_loss(contexts, questions, answers)\n",
    "            optim.zero_grad()\n",
    "            loss.backward()\n",
    "            optim.step()\n",
    "            \n",
    "            total_acc += acc * batch_size\n",
    "            cnt += batch_size\n",
    "            if batch_idx % 20 == 0:\n",
    "                print(f'[Task {task_id}, Epoch {epoch}] [Training] loss : {loss.item(): {10}.{8}}, acc : {total_acc / cnt: {5}.{4}}, batch_idx : {batch_idx}')"
   ]
  },
  {
   "cell_type": "markdown",
   "metadata": {},
   "source": [
    "### 3.2 Test"
   ]
  },
  {
   "cell_type": "markdown",
   "metadata": {},
   "source": [
    "测试集上，该任务的准确率是多少"
   ]
  },
  {
   "cell_type": "code",
   "execution_count": 28,
   "metadata": {},
   "outputs": [
    {
     "name": "stdout",
     "output_type": "stream",
     "text": [
      "Task 10, Epoch 2] [Test] Accuracy :  0.437\n"
     ]
    }
   ],
   "source": [
    "dset.set_mode('test')\n",
    "test_loader = DataLoader(\n",
    "    dset, batch_size=100, shuffle=False, collate_fn=pad_collate\n",
    "    )\n",
    "test_acc = 0\n",
    "cnt = 0\n",
    "\n",
    "model.eval()\n",
    "for batch_idx, data in enumerate(test_loader):\n",
    "    contexts, questions, answers = data\n",
    "    batch_size = contexts.size()[0]\n",
    "    contexts = Variable(contexts.long().cuda())\n",
    "    questions = Variable(questions.long().cuda())\n",
    "    answers = Variable(answers.cuda())\n",
    "    \n",
    "    _, acc = model.get_loss(contexts, questions, answers)\n",
    "    test_acc += acc * batch_size\n",
    "    cnt += batch_size\n",
    "print(f'Task {task_id}, Epoch {epoch}] [Test] Accuracy : {test_acc / cnt: {5}.{4}}')"
   ]
  },
  {
   "cell_type": "markdown",
   "metadata": {},
   "source": [
    "### 3.3 Show example"
   ]
  },
  {
   "cell_type": "markdown",
   "metadata": {},
   "source": [
    "我们不妨将输出结果转换会文本信息，目测一下该模型的表现, 首先，我们先重新编辑一下上面提供的解释函数。"
   ]
  },
  {
   "cell_type": "code",
   "execution_count": 29,
   "metadata": {},
   "outputs": [],
   "source": [
    "def interpret_indexed_tensor(references, contexts, questions, answers, predictions):\n",
    "    for n, data in enumerate(zip(contexts, questions, answers, predictions)):\n",
    "        context  = data[0]\n",
    "        question = data[1]\n",
    "        answer   = data[2]\n",
    "        predict  = data[3]\n",
    "        \n",
    "        print(n)\n",
    "        for i, sentence in enumerate(context):\n",
    "            s = ' '.join([references[elem.item()] for elem in sentence])\n",
    "            print(f'{i}th sentence: {s}')\n",
    "        q = ' '.join([references[elem.item()] for elem in question])\n",
    "        print(f'question: {q}')\n",
    "        a = references[answer.item()]\n",
    "        print(f'answer:   {a}')\n",
    "        p = references[predict.argmax().item()]\n",
    "        print(f'predict:  {p}')"
   ]
  },
  {
   "cell_type": "code",
   "execution_count": 30,
   "metadata": {
    "scrolled": true
   },
   "outputs": [
    {
     "name": "stdout",
     "output_type": "stream",
     "text": [
      "0\n",
      "0th sentence: mary is in the school . <EOS> <PAD> <PAD> <PAD> <PAD>\n",
      "1th sentence: bill is in the kitchen . <EOS> <PAD> <PAD> <PAD> <PAD>\n",
      "2th sentence: <PAD> <PAD> <PAD> <PAD> <PAD> <PAD> <PAD> <PAD> <PAD> <PAD> <PAD>\n",
      "3th sentence: <PAD> <PAD> <PAD> <PAD> <PAD> <PAD> <PAD> <PAD> <PAD> <PAD> <PAD>\n",
      "4th sentence: <PAD> <PAD> <PAD> <PAD> <PAD> <PAD> <PAD> <PAD> <PAD> <PAD> <PAD>\n",
      "5th sentence: <PAD> <PAD> <PAD> <PAD> <PAD> <PAD> <PAD> <PAD> <PAD> <PAD> <PAD>\n",
      "6th sentence: <PAD> <PAD> <PAD> <PAD> <PAD> <PAD> <PAD> <PAD> <PAD> <PAD> <PAD>\n",
      "7th sentence: <PAD> <PAD> <PAD> <PAD> <PAD> <PAD> <PAD> <PAD> <PAD> <PAD> <PAD>\n",
      "question: is bill in the bedroom <EOS>\n",
      "answer:   no\n",
      "predict:  no\n",
      "1\n",
      "0th sentence: mary is in the school . <EOS> <PAD> <PAD> <PAD> <PAD>\n",
      "1th sentence: bill is in the kitchen . <EOS> <PAD> <PAD> <PAD> <PAD>\n",
      "2th sentence: bill journeyed to the bedroom . <EOS> <PAD> <PAD> <PAD> <PAD>\n",
      "3th sentence: fred travelled to the cinema . <EOS> <PAD> <PAD> <PAD> <PAD>\n",
      "4th sentence: <PAD> <PAD> <PAD> <PAD> <PAD> <PAD> <PAD> <PAD> <PAD> <PAD> <PAD>\n",
      "5th sentence: <PAD> <PAD> <PAD> <PAD> <PAD> <PAD> <PAD> <PAD> <PAD> <PAD> <PAD>\n",
      "6th sentence: <PAD> <PAD> <PAD> <PAD> <PAD> <PAD> <PAD> <PAD> <PAD> <PAD> <PAD>\n",
      "7th sentence: <PAD> <PAD> <PAD> <PAD> <PAD> <PAD> <PAD> <PAD> <PAD> <PAD> <PAD>\n",
      "question: is bill in the bedroom <EOS>\n",
      "answer:   yes\n",
      "predict:  no\n",
      "2\n",
      "0th sentence: mary is in the school . <EOS> <PAD> <PAD> <PAD> <PAD>\n",
      "1th sentence: bill is in the kitchen . <EOS> <PAD> <PAD> <PAD> <PAD>\n",
      "2th sentence: bill journeyed to the bedroom . <EOS> <PAD> <PAD> <PAD> <PAD>\n",
      "3th sentence: fred travelled to the cinema . <EOS> <PAD> <PAD> <PAD> <PAD>\n",
      "4th sentence: fred went back to the park . <EOS> <PAD> <PAD> <PAD>\n",
      "5th sentence: bill is either in the school or the office . <EOS>\n",
      "6th sentence: <PAD> <PAD> <PAD> <PAD> <PAD> <PAD> <PAD> <PAD> <PAD> <PAD> <PAD>\n",
      "7th sentence: <PAD> <PAD> <PAD> <PAD> <PAD> <PAD> <PAD> <PAD> <PAD> <PAD> <PAD>\n",
      "question: is bill in the park <EOS>\n",
      "answer:   no\n",
      "predict:  no\n",
      "3\n",
      "0th sentence: mary is in the school . <EOS> <PAD> <PAD> <PAD> <PAD>\n",
      "1th sentence: bill is in the kitchen . <EOS> <PAD> <PAD> <PAD> <PAD>\n",
      "2th sentence: bill journeyed to the bedroom . <EOS> <PAD> <PAD> <PAD> <PAD>\n",
      "3th sentence: fred travelled to the cinema . <EOS> <PAD> <PAD> <PAD> <PAD>\n",
      "4th sentence: fred went back to the park . <EOS> <PAD> <PAD> <PAD>\n",
      "5th sentence: bill is either in the school or the office . <EOS>\n",
      "6th sentence: mary went to the cinema . <EOS> <PAD> <PAD> <PAD> <PAD>\n",
      "7th sentence: julie is either in the school or the office . <EOS>\n",
      "question: is fred in the park <EOS>\n",
      "answer:   yes\n",
      "predict:  no\n"
     ]
    }
   ],
   "source": [
    "dset.set_mode('test')\n",
    "dataloader = DataLoader(dset, batch_size=4, shuffle=False, collate_fn=pad_collate)\n",
    "contexts, questions, answers = next(iter(dataloader))\n",
    "\n",
    "contexts  = Variable(contexts.long().cuda())\n",
    "questions = Variable(questions.long().cuda())\n",
    "\n",
    "# prediction\n",
    "model.eval()\n",
    "predicts = model(contexts, questions)\n",
    "\n",
    "references = dset.QA.IVOCAB\n",
    "#contexts, questions, answers = next(iter(dataloader))\n",
    "#interpret_indexed_tensor(contexts, questions, answers)\n",
    "interpret_indexed_tensor(references, contexts, questions, answers, predicts)"
   ]
  },
  {
   "cell_type": "markdown",
   "metadata": {},
   "source": [
    "## 4. Exercise"
   ]
  },
  {
   "cell_type": "markdown",
   "metadata": {},
   "source": [
    "1、QA问题和关系型数据库(如对关系型数据库有所遗忘的话，请点击[这里](https://zh.wikipedia.org/wiki/%E5%85%B3%E7%B3%BB%E6%95%B0%E6%8D%AE%E5%BA%93)，可稍作回顾)的检索有什么区别？简要说说你的理解"
   ]
  },
  {
   "cell_type": "markdown",
   "metadata": {},
   "source": [
    "答：关系型数据库的检索是通过建立在相应字段上的索引和条件表达式来实现的，而QA问题的检索式根据记忆状态信息来实现的。关系型数据库可以在字段上建立索引，然后通过索引得到数据的存储位置，从而获取数据。QA问题将问答的知识以memory state的形式存储起来，训练时可以更新memory state，而检索时只需要将问题转换为相应的特征值，然后通过DMN产生输出，再转换为自然语言。"
   ]
  },
  {
   "cell_type": "markdown",
   "metadata": {},
   "source": [
    "2、**bAbI**数据集的qa问题是怎么划分为了20个任务，划分的依据是什么？请到根据上文的提示，打开数据集文件进行观察，然后回答"
   ]
  },
  {
   "cell_type": "markdown",
   "metadata": {},
   "source": [
    "答：bAbI数据集的QA问题是以答案类型或答案依据来划分的。比如任务1是单个事实(句子)支持的答案，任务2、3是两个、三个事实(句子)支持的答案。比如任务10是回答yes、no、maybe，而任务7是回答数量。"
   ]
  },
  {
   "cell_type": "markdown",
   "metadata": {},
   "source": [
    "3、编写几行代码，探索一下在这个数据集中一个Task中训练集有多少条，测试集有多少条(提示是下面一个cell的代码)"
   ]
  },
  {
   "cell_type": "code",
   "execution_count": 35,
   "metadata": {},
   "outputs": [
    {
     "name": "stdout",
     "output_type": "stream",
     "text": [
      "train set: 9000\n",
      "test set: 1000\n"
     ]
    }
   ],
   "source": [
    "# default dataset is training set\n",
    "dataset = BabiDataset( task_id )\n",
    "print('train set:', len(dataset))\n",
    "\n",
    "# change the mode into \"test\", now dataset is testset\n",
    "dataset.set_mode(\"test\")\n",
    "print('test set:', len(dataset))"
   ]
  },
  {
   "cell_type": "markdown",
   "metadata": {},
   "source": [
    "答：任务10的训练集为9000条，测试集为1000条。"
   ]
  },
  {
   "cell_type": "markdown",
   "metadata": {},
   "source": [
    "4、根据注释提示，将`input module`中的`bi-directional GRU`改成普通的GRU，重新运行网络。"
   ]
  },
  {
   "cell_type": "code",
   "execution_count": 37,
   "metadata": {},
   "outputs": [],
   "source": [
    "class InputModule(nn.Module):\n",
    "    def __init__(self, vocab_size, hidden_size):\n",
    "        super(InputModule, self).__init__()\n",
    "        self.hidden_size = hidden_size\n",
    "        self.gru = nn.GRU(hidden_size, hidden_size, batch_first=True)\n",
    "        self.dropout = nn.Dropout(0.1)\n",
    "\n",
    "    def forward(self, contexts, word_embedding):\n",
    "        '''\n",
    "        contexts.size() -> (#batch, #sentence, #token)\n",
    "        word_embedding() -> (#batch, #sentence x #token, #embedding)\n",
    "        position_encoding() -> (#batch, #sentence, #embedding)\n",
    "        facts.size() -> (#batch, #sentence, #hidden = #embedding)\n",
    "        '''\n",
    "        batch_num, sen_num, token_num = contexts.size()\n",
    "\n",
    "        contexts = contexts.view(batch_num, -1)\n",
    "        contexts = word_embedding(contexts)\n",
    "        \n",
    "        contexts = contexts.view(batch_num, sen_num, token_num, -1)\n",
    "        contexts = self.position_encoding(contexts)\n",
    "        contexts = self.dropout(contexts)\n",
    "        \n",
    "        facts, hdn = self.gru(contexts)\n",
    "        return facts\n",
    "\n",
    "    def position_encoding(self, embedded_sentence):\n",
    "        '''\n",
    "        embedded_sentence.size() -> (#batch, #sentence, #token, #embedding)\n",
    "        l.size() -> (#sentence, #embedding)\n",
    "        output.size() -> (#batch, #sentence, #embedding)\n",
    "        '''\n",
    "        _, _, slen, elen = embedded_sentence.size()\n",
    "\n",
    "        l = [[(1 - s/(slen-1)) - (e/(elen-1)) * (1 - 2*s/(slen-1)) for e in range(elen)] for s in range(slen)]\n",
    "        l = torch.FloatTensor(l)\n",
    "        l = l.unsqueeze(0) # for #batch\n",
    "        l = l.unsqueeze(1) # for #sen\n",
    "        l = l.expand_as(embedded_sentence)\n",
    "        weighted = embedded_sentence * Variable(l.cuda())\n",
    "        return torch.sum(weighted, dim=2).squeeze(2) # sum with tokens"
   ]
  },
  {
   "cell_type": "code",
   "execution_count": 38,
   "metadata": {
    "scrolled": true
   },
   "outputs": [
    {
     "name": "stdout",
     "output_type": "stream",
     "text": [
      "[Task 10, Epoch 0] [Training] loss :  105.35245, acc :   0.0, batch_idx : 0\n",
      "[Task 10, Epoch 0] [Training] loss :  32.426529, acc :  0.4152, batch_idx : 20\n",
      "[Task 10, Epoch 0] [Training] loss :  34.493927, acc :  0.4108, batch_idx : 40\n",
      "[Task 10, Epoch 0] [Training] loss :  31.886969, acc :  0.4196, batch_idx : 60\n",
      "[Task 10, Epoch 0] [Training] loss :  36.208771, acc :  0.4267, batch_idx : 80\n",
      "[Task 10, Epoch 0] [Training] loss :  33.786331, acc :  0.4332, batch_idx : 100\n",
      "[Task 10, Epoch 0] [Training] loss :  36.083965, acc :  0.436, batch_idx : 120\n",
      "[Task 10, Epoch 0] [Training] loss :  33.739494, acc :  0.4424, batch_idx : 140\n",
      "[Task 10, Epoch 0] [Training] loss :  31.794558, acc :  0.4429, batch_idx : 160\n",
      "[Task 10, Epoch 0] [Training] loss :  34.859913, acc :  0.4456, batch_idx : 180\n",
      "[Task 10, Epoch 0] [Training] loss :   34.17836, acc :  0.4484, batch_idx : 200\n",
      "[Task 10, Epoch 0] [Training] loss :  36.449268, acc :  0.4529, batch_idx : 220\n",
      "[Task 10, Epoch 0] [Training] loss :  31.467968, acc :  0.4506, batch_idx : 240\n",
      "[Task 10, Epoch 0] [Training] loss :  29.387077, acc :  0.4545, batch_idx : 260\n",
      "[Task 10, Epoch 0] [Training] loss :  38.835068, acc :  0.4563, batch_idx : 280\n",
      "[Task 10, Epoch 1] [Training] loss :  31.007389, acc :   0.5, batch_idx : 0\n",
      "[Task 10, Epoch 1] [Training] loss :  33.364117, acc :  0.4747, batch_idx : 20\n",
      "[Task 10, Epoch 1] [Training] loss :  28.619299, acc :  0.4802, batch_idx : 40\n",
      "[Task 10, Epoch 1] [Training] loss :  34.057922, acc :  0.4641, batch_idx : 60\n",
      "[Task 10, Epoch 1] [Training] loss :  32.449863, acc :  0.4668, batch_idx : 80\n",
      "[Task 10, Epoch 1] [Training] loss :  29.971666, acc :  0.4706, batch_idx : 100\n",
      "[Task 10, Epoch 1] [Training] loss :  31.620749, acc :  0.47, batch_idx : 120\n",
      "[Task 10, Epoch 1] [Training] loss :  32.884495, acc :  0.4727, batch_idx : 140\n",
      "[Task 10, Epoch 1] [Training] loss :  38.045845, acc :  0.4717, batch_idx : 160\n",
      "[Task 10, Epoch 1] [Training] loss :   27.73971, acc :  0.4698, batch_idx : 180\n",
      "[Task 10, Epoch 1] [Training] loss :  29.684376, acc :  0.4715, batch_idx : 200\n",
      "[Task 10, Epoch 1] [Training] loss :  32.233799, acc :  0.4713, batch_idx : 220\n",
      "[Task 10, Epoch 1] [Training] loss :  35.001186, acc :  0.4682, batch_idx : 240\n",
      "[Task 10, Epoch 1] [Training] loss :  28.398779, acc :  0.4685, batch_idx : 260\n",
      "[Task 10, Epoch 1] [Training] loss :  30.737085, acc :  0.4693, batch_idx : 280\n",
      "[Task 10, Epoch 2] [Training] loss :  33.349392, acc :  0.3438, batch_idx : 0\n",
      "[Task 10, Epoch 2] [Training] loss :  27.977625, acc :  0.4881, batch_idx : 20\n",
      "[Task 10, Epoch 2] [Training] loss :  27.708397, acc :  0.4817, batch_idx : 40\n",
      "[Task 10, Epoch 2] [Training] loss :  36.034698, acc :  0.4693, batch_idx : 60\n",
      "[Task 10, Epoch 2] [Training] loss :  33.423553, acc :  0.4688, batch_idx : 80\n",
      "[Task 10, Epoch 2] [Training] loss :  30.528635, acc :  0.4731, batch_idx : 100\n",
      "[Task 10, Epoch 2] [Training] loss :   28.80201, acc :  0.4757, batch_idx : 120\n",
      "[Task 10, Epoch 2] [Training] loss :  29.157539, acc :  0.4803, batch_idx : 140\n",
      "[Task 10, Epoch 2] [Training] loss :  31.765087, acc :  0.4845, batch_idx : 160\n",
      "[Task 10, Epoch 2] [Training] loss :  31.502867, acc :  0.4852, batch_idx : 180\n",
      "[Task 10, Epoch 2] [Training] loss :  29.833849, acc :  0.4893, batch_idx : 200\n",
      "[Task 10, Epoch 2] [Training] loss :  26.446497, acc :  0.4914, batch_idx : 220\n",
      "[Task 10, Epoch 2] [Training] loss :  31.450598, acc :  0.4944, batch_idx : 240\n",
      "[Task 10, Epoch 2] [Training] loss :  31.787931, acc :  0.4965, batch_idx : 260\n",
      "[Task 10, Epoch 2] [Training] loss :  29.504681, acc :  0.5044, batch_idx : 280\n"
     ]
    }
   ],
   "source": [
    "task_id = 10\n",
    "\n",
    "epochs = 3\n",
    "\n",
    "if task_id in range(1, 21):\n",
    "#def train(task_id):\n",
    "    dset = BabiDataset(task_id)\n",
    "    vocab_size = len(dset.QA.VOCAB)\n",
    "    hidden_size = 80\n",
    "    \n",
    "\n",
    "    model = DMNPlus(hidden_size, vocab_size, num_hop=3, qa=dset.QA)\n",
    "    model.cuda()\n",
    "    \n",
    "    best_acc = 0\n",
    "    optim = torch.optim.Adam(model.parameters())\n",
    "\n",
    "    for epoch in range(epochs):\n",
    "        dset.set_mode('train')\n",
    "        train_loader = DataLoader(\n",
    "                dset, batch_size=32, shuffle=True, collate_fn=pad_collate\n",
    "                )\n",
    "\n",
    "        model.train()\n",
    "        total_acc = 0\n",
    "        cnt = 0\n",
    "        for batch_idx, data in enumerate(train_loader):\n",
    "            contexts, questions, answers = data\n",
    "            batch_size = contexts.size()[0]\n",
    "            contexts  = Variable(contexts.long().cuda())\n",
    "            questions = Variable(questions.long().cuda())\n",
    "            answers   = Variable(answers.cuda())\n",
    "\n",
    "            loss, acc = model.get_loss(contexts, questions, answers)\n",
    "            optim.zero_grad()\n",
    "            loss.backward()\n",
    "            optim.step()\n",
    "            \n",
    "            total_acc += acc * batch_size\n",
    "            cnt += batch_size\n",
    "            if batch_idx % 20 == 0:\n",
    "                print(f'[Task {task_id}, Epoch {epoch}] [Training] loss : {loss.item(): {10}.{8}}, acc : {total_acc / cnt: {5}.{4}}, batch_idx : {batch_idx}')"
   ]
  },
  {
   "cell_type": "markdown",
   "metadata": {},
   "source": [
    "5、根据代码和理解，用自己的语言简要描述`Episodic Memory`所进行的操作。"
   ]
  },
  {
   "cell_type": "markdown",
   "metadata": {},
   "source": [
    "答：Eposodic Memory由Attention Mechanism和Memory Update Mechanism组成，它接受Input Module和Question Module的输出作为输入。首先，它将句子的表达信息facts和问题的描述信息questions一并传递给Attention Mechanism，得到句子信息和问题信息的一个关系。然后将关系信息和句子表达信息facts一同传递给Attention GRU，得到context vector。然后Meomory Update Mechanism会根据context vector来更新Eposodic Memory内部的memory值，并作为输出值输出。\n",
    "\n",
    "在DMN中会指定参数num_hop，该参数用于指定Eposodic Memory的迭代次数。"
   ]
  }
 ],
 "metadata": {
  "kernelspec": {
   "display_name": "Python 3",
   "language": "python",
   "name": "python3"
  },
  "language_info": {
   "codemirror_mode": {
    "name": "ipython",
    "version": 3
   },
   "file_extension": ".py",
   "mimetype": "text/x-python",
   "name": "python",
   "nbconvert_exporter": "python",
   "pygments_lexer": "ipython3",
   "version": "3.6.8"
  }
 },
 "nbformat": 4,
 "nbformat_minor": 2
}
