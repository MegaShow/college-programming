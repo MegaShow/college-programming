{
 "cells": [
  {
   "cell_type": "markdown",
   "metadata": {},
   "source": [
    "StudentId: 16340040\n",
    "\n",
    "Name: Chen Xiujia\n",
    "\n",
    "# Assignment 1"
   ]
  },
  {
   "cell_type": "code",
   "execution_count": 2,
   "metadata": {
    "scrolled": false
   },
   "outputs": [
    {
     "name": "stdout",
     "output_type": "stream",
     "text": [
      "(0.0, 0.0079365158)\n",
      "(1.0, 1.1603174)\n",
      "(2.0, 0.97936493)\n",
      "(3.0, 0.12063507)\n",
      "(4.0, -0.76031774)\n",
      "(5.0, -1.0079377)\n"
     ]
    },
    {
     "data": {
      "image/png": "[encoded data removed]",
      "text/plain": [
       "<Figure size 432x288 with 1 Axes>"
      ]
     },
     "metadata": {
      "needs_background": "light"
     },
     "output_type": "display_data"
    }
   ],
   "source": [
    "import numpy as np\n",
    "import matplotlib.pyplot as plt\n",
    "import torch\n",
    "\n",
    "xs = torch.load('xs.pt').numpy()\n",
    "ys = torch.load('ys.pt').numpy()\n",
    "\n",
    "f = np.poly1d(np.polyfit(xs, ys, 3))\n",
    "x = np.linspace(-10, 10, 100)\n",
    "fdot = f(xs)\n",
    "\n",
    "for i in range(6):\n",
    "    print((xs[i], fdot[i]))\n",
    "torch.save(torch.from_numpy(fdot), 'y.pt')\n",
    "\n",
    "plt.plot(x, f(x), color='#ff8419')\n",
    "plt.scatter(xs, ys)\n",
    "plt.xlim(-2.4, 6.4)\n",
    "plt.ylim(-2, 2)\n",
    "plt.show()"
   ]
  },
  {
   "cell_type": "markdown",
   "metadata": {},
   "source": [
    "Check if save operating is right."
   ]
  },
  {
   "cell_type": "code",
   "execution_count": 3,
   "metadata": {},
   "outputs": [
    {
     "name": "stdout",
     "output_type": "stream",
     "text": [
      "tensor([ 0.0079,  1.1603,  0.9794,  0.1206, -0.7603, -1.0079])\n"
     ]
    }
   ],
   "source": [
    "print(torch.load('y.pt'))"
   ]
  },
  {
   "cell_type": "markdown",
   "metadata": {},
   "source": [
    "# Question 1"
   ]
  },
  {
   "cell_type": "code",
   "execution_count": 4,
   "metadata": {},
   "outputs": [
    {
     "name": "stdout",
     "output_type": "stream",
     "text": [
      "tensor([10., 11., 12., 13., 14., 15., 16., 17., 18., 19., 20., 21., 22., 23.,\n",
      "        24., 25., 26., 27., 28., 29., 30., 31., 32., 33., 34., 35., 36., 37.,\n",
      "        38., 39., 40., 41., 42., 43., 44., 45., 46., 47., 48., 49.])\n",
      "tensor(49.)\n",
      "tensor(10.)\n"
     ]
    }
   ],
   "source": [
    "import torch\n",
    "\n",
    "x = torch.arange(10.0, 50.0)\n",
    "print(x)\n",
    "print(torch.max(x))\n",
    "print(torch.min(x))"
   ]
  },
  {
   "cell_type": "markdown",
   "metadata": {},
   "source": [
    "# Question 2"
   ]
  },
  {
   "cell_type": "code",
   "execution_count": 5,
   "metadata": {},
   "outputs": [],
   "source": [
    "import torch\n",
    "\n",
    "def cnn(channels, filters):\n",
    "    if type(channels) is not list or type(filters) is not list:\n",
    "        raise ValueError(\"arguments should be list\")\n",
    "    if len(channels) != len(filters):\n",
    "        raise ValueError(\"arguments should have the same length\")\n",
    "    if len(channels) == 0:\n",
    "        return torch.Tensor(0, 0)\n",
    "    for i in range(len(channels)):\n",
    "        if type(channels[i]) is not torch.Tensor \\\n",
    "            or type(filters[i]) is not torch.Tensor:\n",
    "            raise ValueError(\"channel and filter should be tensor.Tensor\")\n",
    "        if i == 0:\n",
    "            (cx, cy) = channels[0].size()\n",
    "            (fx, fy) = filters[0].size()\n",
    "            if cx < fx or cy < fy:\n",
    "                raise ValueError(\"channel's size should be larger than filter's\")\n",
    "            res = torch.zeros([cx - fx + 1, cy - fy + 1])\n",
    "        elif channels[i].size() != channels[0].size() \\\n",
    "            or filters[i].size() != filters[0].size():\n",
    "            raise ValueError(\"channels or filters should be the same size\")\n",
    "        for j in range(res.size()[0]):\n",
    "            for k in range(res.size()[1]):\n",
    "                res[j, k] += ((channels[i])[j:j+fx, k:k+fy] * filters[i]).sum()\n",
    "    return res"
   ]
  },
  {
   "cell_type": "markdown",
   "metadata": {},
   "source": [
    "Test the funtion `cnn`."
   ]
  },
  {
   "cell_type": "code",
   "execution_count": 6,
   "metadata": {},
   "outputs": [
    {
     "name": "stdout",
     "output_type": "stream",
     "text": [
      "OK: arguments should be list\n",
      "OK: arguments should have the same length\n",
      "OK: tensor([], size=(0, 0))\n",
      "OK: channel and filter should be tensor.Tensor\n",
      "OK: channels or filters should be the same size\n",
      "OK: channel's size should be larger than filter's\n",
      "OK: tensor([[ 2.,  0.,  2.,  4.,  0.],\n",
      "        [ 1.,  4.,  4.,  3.,  5.],\n",
      "        [ 4.,  3.,  5.,  9., -1.],\n",
      "        [ 3.,  4.,  6.,  2.,  1.],\n",
      "        [ 5.,  3.,  5.,  1., -2.]])\n"
     ]
    }
   ],
   "source": [
    "def test(channels, filters, error=None, result=None):\n",
    "    try:\n",
    "        res = cnn(channels, filters)\n",
    "    except ValueError as err:\n",
    "        if str(err) == error:\n",
    "            print(\"OK:\", err)\n",
    "        else:\n",
    "            print(\"Error:\", err)\n",
    "    else:\n",
    "        if torch.equal(res, result):\n",
    "            print(\"OK:\", res)\n",
    "        else:\n",
    "            print(\"Error:\", res, result)\n",
    "\n",
    "mat1 = [\n",
    "    [0, 0, 0, 0, 0, 0, 0],\n",
    "    [0, 1, 0, 1, 2, 1, 0],\n",
    "    [0, 0, 2, 1, 0, 1, 0],\n",
    "    [0, 1, 1, 0, 2, 0, 0],\n",
    "    [0, 2, 2, 1, 1, 0, 0],\n",
    "    [0, 2, 0, 1, 2, 0, 0],\n",
    "    [0, 0, 0, 0, 0, 0, 0]\n",
    "]\n",
    "\n",
    "mat2 = [\n",
    "    [0, 0, 0, 0, 0, 0, 0],\n",
    "    [0, 2, 0, 2, 1, 1, 0],\n",
    "    [0, 0, 1, 0, 0, 2, 0],\n",
    "    [0, 1, 0, 0, 2, 1, 0],\n",
    "    [0, 1, 1, 2, 1, 0, 0],\n",
    "    [0, 1, 0, 1, 1, 1, 0],\n",
    "    [0, 0, 0, 0, 0, 0, 0]\n",
    "]\n",
    "\n",
    "res = [\n",
    "    [2, 0, 2, 4, 0],\n",
    "    [1, 4, 4, 3, 5],\n",
    "    [4, 3, 5, 9, -1],\n",
    "    [3, 4, 6, 2, 1],\n",
    "    [5, 3, 5, 1, -2]\n",
    "]\n",
    "\n",
    "channel1 = torch.tensor(mat1, dtype=torch.float)\n",
    "channel2 = torch.tensor(mat2, dtype=torch.float)\n",
    "res_channel = torch.tensor(res, dtype=torch.float)\n",
    "filter1 = torch.tensor([[1, 0, 1], [-1, 1, 0], [0, -1, 0]], dtype=torch.float)\n",
    "filter2 = torch.tensor([[-1, 0, 1], [0, 0, 1], [1, 1, 1]], dtype=torch.float)\n",
    "\n",
    "test(None, None, error=\"arguments should be list\")\n",
    "test([], [torch.empty(1, 1)], error=\"arguments should have the same length\")\n",
    "test([], [], result=torch.empty(0, 0))\n",
    "test([mat1, channel2], [filter1, filter2],\n",
    "     error=\"channel and filter should be tensor.Tensor\")\n",
    "test([channel1, filter1], [channel2, filter2], \n",
    "     error=\"channels or filters should be the same size\")\n",
    "test([filter1, filter2], [channel1, channel2], \n",
    "     error=\"channel's size should be larger than filter's\")\n",
    "test([channel1, channel2], [filter1, filter2], result=res_channel)"
   ]
  },
  {
   "cell_type": "markdown",
   "metadata": {},
   "source": [
    "Get the result."
   ]
  },
  {
   "cell_type": "code",
   "execution_count": 7,
   "metadata": {},
   "outputs": [
    {
     "name": "stdout",
     "output_type": "stream",
     "text": [
      "tensor([[ 2.,  0.,  2.,  4.,  0.],\n",
      "        [ 1.,  4.,  4.,  3.,  5.],\n",
      "        [ 4.,  3.,  5.,  9., -1.],\n",
      "        [ 3.,  4.,  6.,  2.,  1.],\n",
      "        [ 5.,  3.,  5.,  1., -2.]])\n"
     ]
    }
   ],
   "source": [
    "print(cnn([channel1, channel2], [filter1, filter2]))"
   ]
  }
 ],
 "metadata": {
  "kernelspec": {
   "display_name": "Python 3",
   "language": "python",
   "name": "python3"
  },
  "language_info": {
   "codemirror_mode": {
    "name": "ipython",
    "version": 3
   },
   "file_extension": ".py",
   "mimetype": "text/x-python",
   "name": "python",
   "nbconvert_exporter": "python",
   "pygments_lexer": "ipython3",
   "version": "3.6.8"
  }
 },
 "nbformat": 4,
 "nbformat_minor": 2
}
