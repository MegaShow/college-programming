{
 "cells": [
  {
   "cell_type": "markdown",
   "metadata": {},
   "source": [
    "# NTS Net"
   ]
  },
  {
   "cell_type": "code",
   "execution_count": 1,
   "metadata": {
    "_cell_guid": "b1076dfc-b9ad-4769-8c92-a6c4dae69d19",
    "_uuid": "8f2839f25d086af736a60e9eeb907d3b93b6e0e5"
   },
   "outputs": [],
   "source": [
    "import gc\n",
    "from matplotlib import pyplot as plt\n",
    "import numpy as np\n",
    "import os\n",
    "import pandas as pd\n",
    "from PIL import Image\n",
    "import tarfile\n",
    "import time\n",
    "import torch\n",
    "from torch import nn\n",
    "from torch.autograd import Variable\n",
    "import torch.nn.functional as F\n",
    "from torch.utils.data import DataLoader, Dataset\n",
    "import torchvision\n",
    "from torchvision import transforms\n",
    "from torchvision.datasets.folder import default_loader\n",
    "from torchvision.datasets.utils import download_url"
   ]
  },
  {
   "cell_type": "code",
   "execution_count": 2,
   "metadata": {
    "_cell_guid": "79c7e3d0-c299-4dcb-8224-4455121ee9b0",
    "_uuid": "d629ff2d2480ee46fbb7e2d37f6b5fab8052498a"
   },
   "outputs": [],
   "source": [
    "torch.cuda.set_device(0)\n",
    "device = torch.device('cuda:0')"
   ]
  },
  {
   "cell_type": "markdown",
   "metadata": {},
   "source": [
    "## 1. Dataset "
   ]
  },
  {
   "cell_type": "code",
   "execution_count": 3,
   "metadata": {},
   "outputs": [],
   "source": [
    "class CUB2011(Dataset):\n",
    "    base_folder = 'CUB_200_2011/images'\n",
    "    url = 'http://www.vision.caltech.edu/visipedia-data/CUB-200-2011/CUB_200_2011.tgz'\n",
    "    filename = 'CUB_200_2011.tgz'\n",
    "    tgz_md5 = '97eceeb196236b17998738112f37df78'\n",
    "\n",
    "    def __init__(self, root, train=True, transform=None, loader=default_loader, download=True):\n",
    "        self.root = os.path.expanduser(root)\n",
    "        self.train = train\n",
    "        self.transform = transform\n",
    "        self.loader = loader\n",
    "        if download:\n",
    "            self.download()\n",
    "        if not self.check_integrity():\n",
    "            raise RuntimeError('Dataset not found or corrupted. You can use download=True to download it')\n",
    "\n",
    "    def load_metadata(self):\n",
    "        images = pd.read_csv(os.path.join(self.root, 'CUB_200_2011', 'images.txt'), sep=' ', names=['img_id', 'filepath'])\n",
    "        image_class_labels = pd.read_csv(os.path.join(self.root, 'CUB_200_2011', 'image_class_labels.txt'), sep=' ', names=['img_id', 'target'])\n",
    "        train_test_split = pd.read_csv(os.path.join(self.root, 'CUB_200_2011', 'train_test_split.txt'), sep=' ', names=['img_id', 'is_training_img'])\n",
    "        data = images.merge(image_class_labels, on='img_id')\n",
    "        self.data = data.merge(train_test_split, on='img_id')\n",
    "        if self.train:\n",
    "            self.data = self.data[self.data.is_training_img == 1]\n",
    "        else:\n",
    "            self.data = self.data[self.data.is_training_img == 0]\n",
    "\n",
    "    def check_integrity(self):\n",
    "        try:\n",
    "            self.load_metadata()\n",
    "        except Exception:\n",
    "            return False\n",
    "        for index, row in self.data.iterrows():\n",
    "            filepath = os.path.join(self.root, self.base_folder, row.filepath)\n",
    "            if not os.path.isfile(filepath):\n",
    "                print(filepath)\n",
    "                return False\n",
    "        return True\n",
    "\n",
    "    def download(self):\n",
    "        if self.check_integrity():\n",
    "            print('Files already downloaded and verified')\n",
    "            return\n",
    "        download_url(self.url, self.root, self.filename, self.tgz_md5)\n",
    "        with tarfile.open(os.path.join(self.root, self.filename), \"r:gz\") as tar:\n",
    "            tar.extractall(path=self.root)\n",
    "\n",
    "    def __len__(self):\n",
    "        return len(self.data)\n",
    "\n",
    "    def __getitem__(self, idx):\n",
    "        sample = self.data.iloc[idx]\n",
    "        path = os.path.join(self.root, self.base_folder, sample.filepath)\n",
    "        target = sample.target - 1\n",
    "        img = self.loader(path)\n",
    "        if self.transform is not None:\n",
    "            img = self.transform(img)\n",
    "        return img, target"
   ]
  },
  {
   "cell_type": "code",
   "execution_count": 4,
   "metadata": {},
   "outputs": [
    {
     "name": "stderr",
     "output_type": "stream",
     "text": [
      "\r",
      "0it [00:00, ?it/s]"
     ]
    },
    {
     "name": "stdout",
     "output_type": "stream",
     "text": [
      "Downloading http://www.vision.caltech.edu/visipedia-data/CUB-200-2011/CUB_200_2011.tgz to ./CUB2011/CUB_200_2011.tgz\n"
     ]
    },
    {
     "name": "stderr",
     "output_type": "stream",
     "text": [
      "1150590976it [03:00, 5934937.33it/s]                                "
     ]
    },
    {
     "name": "stdout",
     "output_type": "stream",
     "text": [
      "Files already downloaded and verified\n"
     ]
    }
   ],
   "source": [
    "batch_size = 16\n",
    "\n",
    "transform = transforms.Compose([\n",
    "    transforms.Resize((600, 600), Image.BILINEAR),\n",
    "    transforms.RandomCrop((448, 448)),\n",
    "    transforms.RandomHorizontalFlip(),\n",
    "    transforms.ToTensor(),\n",
    "    transforms.Normalize([0.485, 0.456, 0.406], [0.229, 0.224, 0.225])\n",
    "])\n",
    "\n",
    "trainset = CUB2011(root='./CUB2011', train=True, transform=transform, download=True)\n",
    "trainloader = DataLoader(trainset, batch_size=batch_size, shuffle=True, num_workers=4, drop_last=True)\n",
    "testset = CUB2011(root='./CUB2011', train=False, transform=transform, download=True)\n",
    "testloader = DataLoader(testset, batch_size=batch_size, shuffle=True, num_workers=4, drop_last=True)"
   ]
  },
  {
   "cell_type": "markdown",
   "metadata": {},
   "source": [
    "## 2. Network"
   ]
  },
  {
   "cell_type": "code",
   "execution_count": 5,
   "metadata": {},
   "outputs": [],
   "source": [
    "class FeatureExtractorNet(nn.Module):\n",
    "    def __init__(self, pretrained=True):\n",
    "        super(FeatureExtractorNet, self).__init__()\n",
    "        self.layer = nn.Sequential(\n",
    "            *(list(torchvision.models.resnet50(pretrained=pretrained).children())[:-2])\n",
    "        )\n",
    "        self.avgpool = nn.AdaptiveAvgPool2d(1)\n",
    "        self.fc = nn.Linear(2048, 200)\n",
    "        self.dropout = nn.Dropout(p=0.5)\n",
    "\n",
    "    def forward(self, x):\n",
    "        feature1 = self.layer(x)\n",
    "        feature2 = self.avgpool(feature1)\n",
    "        feature2 = feature2.view(feature2.size(0), -1)\n",
    "        feature2 = self.dropout(feature2)\n",
    "        out = self.fc(feature2)\n",
    "        return out, feature1, feature2"
   ]
  },
  {
   "cell_type": "code",
   "execution_count": 6,
   "metadata": {},
   "outputs": [],
   "source": [
    "class NavigatorNet(nn.Module):\n",
    "    def __init__(self):\n",
    "        super(NavigatorNet, self).__init__()\n",
    "        self.down1 = nn.Conv2d(2048, 128, 3, 1, 1)\n",
    "        self.down2 = nn.Conv2d(128, 128, 3, 2, 1)\n",
    "        self.down3 = nn.Conv2d(128, 128, 3, 2, 1)\n",
    "        self.relu = nn.ReLU()\n",
    "        self.tidy1 = nn.Conv2d(128, 6, 1, 1, 0)\n",
    "        self.tidy2 = nn.Conv2d(128, 6, 1, 1, 0)\n",
    "        self.tidy3 = nn.Conv2d(128, 9, 1, 1, 0)\n",
    "\n",
    "    def forward(self, extract_feature):\n",
    "        feature_batch_size = extract_feature.size(0)\n",
    "        d1 = self.relu(self.down1(extract_feature))\n",
    "        d2 = self.relu(self.down2(d1))\n",
    "        d3 = self.relu(self.down3(d2))\n",
    "        t1 = self.tidy1(d1).view(feature_batch_size, -1)\n",
    "        t2 = self.tidy2(d2).view(feature_batch_size, -1)\n",
    "        t3 = self.tidy3(d3).view(feature_batch_size, -1)\n",
    "        return torch.cat((t1, t2, t3), dim=1)"
   ]
  },
  {
   "cell_type": "code",
   "execution_count": 7,
   "metadata": {},
   "outputs": [],
   "source": [
    "class TeacherNet(nn.Module):\n",
    "    def __init__(self, topN=4):\n",
    "        super(TeacherNet, self).__init__()\n",
    "        self.topN = topN\n",
    "        self.layer = nn.Linear(2048, 200)\n",
    "        \n",
    "    def forward(self, part_features, batch_size):\n",
    "        return self.layer(part_features).view(batch_size, self.topN, -1)"
   ]
  },
  {
   "cell_type": "code",
   "execution_count": 8,
   "metadata": {},
   "outputs": [],
   "source": [
    "class ScrutinizerNet(nn.Module):\n",
    "    def __init__(self, catNum=4, topN=4):\n",
    "        super(ScrutinizerNet, self).__init__()\n",
    "        self.topN = topN\n",
    "        self.catNum = catNum\n",
    "        self.layer = nn.Linear(2048 * (self.catNum + 1), 200)\n",
    "        \n",
    "    def forward(self, part_features, extract_feature, batch_size):\n",
    "        part_feature = part_features.view(batch_size, self.topN, -1)\n",
    "        part_feature = part_feature[:, :self.catNum, ...].contiguous()\n",
    "        part_feature = part_feature.view(batch_size, -1)\n",
    "        out = self.layer(torch.cat([part_feature, extract_feature], dim=1))\n",
    "        return out"
   ]
  },
  {
   "cell_type": "code",
   "execution_count": 9,
   "metadata": {},
   "outputs": [],
   "source": [
    "class RegionGeneratorNet(nn.Module):\n",
    "    def __init__(self, topN=4):\n",
    "        super(RegionGeneratorNet, self).__init__()\n",
    "        self.topN = topN\n",
    "        self.default_anchors_setting = (\n",
    "            dict(layer='p3', stride=32, size=48, scale=[2 ** (1. / 3.), 2 ** (2. / 3.)], aspect_ratio=[0.667, 1, 1.5]),\n",
    "            dict(layer='p4', stride=64, size=96, scale=[2 ** (1. / 3.), 2 ** (2. / 3.)], aspect_ratio=[0.667, 1, 1.5]),\n",
    "            dict(layer='p5', stride=128, size=192, scale=[1, 2 ** (1. / 3.), 2 ** (2. / 3.)], aspect_ratio=[0.667, 1, 1.5]),\n",
    "        )\n",
    "        self.edge_anchors = self.get_edge_anchors()\n",
    "        \n",
    "    def forward(self, x, rpn_score):\n",
    "        batch_size = x.size(0)\n",
    "        x_pad = F.pad(x, (224, 224, 224, 224), mode='constant', value=0)\n",
    "        all_cdds = []\n",
    "        for data in rpn_score.data.cpu().numpy():\n",
    "            all_cdds.append(np.concatenate((data.reshape(-1, 1), self.edge_anchors.copy(), np.arange(0, len(data)).reshape(-1, 1)), axis=1))\n",
    "        top_n_cdds = []\n",
    "        for all_cdd in all_cdds:\n",
    "            top_n_cdds.append(self.nms(all_cdd, iou_thresh=0.25))\n",
    "        top_n_cdds = np.array(top_n_cdds)\n",
    "        top_n_index = torch.from_numpy(top_n_cdds[:, :, -1].astype(np.int)).cuda()\n",
    "        top_n_prob = torch.gather(rpn_score, dim=1, index=top_n_index)\n",
    "        part_imgs = torch.zeros([batch_size, self.topN, 3, 224, 224]).cuda()\n",
    "        for i in range(batch_size):\n",
    "            for j in range(self.topN):\n",
    "                [y0, x0, y1, x1] = top_n_cdds[i][j, 1:5].astype(np.int)\n",
    "                part_imgs[i:i+1, j] = F.interpolate(x_pad[i:i+1, :, y0:y1, x0:x1], size=(224, 224), mode='bilinear', align_corners=True)\n",
    "        part_imgs = part_imgs.view(batch_size * self.topN, 3, 224, 224)\n",
    "        return part_imgs, top_n_prob\n",
    "\n",
    "    def get_edge_anchors(self):\n",
    "        edge_anchors = np.zeros((0, 4), dtype=np.float32)\n",
    "        input_shape = np.array((448, 448), dtype=int)\n",
    "        for anchor_info in self.default_anchors_setting:\n",
    "            output_map_shape = np.ceil(input_shape.astype(np.float32) / anchor_info['stride']).astype(np.int)\n",
    "            output_shape = tuple(output_map_shape) + (4,)\n",
    "            start = anchor_info['stride'] / 2.\n",
    "            y = np.arange(start, start + anchor_info['stride'] * output_shape[0], anchor_info['stride']).reshape(output_shape[0], 1)\n",
    "            x = np.arange(start, start + anchor_info['stride'] * output_shape[1], anchor_info['stride']).reshape(1, output_shape[1])\n",
    "            center_anchor_map_template = np.zeros(output_shape, dtype=np.float32)\n",
    "            center_anchor_map_template[:, :, 0] = y\n",
    "            center_anchor_map_template[:, :, 1] = x\n",
    "            for scale in anchor_info['scale']:\n",
    "                for aspect_ratio in anchor_info['aspect_ratio']:\n",
    "                    center_anchor_map = center_anchor_map_template.copy()\n",
    "                    center_anchor_map[:, :, 2] = anchor_info['size'] * scale / float(aspect_ratio) ** 0.5\n",
    "                    center_anchor_map[:, :, 3] = anchor_info['size'] * scale * float(aspect_ratio) ** 0.5\n",
    "                    edge_anchor_map = np.concatenate((center_anchor_map[..., :2] - center_anchor_map[..., 2:4] / 2.,\n",
    "                                                      center_anchor_map[..., :2] + center_anchor_map[..., 2:4] / 2.), axis=-1)\n",
    "                    edge_anchors = np.concatenate((edge_anchors, edge_anchor_map.reshape(-1, 4)))\n",
    "        return (edge_anchors + 224).astype(np.int)\n",
    "    \n",
    "    def nms(self, cdds, iou_thresh=0.25):\n",
    "        cdds = cdds.copy()\n",
    "        indices = np.argsort(cdds[:, 0])\n",
    "        cdds = cdds[indices]\n",
    "        cdd_results = []\n",
    "        res = cdds\n",
    "        while res.any():\n",
    "            cdd = res[-1]\n",
    "            cdd_results.append(cdd)\n",
    "            if len(cdd_results) == self.topN:\n",
    "                return np.array(cdd_results)\n",
    "            res = res[:-1]\n",
    "            start_max = np.maximum(res[:, 1:3], cdd[1:3])\n",
    "            end_min = np.minimum(res[:, 3:5], cdd[3:5])\n",
    "            lengths = end_min - start_max\n",
    "            intersec_map = lengths[:, 0] * lengths[:, 1]\n",
    "            intersec_map[np.logical_or(lengths[:, 0] < 0, lengths[:, 1] < 0)] = 0\n",
    "            iou_map_cur = intersec_map/((res[:, 3]-res[:, 1])*(res[:, 4]-res[:, 2])+(cdd[3]-cdd[1])*(cdd[4]-cdd[2])-intersec_map)\n",
    "            res = res[iou_map_cur < iou_thresh]\n",
    "        return np.array(cdd_results)"
   ]
  },
  {
   "cell_type": "code",
   "execution_count": 10,
   "metadata": {},
   "outputs": [],
   "source": [
    "class NTSNet(nn.Module):\n",
    "    def __init__(self, topN=4):\n",
    "        super(NTSNet, self).__init__()\n",
    "        self.topN = topN\n",
    "        self.feature_extractor = FeatureExtractorNet(pretrained=True)\n",
    "        self.navigator = NavigatorNet()\n",
    "        self.teacher = TeacherNet(topN=topN)\n",
    "        self.scrutinizer = ScrutinizerNet(topN=topN)\n",
    "        self.region_generator = RegionGeneratorNet(topN=topN)\n",
    "\n",
    "    def forward(self, x):\n",
    "        batch_size = x.size(0)\n",
    "        r_out, n_feature, s_feature = self.feature_extractor(x)\n",
    "        rpn_score = self.navigator(n_feature.detach())\n",
    "        part_imgs, top_n_prob = self.region_generator(x, rpn_score)        \n",
    "        _, _, part_features = self.feature_extractor(part_imgs.detach())\n",
    "        t_out = self.teacher(part_features, batch_size)\n",
    "        s_out = self.scrutinizer(part_features, s_feature, batch_size)\n",
    "        return r_out, t_out, s_out, top_n_prob"
   ]
  },
  {
   "cell_type": "markdown",
   "metadata": {},
   "source": [
    "## 3. Loss Function"
   ]
  },
  {
   "cell_type": "code",
   "execution_count": 11,
   "metadata": {},
   "outputs": [],
   "source": [
    "def top_n_loss_fn(score, outputs, targets, batch_size):\n",
    "    temp = F.log_softmax(outputs, -1)\n",
    "    temp_loss = []\n",
    "    for i in range(outputs.size(0)):\n",
    "        temp_loss.append(-temp[i][targets[i].item()])\n",
    "    score_targets = torch.stack(temp_loss).view(batch_size, 6)\n",
    "    \n",
    "    all_loss = Variable(torch.zeros(1).cuda())\n",
    "    for i in range(6):\n",
    "        pivot = score[:, i].unsqueeze(1)\n",
    "        loss = (1 - pivot + score) * (score_targets > score_targets[:, i].unsqueeze(1)).type(torch.cuda.FloatTensor)\n",
    "        all_loss += torch.sum(F.relu(loss))\n",
    "    return all_loss / score.size(0)"
   ]
  },
  {
   "cell_type": "markdown",
   "metadata": {},
   "source": [
    "## 4. Train Function"
   ]
  },
  {
   "cell_type": "code",
   "execution_count": 12,
   "metadata": {},
   "outputs": [],
   "source": [
    "def train(trainloader, model, loss_fn, optimizer, device):\n",
    "    model.train()\n",
    "    total_loss = 0\n",
    "    for batch_idx, (data, target) in enumerate(trainloader):\n",
    "        data, target = data.to(device), target.to(device)\n",
    "        optimizer['r'].zero_grad()\n",
    "        optimizer['n'].zero_grad()\n",
    "        optimizer['t'].zero_grad()\n",
    "        optimizer['s'].zero_grad()\n",
    "\n",
    "        out, teacher_out, scrutinizer_out, top_n_prob = model(data)\n",
    "        teacher_out = teacher_out.view(batch_size * 6, -1)\n",
    "        teacher_target= target.unsqueeze(1).repeat(1, 6).view(-1)\n",
    "        \n",
    "        r_loss = loss_fn(out, target)\n",
    "        t_loss = loss_fn(teacher_out, teacher_target)\n",
    "        s_loss = loss_fn(scrutinizer_out, target)\n",
    "        top_n_loss = top_n_loss_fn(top_n_prob, teacher_out, teacher_target, batch_size)\n",
    "        loss = r_loss + t_loss + s_loss + top_n_loss\n",
    "        total_loss += loss.item()\n",
    "        loss.backward()\n",
    "        \n",
    "        optimizer['r'].step()\n",
    "        optimizer['n'].step()\n",
    "        optimizer['t'].step()\n",
    "        optimizer['s'].step()\n",
    "    average_loss = total_loss / (batch_idx + 1)\n",
    "    return average_loss"
   ]
  },
  {
   "cell_type": "code",
   "execution_count": 13,
   "metadata": {},
   "outputs": [],
   "source": [
    "def evaluate(testloader, model, loss_fn, device):\n",
    "    with torch.no_grad():\n",
    "        model.eval()\n",
    "        correct = 0.0\n",
    "        total_loss = 0\n",
    "        for batch_idx, (data, target) in enumerate(testloader):\n",
    "            data, target = data.to(device), target.to(device)\n",
    "            _, _, outputs, _ = model(data)\n",
    "            _, predicted = torch.max(outputs, 1)\n",
    "            correct += (predicted == target).cpu().sum().detach().numpy()\n",
    "            loss = loss_fn(outputs, target)\n",
    "            total_loss += loss.item()\n",
    "        accuracy = correct * 100.0 / len(testloader.dataset)\n",
    "        average_loss = total_loss / (batch_idx + 1)\n",
    "    return average_loss, accuracy"
   ]
  },
  {
   "cell_type": "code",
   "execution_count": 14,
   "metadata": {},
   "outputs": [],
   "source": [
    "def fit(train_loader, test_loader, model, loss_fn, optimizer, scheduler, n_epochs, device):\n",
    "    train_accs = []\n",
    "    train_losses = []\n",
    "    test_accs = []\n",
    "    test_losses = []\n",
    "\n",
    "    print('Fit start')\n",
    "    start_time = time.time()\n",
    "    for epoch in range(n_epochs):\n",
    "        train_loss= train(train_loader, model, loss_fn, optimizer, device=device)\n",
    "        _, train_accuracy = evaluate(train_loader, model, loss_fn, device=device)\n",
    "        \n",
    "        message = 'Epoch: {}/{}. Train set: Average loss: {:.4f}, Accuracy: {:.4f}'.format(epoch+1, \\\n",
    "                                                                n_epochs, train_loss, train_accuracy)\n",
    "        print(message)\n",
    "\n",
    "        test_loss, test_accuracy = evaluate(test_loader, model, loss_fn, device=device)\n",
    "        message = 'Epoch: {}/{}. Validation set: Average loss: {:.4f}, Accuracy: {:.4f}'.format(epoch+1, \\\n",
    "                                                               n_epochs, test_loss, test_accuracy)\n",
    "        print(message)\n",
    "        print(\"Cost:\", time.time() - start_time)\n",
    "        \n",
    "        train_accs.append(train_accuracy)\n",
    "        train_losses.append(train_loss)\n",
    "        test_accs.append(test_accuracy)\n",
    "        test_losses.append(test_loss)\n",
    "        \n",
    "        scheduler['r'].step()\n",
    "        scheduler['n'].step()\n",
    "        scheduler['t'].step()\n",
    "        scheduler['s'].step()\n",
    "    print('Fit end')\n",
    "    return train_accs, train_losses, test_accs, test_losses"
   ]
  },
  {
   "cell_type": "code",
   "execution_count": 15,
   "metadata": {},
   "outputs": [],
   "source": [
    "def show_curve(ys, title):\n",
    "    x = np.array(range(len(ys)))\n",
    "    y = np.array(ys)\n",
    "    plt.plot(x, y, c='b')\n",
    "    plt.axis()\n",
    "    plt.title('{} Curve:'.format(title))\n",
    "    plt.xlabel('Epoch')\n",
    "    plt.ylabel('{} Value'.format(title))\n",
    "    plt.show()"
   ]
  },
  {
   "cell_type": "markdown",
   "metadata": {},
   "source": [
    "## 5. Train"
   ]
  },
  {
   "cell_type": "code",
   "execution_count": 16,
   "metadata": {},
   "outputs": [
    {
     "name": "stderr",
     "output_type": "stream",
     "text": [
      "Downloading: \"https://download.pytorch.org/models/resnet50-19c8e357.pth\" to /tmp/.cache/torch/checkpoints/resnet50-19c8e357.pth\n",
      "\n",
      "  0%|          | 0/102502400 [00:00<?, ?it/s]\u001b[A\n",
      "  8%|▊         | 7921664/102502400 [00:00<00:01, 79198399.63it/s]\u001b[A\n",
      " 14%|█▍        | 14319616/102502400 [00:00<00:01, 73907594.73it/s]\u001b[A\n",
      " 21%|██        | 21561344/102502400 [00:00<00:01, 73267757.27it/s]\u001b[A\n",
      " 26%|██▌       | 26230784/102502400 [00:00<00:01, 60145265.75it/s]\u001b[A\n",
      " 33%|███▎      | 33882112/102502400 [00:00<00:01, 64263957.38it/s]\u001b[A\n",
      " 38%|███▊      | 39354368/102502400 [00:00<00:01, 54679016.18it/s]\u001b[A\n",
      " 45%|████▌     | 46465024/102502400 [00:00<00:01, 53612348.49it/s]\u001b[A\n",
      " 52%|█████▏    | 53272576/102502400 [00:00<00:00, 57249005.54it/s]\u001b[A\n",
      " 59%|█████▉    | 60751872/102502400 [00:00<00:00, 61572582.48it/s]\u001b[A\n",
      " 66%|██████▌   | 67764224/102502400 [00:01<00:00, 63904056.31it/s]\u001b[A\n",
      " 74%|███████▍  | 75653120/102502400 [00:01<00:00, 67763021.05it/s]\u001b[A\n",
      " 81%|████████  | 82681856/102502400 [00:01<00:00, 68495700.37it/s]\u001b[A\n",
      " 87%|████████▋ | 89595904/102502400 [00:01<00:00, 57324622.07it/s]\u001b[A\n",
      " 93%|█████████▎| 95682560/102502400 [00:01<00:00, 56033366.77it/s]\u001b[A\n",
      " 99%|█████████▉| 101539840/102502400 [00:01<00:00, 56068124.65it/s]\u001b[A\n",
      "100%|██████████| 102502400/102502400 [00:01<00:00, 60748874.80it/s]\u001b[A"
     ]
    },
    {
     "name": "stdout",
     "output_type": "stream",
     "text": [
      "Fit start\n",
      "Epoch: 1/10. Train set: Average loss: 29.5713, Accuracy: 26.3597\n",
      "Epoch: 1/10. Validation set: Average loss: 3.1081, Accuracy: 23.5589\n",
      "Cost: 574.0226299762726\n",
      "Epoch: 2/10. Train set: Average loss: 21.7526, Accuracy: 57.3574\n",
      "Epoch: 2/10. Validation set: Average loss: 1.7051, Accuracy: 51.6051\n",
      "Cost: 1148.9625890254974\n",
      "Epoch: 3/10. Train set: Average loss: 16.8709, Accuracy: 66.3163\n",
      "Epoch: 3/10. Validation set: Average loss: 1.4543, Accuracy: 58.0083\n",
      "Cost: 1724.8854219913483\n",
      "Epoch: 4/10. Train set: Average loss: 15.0482, Accuracy: 76.9937\n",
      "Epoch: 4/10. Validation set: Average loss: 1.1075, Accuracy: 68.2775\n",
      "Cost: 2297.712609052658\n",
      "Epoch: 5/10. Train set: Average loss: 15.1249, Accuracy: 82.5492\n",
      "Epoch: 5/10. Validation set: Average loss: 1.0127, Accuracy: 72.1781\n",
      "Cost: 2867.2944281101227\n",
      "Epoch: 6/10. Train set: Average loss: 14.2782, Accuracy: 86.2362\n",
      "Epoch: 6/10. Validation set: Average loss: 0.9361, Accuracy: 75.0431\n",
      "Cost: 3433.647276163101\n",
      "Epoch: 7/10. Train set: Average loss: 13.2632, Accuracy: 91.5916\n",
      "Epoch: 7/10. Validation set: Average loss: 0.7523, Accuracy: 79.6514\n",
      "Cost: 3999.8880853652954\n",
      "Epoch: 8/10. Train set: Average loss: 12.8634, Accuracy: 93.4601\n",
      "Epoch: 8/10. Validation set: Average loss: 0.7416, Accuracy: 80.3590\n",
      "Cost: 4564.654283046722\n",
      "Epoch: 9/10. Train set: Average loss: 12.4542, Accuracy: 94.0774\n",
      "Epoch: 9/10. Validation set: Average loss: 0.7305, Accuracy: 80.7042\n",
      "Cost: 5127.17462182045\n",
      "Epoch: 10/10. Train set: Average loss: 12.2594, Accuracy: 95.1118\n",
      "Epoch: 10/10. Validation set: Average loss: 0.7247, Accuracy: 81.4981\n",
      "Cost: 5692.610912322998\n",
      "Fit end\n"
     ]
    },
    {
     "data": {
      "image/png": "[encoded data removed]",
      "text/plain": [
       "<Figure size 432x288 with 1 Axes>"
      ]
     },
     "metadata": {
      "needs_background": "light"
     },
     "output_type": "display_data"
    },
    {
     "data": {
      "image/png": "[encoded data removed]",
      "text/plain": [
       "<Figure size 432x288 with 1 Axes>"
      ]
     },
     "metadata": {
      "needs_background": "light"
     },
     "output_type": "display_data"
    }
   ],
   "source": [
    "n_epochs = 10\n",
    "learning_rate = 0.001\n",
    "\n",
    "model = NTSNet(topN=6).to(device)\n",
    "loss_fn = nn.CrossEntropyLoss()\n",
    "\n",
    "optimizer = dict()\n",
    "optimizer['r'] = torch.optim.SGD(model.feature_extractor.parameters(), lr=learning_rate, momentum=0.9)\n",
    "optimizer['n'] = torch.optim.SGD(model.navigator.parameters(), lr=learning_rate, momentum=0.9)\n",
    "optimizer['t'] = torch.optim.SGD(model.teacher.parameters(), lr=learning_rate, momentum=0.9)\n",
    "optimizer['s'] = torch.optim.SGD(model.scrutinizer.parameters(), lr=learning_rate, momentum=0.9)\n",
    "\n",
    "scheduler = dict()\n",
    "scheduler['r'] = torch.optim.lr_scheduler.StepLR(optimizer['r'], step_size=6, gamma=0.5)\n",
    "scheduler['n'] = torch.optim.lr_scheduler.StepLR(optimizer['n'], step_size=6, gamma=0.5)\n",
    "scheduler['t'] = torch.optim.lr_scheduler.StepLR(optimizer['t'], step_size=6, gamma=0.5)\n",
    "scheduler['s'] = torch.optim.lr_scheduler.StepLR(optimizer['s'], step_size=6, gamma=0.5)\n",
    "                                                           \n",
    "train_accs, train_losses, test_accs, test_losses = fit(trainloader, testloader, model, loss_fn, optimizer, scheduler, n_epochs, device)\n",
    "show_curve(train_accs, 'accuracy')\n",
    "show_curve(train_losses, 'loss')"
   ]
  },
  {
   "cell_type": "code",
   "execution_count": 18,
   "metadata": {},
   "outputs": [
    {
     "data": {
      "image/png": "[encoded data removed]",
      "text/plain": [
       "<Figure size 432x288 with 1 Axes>"
      ]
     },
     "metadata": {
      "needs_background": "light"
     },
     "output_type": "display_data"
    },
    {
     "data": {
      "image/png": "[encoded data removed]",
      "text/plain": [
       "<Figure size 432x288 with 1 Axes>"
      ]
     },
     "metadata": {
      "needs_background": "light"
     },
     "output_type": "display_data"
    }
   ],
   "source": [
    "show_curve(test_accs, 'test-accuracy')\n",
    "show_curve(test_losses, 'test-loss')"
   ]
  }
 ],
 "metadata": {
  "kernelspec": {
   "display_name": "Python 3",
   "language": "python",
   "name": "python3"
  },
  "language_info": {
   "codemirror_mode": {
    "name": "ipython",
    "version": 3
   },
   "file_extension": ".py",
   "mimetype": "text/x-python",
   "name": "python",
   "nbconvert_exporter": "python",
   "pygments_lexer": "ipython3",
   "version": "3.7.1"
  }
 },
 "nbformat": 4,
 "nbformat_minor": 1
}
