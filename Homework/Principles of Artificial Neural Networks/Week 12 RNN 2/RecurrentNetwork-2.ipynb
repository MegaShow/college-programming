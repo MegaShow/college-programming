{
 "cells": [
  {
   "cell_type": "markdown",
   "metadata": {},
   "source": [
    "## Recurrent Network - 2nd Part"
   ]
  },
  {
   "cell_type": "markdown",
   "metadata": {},
   "source": [
    "LSTM was proposed in 1997 by Sepp Hochreiter and Jürgen Schmidhuber. It is an artificial **recurrent neural network (RNN) architecture**, developed to deal with the **exploding and vanishing gradient problems** that can be encountered when training traditional RNNs.\n",
    "\n",
    "In this lessson, we would introduce several parts below:\n",
    "\n",
    "1. Some application of LSTM, eg., Seq2Seq  \n",
    "    1.1 Naive implementation of Seqseq translation model  \n",
    "    1.2 Naive implementation of Seqseq translation model with attention mechanism\n",
    "2. More about LSTM  \n",
    "    2.1 Exploring the inner structrue of LSTM (Implement LSTM from scratch using pytorch)      \n",
    "    2.2 Comparing LSTM with RNN on change of the grad, when input is a very long sequence   \n",
    "    2.3 Observing the forget gate, input gate and output gate of LSTM   \n",
    "    \n",
    "This tutorials mainly refer from [seq2seq_translation_tutorial](https://pytorch.org/tutorials/intermediate/seq2seq_translation_tutorial.html) and [Building an LSTM from Scratch in PyTorch ](http://mlexplained.com/2019/02/15/building-an-lstm-from-scratch-in-pytorch-lstms-in-depth-part-1/)."
   ]
  },
  {
   "cell_type": "markdown",
   "metadata": {},
   "source": [
    "## Load Necessary modules"
   ]
  },
  {
   "cell_type": "code",
   "execution_count": 1,
   "metadata": {
    "ExecuteTime": {
     "end_time": "2019-05-16T07:08:01.342772Z",
     "start_time": "2019-05-16T07:08:01.328156Z"
    }
   },
   "outputs": [],
   "source": [
    "%load_ext autoreload\n",
    "%autoreload 2\n",
    "%matplotlib inline\n",
    "\n",
    "import random\n",
    "import math\n",
    "import time\n",
    "\n",
    "import torch\n",
    "import torch.nn as nn\n",
    "from torch import optim\n",
    "import torch.nn.functional as F\n",
    "from typing import *\n",
    "from torch.nn import Parameter\n",
    "from torch.nn import init\n",
    "from torch import Tensor\n",
    "import numpy as np\n",
    "\n",
    "import matplotlib.pyplot as plt\n",
    "import matplotlib.ticker as ticker"
   ]
  },
  {
   "cell_type": "markdown",
   "metadata": {},
   "source": [
    "Since process of data isn't the center part that we should focus in this tutorials,\n",
    "we put data related code in **utils** function.    \n",
    "Actually, if we want to solve a problem seriously, there is no way for us to skip data processing, which may be boring but very important. "
   ]
  },
  {
   "cell_type": "code",
   "execution_count": 2,
   "metadata": {
    "ExecuteTime": {
     "end_time": "2019-05-16T07:08:01.360506Z",
     "start_time": "2019-05-16T07:08:01.344015Z"
    }
   },
   "outputs": [],
   "source": [
    "from utils import *"
   ]
  },
  {
   "cell_type": "code",
   "execution_count": 3,
   "metadata": {
    "ExecuteTime": {
     "end_time": "2019-05-16T07:08:01.368390Z",
     "start_time": "2019-05-16T07:08:01.361540Z"
    }
   },
   "outputs": [],
   "source": [
    "# Determine to use GPU or CPU\n",
    "device = torch.device(\"cuda\" if torch.cuda.is_available() else \"cpu\")"
   ]
  },
  {
   "cell_type": "code",
   "execution_count": 4,
   "metadata": {
    "ExecuteTime": {
     "end_time": "2019-05-16T07:08:01.377045Z",
     "start_time": "2019-05-16T07:08:01.369769Z"
    }
   },
   "outputs": [],
   "source": [
    "def setup_seed(seed):\n",
    "    \"\"\"In order to reproduce the same results\n",
    "    Args: \n",
    "        seed: random seed given by you\n",
    "    \"\"\"\n",
    "    torch.manual_seed(seed)\n",
    "    np.random.seed(seed)\n",
    "    random.seed(seed)\n",
    "    torch.backends.cudnn.deterministic = True\n",
    "    torch.backends.cudnn.benchmark = True"
   ]
  },
  {
   "attachments": {
    "seq2seq.png": {
     "image/png": "[encoded data removed]"
    }
   },
   "cell_type": "markdown",
   "metadata": {
    "ExecuteTime": {
     "end_time": "2019-05-11T05:44:13.277331Z",
     "start_time": "2019-05-11T05:44:13.270558Z"
    }
   },
   "source": [
    "## 1.1 Naive implementation of Seqseq translation model  \n",
    "Seq2seq translation model consists of two parts, including the **Encoder** and **Decoder**.   \n",
    "Encoder encodes source sentences into fixed vectors for decoder.  \n",
    "Decoder decode fixed vectors into target sentences.\n",
    "\n",
    "![seq2seq.png](attachment:seq2seq.png)"
   ]
  },
  {
   "cell_type": "markdown",
   "metadata": {},
   "source": [
    "## 1.1.1 The Encoder\n",
    "\n",
    "\n",
    "The encoder of a seq2seq network is a LSTM that outputs some value for every word from the input sentence.   \n",
    "For every input word the encoder outputs a vector and a hidden state, and uses the hidden state for the\n",
    "next input word."
   ]
  },
  {
   "cell_type": "code",
   "execution_count": 5,
   "metadata": {
    "ExecuteTime": {
     "end_time": "2019-05-16T07:08:01.387927Z",
     "start_time": "2019-05-16T07:08:01.378475Z"
    }
   },
   "outputs": [],
   "source": [
    "class EncoderLSTM(nn.Module):\n",
    "    \"\"\"Encoder use LSTM as backbone\"\"\"\n",
    "    def __init__(self, input_size: int, hidden_size: int):\n",
    "        \"\"\"\n",
    "        Args:\n",
    "            input_size : The number of expected features in the input \n",
    "            hidden_size: The number of features in the hidden state \n",
    "        \"\"\"\n",
    "        super(EncoderLSTM, self).__init__()\n",
    "        self.hidden_size = hidden_size\n",
    "        # Retrieve word embeddings with dimentionality hidden_size \n",
    "        # using indices with dimentionality input_size, embeddding is learnable\n",
    "        # After embedding, input vector with input_size would be converted to hidden_size\n",
    "        self.embedding = nn.Embedding(input_size, hidden_size)\n",
    "        # LSTM \n",
    "        self.lstm = nn.LSTM(hidden_size, hidden_size)\n",
    "        \n",
    "    def forward(self, inputs: Tensor, state: Tuple[Tensor]):\n",
    "        \"\"\"Forward\n",
    "        Args:\n",
    "            inputs: [1, hidden_size]\n",
    "            state : ([1, 1, hidden_size], [1, 1, hidden_size])\n",
    "        Returns:\n",
    "            output:\n",
    "            state: (hidden, cell)\n",
    "        \"\"\"\n",
    "        (hidden, cell) = state\n",
    "        # Retrieve word embeddings\n",
    "        embedded = self.embedding(inputs).view(1, 1, -1)\n",
    "        # Directly output embedding\n",
    "        output = embedded\n",
    "        output, (hidden, cell) = self.lstm(output, (hidden, cell))\n",
    "        return output, (hidden, cell)\n",
    "    \n",
    "    def init_hidden(self):\n",
    "        \"\"\"Init hidden\n",
    "        Returns:\n",
    "            hidden:\n",
    "            cell:\n",
    "        \"\"\"\n",
    "        cell = torch.zeros(1, 1, self.hidden_size, device=device)\n",
    "        hidden = torch.zeros(1, 1, self.hidden_size, device=device)\n",
    "        return hidden, cell"
   ]
  },
  {
   "cell_type": "markdown",
   "metadata": {},
   "source": [
    "## 1.1.2 The Decoder\n",
    "\n",
    "The decoder is another LSTM that takes the encoder output vector(s) and outputs a sequence of words to create the translation.\n",
    "\n",
    "In the simplest seq2seq decoder we use only last output of the encoder. \n",
    "\n",
    "This last output is sometimes called the context vector as it encodes context from the entire sequence. \n",
    "\n",
    "This context vector is used as the initial hidden state of the decoder.\n",
    "\n",
    "At every step of decoding, the decoder is given an input token and hidden state. \n",
    "\n",
    "The initial input token is the start-of-string <SOS> token, and the first hidden state is the context vector (the encoder’s last hidden state)."
   ]
  },
  {
   "cell_type": "code",
   "execution_count": 6,
   "metadata": {
    "ExecuteTime": {
     "end_time": "2019-05-16T07:08:01.399098Z",
     "start_time": "2019-05-16T07:08:01.388945Z"
    }
   },
   "outputs": [],
   "source": [
    "class DecoderLSTM(nn.Module):\n",
    "    \"\"\"Decoder use LSTM as backbone\"\"\"\n",
    "    def __init__(self, hidden_size: int, output_size: int):\n",
    "        \"\"\"\n",
    "        Args:\n",
    "            hidden_size: The number of features in the hidden state \n",
    "            output_size : The number of expected features in the output \n",
    "        \"\"\"\n",
    "        super(DecoderLSTM, self).__init__()\n",
    "        self.hidden_size = hidden_size\n",
    "        # Retrieve word embeddings with dimentionality hidden_size \n",
    "        # using indices with dimentionality input_size, embeddding is learnable\n",
    "        # After embedding, input vector with input_size would be converted to hidden_size\n",
    "        self.embedding = nn.Embedding(output_size, hidden_size)\n",
    "        # LSTM\n",
    "        self.lstm = nn.LSTM(hidden_size, hidden_size)\n",
    "        # out\n",
    "        self.out = nn.Linear(hidden_size, output_size)\n",
    "        # log after softmax\n",
    "        self.log_softmax = nn.LogSoftmax(dim=1)\n",
    "        # activation function\n",
    "        self.activation_function = F.relu\n",
    "        \n",
    "    def forward(self, inputs, state):\n",
    "        \"\"\"Forward\n",
    "        Args:\n",
    "            inputs: [1, hidden_size]\n",
    "            state : ([1, 1, hidden_size], [1, 1, hidden_size])\n",
    "        Returns:\n",
    "            output:\n",
    "            state: (hidden, cell)\n",
    "        \"\"\"\n",
    "        (hidden, cell) = state\n",
    "        # Retrieve word embeddings, [1, 1, hidden_size]\n",
    "        output = self.embedding(inputs).view(1, 1, -1)\n",
    "        # activation function, [1, 1, hidden_size]\n",
    "        output = self.activation_function(output)\n",
    "        # output: [1, 1, hidden_size]\n",
    "        output, (hidden, cell) = self.lstm(output, (hidden, cell))\n",
    "        # output: [output_size]\n",
    "        output = self.log_softmax(self.out(output[0]))\n",
    "        return output, (hidden, cell)\n",
    "\n",
    "    def init_hidden(self):\n",
    "        \"\"\"Init hidden\n",
    "        Returns:\n",
    "            hidden:\n",
    "            cell:\n",
    "        \"\"\"\n",
    "        cell = torch.zeros(1, 1, self.hidden_size, device=device)\n",
    "        hidden = torch.zeros(1, 1, self.hidden_size, device=device)\n",
    "        return hidden, cell"
   ]
  },
  {
   "cell_type": "markdown",
   "metadata": {},
   "source": [
    "## 1.1.3 Train and Evaluate"
   ]
  },
  {
   "cell_type": "code",
   "execution_count": 7,
   "metadata": {
    "ExecuteTime": {
     "end_time": "2019-05-16T07:08:01.411155Z",
     "start_time": "2019-05-16T07:08:01.400108Z"
    }
   },
   "outputs": [],
   "source": [
    "def train_by_sentence(input_tensor, target_tensor, encoder, decoder, \n",
    "                      encoder_optimizer, decoder_optimizer, loss_fn, \n",
    "                      use_teacher_forcing=True, reverse_source_sentence=True,\n",
    "                      max_length=MAX_LENGTH):\n",
    "    \"\"\"Train by single sentence using EncoderLSTM and DecoderLSTM\n",
    "       including training and update model\n",
    "    Args:\n",
    "        input_tensor: [input_sequence_len, 1, hidden_size]\n",
    "        target_tensor: [target_sequence_len, 1, hidden_size]\n",
    "        encoder: EncoderLSTM\n",
    "        decoder: DecoderLSTM\n",
    "        encoder_optimizer: optimizer for encoder\n",
    "        decoder_optimizer: optimizer for decoder\n",
    "        loss_fn: loss function\n",
    "        use_teacher_forcing: True is to Feed the target as the next input, \n",
    "                             False is to use its own predictions as the next input\n",
    "        max_length: max length for input and output\n",
    "    Returns:\n",
    "        loss: scalar\n",
    "    \"\"\"\n",
    "    if reverse_source_sentence:\n",
    "        input_tensor = torch.flip(input_tensor, [0])\n",
    "        \n",
    "    hidden, cell = encoder.init_hidden()\n",
    "\n",
    "    # Clears the gradients of all optimized torch.Tensors'\n",
    "    encoder_optimizer.zero_grad()\n",
    "    decoder_optimizer.zero_grad()\n",
    "\n",
    "    # Get sequence length of the input and target sentences.\n",
    "    input_length = input_tensor.size(0)\n",
    "    target_length = target_tensor.size(0)\n",
    "    \n",
    "    # encoder outputs:  [max_length, hidden_size]\n",
    "    encoder_outputs = torch.zeros(max_length, encoder.hidden_size, device=device)\n",
    "\n",
    "    loss = 0\n",
    "\n",
    "    # Get encoder outputs\n",
    "    for ei in range(input_length):\n",
    "        encoder_output, (hidden, cell) = encoder(\n",
    "            input_tensor[ei], (hidden, cell))\n",
    "        encoder_outputs[ei] = encoder_output[0, 0]\n",
    "    \n",
    "    # First input for the decoder\n",
    "    decoder_input = torch.tensor([[SOS_token]], device=device)\n",
    "    \n",
    "    # Last state of encoder as the init state of decoder\n",
    "    decoder_hidden = (hidden, cell)\n",
    "\n",
    "    for di in range(target_length):\n",
    "        decoder_output, (hidden, cell) = decoder(\n",
    "            decoder_input, (hidden, cell))\n",
    "        \n",
    "        if use_teacher_forcing:\n",
    "            # Feed the target as the next input\n",
    "            loss += loss_fn(decoder_output, target_tensor[di])\n",
    "            decoder_input = target_tensor[di]  # Teacher forcing\n",
    "        else:\n",
    "            # Use its own predictions as the next input\n",
    "            topv, topi = decoder_output.topk(1)\n",
    "            decoder_input = topi.squeeze().detach()\n",
    "            loss += loss_fn(decoder_output, target_tensor[di])\n",
    "\n",
    "        # End if decoder output End of Signal(EOS)\n",
    "        if decoder_input.item() == EOS_token:\n",
    "            break\n",
    "\n",
    "    loss.backward()\n",
    "\n",
    "    encoder_optimizer.step()\n",
    "    decoder_optimizer.step()\n",
    "\n",
    "    return loss.item() / target_length"
   ]
  },
  {
   "cell_type": "code",
   "execution_count": 8,
   "metadata": {
    "ExecuteTime": {
     "end_time": "2019-05-16T07:08:01.422941Z",
     "start_time": "2019-05-16T07:08:01.412211Z"
    }
   },
   "outputs": [],
   "source": [
    "def train(encoder, decoder, n_iters, reverse_source_sentence=True, \n",
    "          use_teacher_forcing=True,\n",
    "          print_every=1000, plot_every=100, \n",
    "          learning_rate=0.01):\n",
    "    \"\"\"Train of Seq2seq\n",
    "    Args:\n",
    "        encoder: EncoderLSTM\n",
    "        decoder: DecoderLSTM\n",
    "        n_iters: train with n_iters sentences without replacement\n",
    "        reverse_source_sentence: True is to reverse the source sentence \n",
    "                                 but keep order of target unchanged,\n",
    "                                 False is to keep order of the source sentence \n",
    "                                 target unchanged\n",
    "        use_teacher_forcing: True is to Feed the target as the next input, \n",
    "                             False is to use its own predictions as the next input\n",
    "        print_every: print log every print_every \n",
    "        plot_every: plot every plot_every \n",
    "        learning_rate: \n",
    "        \n",
    "    \"\"\"\n",
    "    \n",
    "    start = time.time()\n",
    "    \n",
    "    plot_losses = []\n",
    "    print_loss_total = 0\n",
    "    plot_loss_total = 0\n",
    "\n",
    "    # Use SGD to optimize encoder and decoder parameters\n",
    "    encoder_optimizer = optim.SGD(encoder.parameters(), lr=learning_rate)\n",
    "    decoder_optimizer = optim.SGD(decoder.parameters(), lr=learning_rate)\n",
    "    \n",
    "    # Obtain training input \n",
    "    training_pairs = [tensor_from_pair(random.choice(pairs), input_lang, output_lang)\n",
    "                      for _ in range(n_iters)]\n",
    "    \n",
    "    # Negative log likelihood loss\n",
    "    loss_fn = nn.NLLLoss()\n",
    "\n",
    "    for i in range(1, n_iters+1):\n",
    "        # Get a pair of sentences and move them to device, \n",
    "        # training_pair: ([Seq_size, 1, input_size], [Seq_size, 1, input_size])\n",
    "        training_pair = training_pairs[i-1]\n",
    "        input_tensor = training_pair[0].to(device)\n",
    "        target_tensor = training_pair[1].to(device)            \n",
    "            \n",
    "        # Train by a pair of source sentence and target sentence\n",
    "        loss = train_by_sentence(input_tensor, target_tensor, \n",
    "                                 encoder, decoder,\n",
    "                                 encoder_optimizer, decoder_optimizer, \n",
    "                                 loss_fn, use_teacher_forcing=use_teacher_forcing,\n",
    "                                 reverse_source_sentence=reverse_source_sentence)\n",
    "        \n",
    "        print_loss_total += loss\n",
    "        plot_loss_total += loss\n",
    "\n",
    "        if i % print_every == 0:\n",
    "            # Print Loss\n",
    "            print_loss_avg = print_loss_total / print_every\n",
    "            print_loss_total = 0\n",
    "            print(\"%s (%d %d%%) %.4f\" % (time_since(start, i / n_iters),\n",
    "                                         i, i / n_iters * 100, print_loss_avg))\n",
    "\n",
    "        if i % plot_every == 0:\n",
    "            # Plot\n",
    "            plot_loss_avg = plot_loss_total / plot_every\n",
    "            plot_losses.append(plot_loss_avg)\n",
    "            plot_loss_total = 0\n",
    "    \n",
    "    # show plot\n",
    "    show_plot(plot_losses)"
   ]
  },
  {
   "cell_type": "code",
   "execution_count": 9,
   "metadata": {
    "ExecuteTime": {
     "end_time": "2019-05-16T07:08:01.434896Z",
     "start_time": "2019-05-16T07:08:01.423952Z"
    }
   },
   "outputs": [],
   "source": [
    "def evaluate_by_sentence(encoder, decoder, sentence, reverse_source_sentence, max_length=MAX_LENGTH):\n",
    "    \"\"\"Evalutae on a source sentence\n",
    "    Args:\n",
    "        encoder\n",
    "        decoder\n",
    "        sentence\n",
    "        max_length\n",
    "    Return:\n",
    "        decoded_words: predicted sentence\n",
    "    \"\"\"\n",
    "    with torch.no_grad():\n",
    "        # Get tensor of sentence\n",
    "        input_tensor = tensor_from_sentence(input_lang, sentence).to(device)\n",
    "        input_length = input_tensor.size(0)\n",
    "        \n",
    "        if reverse_source_sentence:\n",
    "            input_tensor = torch.flip(input_tensor, [0])\n",
    "        \n",
    "        # init state for encoder\n",
    "        (hidden, cell) = encoder.init_hidden()\n",
    "\n",
    "        # encoder outputs: [max_length, hidden_size]\n",
    "        encoder_outputs = torch.zeros(max_length, encoder.hidden_size, device=device)\n",
    "\n",
    "        for ei in range(input_length):\n",
    "            encoder_output, (hidden, cell) = encoder(input_tensor[ei],\n",
    "                                                     (hidden, cell))\n",
    "            encoder_outputs[ei] += encoder_output[0, 0]\n",
    "            \n",
    "        # Last state of encoder as the init state of decoder\n",
    "        decoder_input = torch.tensor([[SOS_token]], device=device)\n",
    "        decoder_hidden = (hidden, cell)\n",
    "        decoded_words = []\n",
    "\n",
    "        # When evaluate, use its own predictions as the next input\n",
    "        for di in range(max_length):\n",
    "            decoder_output, (hidden, cell) = decoder(decoder_input, (hidden, cell))\n",
    "            topv, topi = decoder_output.data.topk(1)\n",
    "            if topi.item() == EOS_token:\n",
    "                decoded_words.append(\"<EOS>\")\n",
    "                break\n",
    "            else:\n",
    "                decoded_words.append(output_lang.index2word[topi.item()])\n",
    "                \n",
    "            decoder_input = topi.squeeze().detach()\n",
    "\n",
    "    return decoded_words"
   ]
  },
  {
   "cell_type": "code",
   "execution_count": 10,
   "metadata": {
    "ExecuteTime": {
     "end_time": "2019-05-16T07:08:01.443187Z",
     "start_time": "2019-05-16T07:08:01.435820Z"
    }
   },
   "outputs": [],
   "source": [
    "def evaluate_randomly(encoder, decoder, n=10, reverse_source_sentence=True):\n",
    "    \"\"\"Random pick sentence from dataset and observe the effect of translation\n",
    "    Args:\n",
    "        encoder: \n",
    "        decoder:\n",
    "        n: numbers of sentences to evaluate\n",
    "    \"\"\"\n",
    "    for _ in range(n):\n",
    "        pair = random.choice(pairs)\n",
    "        # Source sentence\n",
    "        print(\">\", pair[0])\n",
    "        # Target sentence\n",
    "        print(\"=\", pair[1])\n",
    "        output_words = evaluate_by_sentence(encoder, decoder, pair[0], reverse_source_sentence)\n",
    "        output_sentence = \" \".join(output_words)\n",
    "        # Predicted sentence\n",
    "        print(\"<\", output_sentence)\n",
    "        print(\"\")"
   ]
  },
  {
   "cell_type": "code",
   "execution_count": 11,
   "metadata": {
    "ExecuteTime": {
     "end_time": "2019-05-16T07:08:01.450705Z",
     "start_time": "2019-05-16T07:08:01.444051Z"
    }
   },
   "outputs": [],
   "source": [
    "def show_plot(points):\n",
    "    \"\"\"Plot according to points\"\"\"\n",
    "    plt.figure()\n",
    "    fig, ax = plt.subplots()\n",
    "    loc = ticker.MultipleLocator(base=0.2)\n",
    "    ax.yaxis.set_major_locator(loc)\n",
    "    plt.plot(points)\n",
    "    plt.show()"
   ]
  },
  {
   "cell_type": "markdown",
   "metadata": {
    "ExecuteTime": {
     "end_time": "2019-05-14T11:38:20.770201Z",
     "start_time": "2019-05-14T11:36:27.419Z"
    }
   },
   "source": [
    "## 1.1.4 Let's load data and train\n",
    "Using **prepare_data** function to obtain sentences as pairs (source sentence, target sentence)."
   ]
  },
  {
   "cell_type": "code",
   "execution_count": 19,
   "metadata": {
    "ExecuteTime": {
     "end_time": "2019-05-16T07:08:04.735622Z",
     "start_time": "2019-05-16T07:08:01.451589Z"
    },
    "scrolled": false
   },
   "outputs": [
    {
     "name": "stdout",
     "output_type": "stream",
     "text": [
      "Reading lines...\n",
      "Read 135842 sentence pairs\n",
      "Reverse source sentence\n",
      "Trimmed to 10599 sentence pairs\n",
      "Counting words ...\n",
      "Counting words:\n",
      "fra 4345\n",
      "eng 2803\n",
      "['elle n est pas sans argent .', 'she s not penniless .']\n"
     ]
    }
   ],
   "source": [
    "# prepare_data defined in utis.py \n",
    "# reverse to True here means, source sentence is English, \n",
    "# while target sentence is France\n",
    "input_lang, output_lang, pairs = prepare_data('eng', 'fra', reverse=True)\n",
    "print(random.choice(pairs))"
   ]
  },
  {
   "cell_type": "code",
   "execution_count": 14,
   "metadata": {
    "ExecuteTime": {
     "end_time": "2019-05-16T07:08:04.770704Z",
     "start_time": "2019-05-16T07:08:04.736560Z"
    },
    "scrolled": true
   },
   "outputs": [
    {
     "name": "stdout",
     "output_type": "stream",
     "text": [
      ">> Model is on: True\n",
      ">> Model is on: True\n"
     ]
    }
   ],
   "source": [
    "setup_seed(45)\n",
    "hidden_size = 256\n",
    "# Reverse the order of source input sentence\n",
    "reverse_source_sentence = True\n",
    "# Feed the target as the next input\n",
    "use_teacher_forcing = True\n",
    "encoder = EncoderLSTM(input_lang.n_words, hidden_size).to(device)\n",
    "decoder = DecoderLSTM(hidden_size, output_lang.n_words).to(device)\n",
    "print(\">> Model is on: {}\".format(next(encoder.parameters()).is_cuda))\n",
    "print(\">> Model is on: {}\".format(next(decoder.parameters()).is_cuda))"
   ]
  },
  {
   "cell_type": "code",
   "execution_count": 15,
   "metadata": {
    "ExecuteTime": {
     "end_time": "2019-05-16T07:16:02.206545Z",
     "start_time": "2019-05-16T07:08:04.771750Z"
    },
    "scrolled": true
   },
   "outputs": [
    {
     "name": "stdout",
     "output_type": "stream",
     "text": [
      "0m 35s (- 117m 13s) (250 0%) 4.7301\n",
      "0m 50s (- 83m 42s) (500 1%) 3.3269\n",
      "1m 4s (- 70m 23s) (750 1%) 3.0458\n",
      "1m 17s (- 63m 34s) (1000 2%) 2.8595\n",
      "1m 31s (- 59m 25s) (1250 2%) 2.8384\n",
      "1m 44s (- 56m 23s) (1500 3%) 2.7370\n",
      "1m 57s (- 53m 52s) (1750 3%) 2.6759\n",
      "2m 10s (- 52m 1s) (2000 4%) 2.6775\n",
      "2m 22s (- 50m 27s) (2250 4%) 2.6329\n",
      "2m 35s (- 49m 16s) (2500 5%) 2.6113\n",
      "2m 49s (- 48m 24s) (2750 5%) 2.5890\n",
      "3m 2s (- 47m 33s) (3000 6%) 2.5076\n",
      "3m 14s (- 46m 42s) (3250 6%) 2.4959\n",
      "3m 27s (- 45m 57s) (3500 7%) 2.5263\n",
      "3m 40s (- 45m 15s) (3750 7%) 2.5167\n",
      "3m 52s (- 44m 37s) (4000 8%) 2.3970\n",
      "4m 5s (- 44m 2s) (4250 8%) 2.4132\n",
      "4m 18s (- 43m 29s) (4500 9%) 2.3209\n",
      "4m 30s (- 42m 57s) (4750 9%) 2.2764\n",
      "4m 43s (- 42m 28s) (5000 10%) 2.2885\n",
      "4m 55s (- 42m 0s) (5250 10%) 2.3332\n",
      "5m 8s (- 41m 36s) (5500 11%) 2.3204\n",
      "5m 21s (- 41m 11s) (5750 11%) 2.2541\n",
      "5m 33s (- 40m 49s) (6000 12%) 2.2727\n",
      "5m 46s (- 40m 27s) (6250 12%) 2.2329\n",
      "5m 59s (- 40m 4s) (6500 13%) 2.1703\n",
      "6m 11s (- 39m 41s) (6750 13%) 2.0671\n",
      "6m 24s (- 39m 19s) (7000 14%) 2.1644\n",
      "6m 36s (- 38m 59s) (7250 14%) 2.2096\n",
      "6m 49s (- 38m 39s) (7500 15%) 2.0804\n",
      "7m 2s (- 38m 20s) (7750 15%) 2.1003\n",
      "7m 14s (- 38m 1s) (8000 16%) 2.0653\n",
      "7m 27s (- 37m 43s) (8250 16%) 2.0542\n",
      "7m 40s (- 37m 26s) (8500 17%) 2.0976\n",
      "7m 53s (- 37m 10s) (8750 17%) 2.0354\n",
      "8m 5s (- 36m 52s) (9000 18%) 2.0289\n",
      "8m 18s (- 36m 36s) (9250 18%) 1.9037\n",
      "8m 31s (- 36m 18s) (9500 19%) 1.9525\n",
      "8m 43s (- 36m 0s) (9750 19%) 1.8598\n",
      "8m 56s (- 35m 45s) (10000 20%) 1.9433\n",
      "9m 8s (- 35m 28s) (10250 20%) 1.9164\n",
      "9m 21s (- 35m 11s) (10500 21%) 1.8676\n",
      "9m 33s (- 34m 54s) (10750 21%) 1.8912\n",
      "9m 46s (- 34m 39s) (11000 22%) 1.8940\n",
      "9m 59s (- 34m 23s) (11250 22%) 1.8391\n",
      "10m 12s (- 34m 8s) (11500 23%) 1.9038\n",
      "10m 24s (- 33m 54s) (11750 23%) 1.8223\n",
      "10m 37s (- 33m 38s) (12000 24%) 1.7111\n",
      "10m 50s (- 33m 23s) (12250 24%) 1.8238\n",
      "11m 2s (- 33m 8s) (12500 25%) 1.7750\n",
      "11m 15s (- 32m 53s) (12750 25%) 1.8930\n",
      "11m 28s (- 32m 38s) (13000 26%) 1.7776\n",
      "11m 41s (- 32m 24s) (13250 26%) 1.7633\n",
      "11m 53s (- 32m 9s) (13500 27%) 1.7333\n",
      "12m 6s (- 31m 54s) (13750 27%) 1.7893\n",
      "12m 19s (- 31m 40s) (14000 28%) 1.7390\n",
      "12m 32s (- 31m 26s) (14250 28%) 1.7701\n",
      "12m 44s (- 31m 12s) (14500 28%) 1.7329\n",
      "12m 57s (- 30m 58s) (14750 29%) 1.6696\n",
      "13m 10s (- 30m 44s) (15000 30%) 1.6313\n",
      "13m 23s (- 30m 29s) (15250 30%) 1.7256\n",
      "13m 35s (- 30m 15s) (15500 31%) 1.6859\n",
      "13m 48s (- 30m 1s) (15750 31%) 1.6195\n",
      "14m 0s (- 29m 46s) (16000 32%) 1.5513\n",
      "14m 13s (- 29m 32s) (16250 32%) 1.6846\n",
      "14m 26s (- 29m 18s) (16500 33%) 1.6875\n",
      "14m 38s (- 29m 4s) (16750 33%) 1.5778\n",
      "14m 51s (- 28m 50s) (17000 34%) 1.6210\n",
      "15m 4s (- 28m 36s) (17250 34%) 1.5758\n",
      "15m 16s (- 28m 22s) (17500 35%) 1.5593\n",
      "15m 29s (- 28m 9s) (17750 35%) 1.5810\n",
      "15m 42s (- 27m 55s) (18000 36%) 1.5944\n",
      "15m 55s (- 27m 41s) (18250 36%) 1.5053\n",
      "16m 7s (- 27m 28s) (18500 37%) 1.4108\n",
      "16m 20s (- 27m 14s) (18750 37%) 1.5082\n",
      "16m 33s (- 27m 0s) (19000 38%) 1.5458\n",
      "16m 45s (- 26m 46s) (19250 38%) 1.4254\n",
      "16m 57s (- 26m 32s) (19500 39%) 1.4709\n",
      "17m 10s (- 26m 17s) (19750 39%) 1.4742\n",
      "17m 22s (- 26m 3s) (20000 40%) 1.3979\n",
      "17m 35s (- 25m 50s) (20250 40%) 1.4668\n",
      "17m 47s (- 25m 36s) (20500 41%) 1.4649\n",
      "18m 0s (- 25m 22s) (20750 41%) 1.4709\n",
      "18m 12s (- 25m 9s) (21000 42%) 1.4918\n",
      "18m 25s (- 24m 56s) (21250 42%) 1.4107\n",
      "18m 38s (- 24m 42s) (21500 43%) 1.4762\n",
      "18m 51s (- 24m 29s) (21750 43%) 1.5225\n",
      "19m 3s (- 24m 15s) (22000 44%) 1.4054\n",
      "19m 16s (- 24m 2s) (22250 44%) 1.3352\n",
      "19m 29s (- 23m 49s) (22500 45%) 1.3740\n",
      "19m 41s (- 23m 35s) (22750 45%) 1.4333\n",
      "19m 54s (- 23m 22s) (23000 46%) 1.3943\n",
      "20m 7s (- 23m 9s) (23250 46%) 1.2736\n",
      "20m 20s (- 22m 55s) (23500 47%) 1.3318\n",
      "20m 32s (- 22m 42s) (23750 47%) 1.3693\n",
      "20m 45s (- 22m 28s) (24000 48%) 1.3522\n",
      "20m 57s (- 22m 15s) (24250 48%) 1.2736\n",
      "21m 10s (- 22m 2s) (24500 49%) 1.3980\n",
      "21m 22s (- 21m 48s) (24750 49%) 1.2201\n",
      "21m 35s (- 21m 35s) (25000 50%) 1.2675\n",
      "21m 48s (- 21m 22s) (25250 50%) 1.3469\n",
      "22m 1s (- 21m 9s) (25500 51%) 1.2714\n",
      "22m 13s (- 20m 56s) (25750 51%) 1.2665\n",
      "22m 26s (- 20m 42s) (26000 52%) 1.2653\n",
      "22m 38s (- 20m 29s) (26250 52%) 1.1929\n",
      "22m 51s (- 20m 16s) (26500 53%) 1.2523\n",
      "23m 4s (- 20m 3s) (26750 53%) 1.2691\n",
      "23m 16s (- 19m 49s) (27000 54%) 1.1528\n",
      "23m 29s (- 19m 36s) (27250 54%) 1.2370\n",
      "23m 42s (- 19m 23s) (27500 55%) 1.2660\n",
      "23m 55s (- 19m 10s) (27750 55%) 1.2506\n",
      "24m 7s (- 18m 57s) (28000 56%) 1.2735\n",
      "24m 20s (- 18m 44s) (28250 56%) 1.2148\n",
      "24m 33s (- 18m 31s) (28500 56%) 1.2847\n",
      "24m 45s (- 18m 18s) (28750 57%) 1.2118\n",
      "24m 58s (- 18m 5s) (29000 57%) 1.1789\n",
      "25m 11s (- 17m 52s) (29250 58%) 1.1460\n",
      "25m 24s (- 17m 39s) (29500 59%) 1.1338\n",
      "25m 37s (- 17m 26s) (29750 59%) 1.1070\n",
      "25m 49s (- 17m 13s) (30000 60%) 1.2129\n",
      "26m 1s (- 16m 59s) (30250 60%) 1.0972\n",
      "26m 14s (- 16m 46s) (30500 61%) 1.0851\n",
      "26m 27s (- 16m 34s) (30750 61%) 1.1832\n",
      "26m 40s (- 16m 21s) (31000 62%) 1.0532\n",
      "26m 53s (- 16m 8s) (31250 62%) 1.1463\n",
      "27m 6s (- 15m 55s) (31500 63%) 1.0433\n",
      "27m 19s (- 15m 42s) (31750 63%) 1.0821\n",
      "27m 32s (- 15m 29s) (32000 64%) 1.0334\n",
      "27m 45s (- 15m 16s) (32250 64%) 1.1181\n",
      "28m 1s (- 15m 5s) (32500 65%) 1.1509\n",
      "28m 16s (- 14m 53s) (32750 65%) 1.1036\n",
      "28m 30s (- 14m 40s) (33000 66%) 1.0277\n",
      "28m 43s (- 14m 28s) (33250 66%) 1.1785\n",
      "28m 57s (- 14m 15s) (33500 67%) 1.0550\n",
      "29m 10s (- 14m 2s) (33750 67%) 1.0629\n",
      "29m 24s (- 13m 50s) (34000 68%) 1.0696\n",
      "29m 38s (- 13m 37s) (34250 68%) 1.0918\n",
      "29m 51s (- 13m 24s) (34500 69%) 1.0613\n",
      "30m 4s (- 13m 11s) (34750 69%) 1.0352\n",
      "30m 18s (- 12m 59s) (35000 70%) 1.0065\n",
      "30m 31s (- 12m 46s) (35250 70%) 1.0674\n",
      "30m 46s (- 12m 34s) (35500 71%) 1.0631\n",
      "30m 59s (- 12m 21s) (35750 71%) 1.1001\n",
      "31m 14s (- 12m 8s) (36000 72%) 1.0393\n",
      "31m 27s (- 11m 55s) (36250 72%) 0.9400\n",
      "31m 40s (- 11m 42s) (36500 73%) 1.0264\n",
      "31m 52s (- 11m 29s) (36750 73%) 0.9909\n",
      "32m 5s (- 11m 16s) (37000 74%) 0.9877\n",
      "32m 18s (- 11m 3s) (37250 74%) 0.9790\n",
      "32m 30s (- 10m 50s) (37500 75%) 0.8614\n",
      "32m 43s (- 10m 37s) (37750 75%) 0.8985\n",
      "32m 56s (- 10m 24s) (38000 76%) 0.9313\n",
      "33m 9s (- 10m 11s) (38250 76%) 0.9810\n",
      "33m 21s (- 9m 57s) (38500 77%) 0.8965\n",
      "33m 34s (- 9m 44s) (38750 77%) 0.9325\n",
      "33m 47s (- 9m 31s) (39000 78%) 0.9488\n",
      "34m 0s (- 9m 18s) (39250 78%) 0.8820\n",
      "34m 13s (- 9m 5s) (39500 79%) 0.9141\n",
      "34m 26s (- 8m 52s) (39750 79%) 0.9451\n",
      "34m 39s (- 8m 39s) (40000 80%) 0.8610\n",
      "34m 51s (- 8m 26s) (40250 80%) 0.8987\n",
      "35m 4s (- 8m 13s) (40500 81%) 0.9370\n",
      "35m 17s (- 8m 0s) (40750 81%) 0.9663\n",
      "35m 30s (- 7m 47s) (41000 82%) 0.8364\n",
      "35m 42s (- 7m 34s) (41250 82%) 0.9296\n",
      "35m 57s (- 7m 21s) (41500 83%) 0.8876\n",
      "36m 10s (- 7m 8s) (41750 83%) 0.7837\n",
      "36m 24s (- 6m 56s) (42000 84%) 0.8643\n",
      "36m 37s (- 6m 43s) (42250 84%) 0.9092\n",
      "36m 50s (- 6m 30s) (42500 85%) 0.8111\n",
      "37m 3s (- 6m 17s) (42750 85%) 0.8668\n",
      "37m 17s (- 6m 4s) (43000 86%) 0.8687\n",
      "37m 30s (- 5m 51s) (43250 86%) 0.8701\n",
      "37m 42s (- 5m 38s) (43500 87%) 0.8108\n",
      "37m 55s (- 5m 25s) (43750 87%) 0.7329\n",
      "38m 8s (- 5m 12s) (44000 88%) 0.8410\n",
      "38m 21s (- 4m 59s) (44250 88%) 0.8041\n",
      "38m 34s (- 4m 46s) (44500 89%) 0.7772\n",
      "38m 48s (- 4m 33s) (44750 89%) 0.8702\n",
      "39m 1s (- 4m 20s) (45000 90%) 0.8274\n",
      "39m 15s (- 4m 7s) (45250 90%) 0.7602\n",
      "39m 28s (- 3m 54s) (45500 91%) 0.8276\n",
      "39m 44s (- 3m 41s) (45750 91%) 0.7752\n",
      "40m 4s (- 3m 29s) (46000 92%) 0.7822\n",
      "40m 18s (- 3m 16s) (46250 92%) 0.7470\n",
      "40m 33s (- 3m 3s) (46500 93%) 0.7725\n",
      "40m 47s (- 2m 50s) (46750 93%) 0.7477\n",
      "41m 0s (- 2m 37s) (47000 94%) 0.7231\n",
      "41m 12s (- 2m 23s) (47250 94%) 0.7538\n",
      "41m 25s (- 2m 10s) (47500 95%) 0.8537\n",
      "41m 39s (- 1m 57s) (47750 95%) 0.7798\n",
      "41m 52s (- 1m 44s) (48000 96%) 0.7322\n",
      "42m 4s (- 1m 31s) (48250 96%) 0.8085\n",
      "42m 24s (- 1m 18s) (48500 97%) 0.7098\n",
      "42m 43s (- 1m 5s) (48750 97%) 0.7215\n",
      "42m 59s (- 0m 52s) (49000 98%) 0.8122\n",
      "43m 16s (- 0m 39s) (49250 98%) 0.7791\n",
      "43m 32s (- 0m 26s) (49500 99%) 0.7251\n",
      "43m 47s (- 0m 13s) (49750 99%) 0.7874\n",
      "44m 1s (- 0m 0s) (50000 100%) 0.7124\n"
     ]
    },
    {
     "data": {
      "text/plain": [
       "<Figure size 432x288 with 0 Axes>"
      ]
     },
     "metadata": {},
     "output_type": "display_data"
    },
    {
     "data": {
      "image/png": "[encoded data removed]",
      "text/plain": [
       "<Figure size 432x288 with 1 Axes>"
      ]
     },
     "metadata": {
      "needs_background": "light"
     },
     "output_type": "display_data"
    }
   ],
   "source": [
    "iters = 50000\n",
    "train(encoder, decoder, iters, reverse_source_sentence=reverse_source_sentence, \n",
    "      use_teacher_forcing=use_teacher_forcing,print_every=250, plot_every=250)"
   ]
  },
  {
   "cell_type": "code",
   "execution_count": 16,
   "metadata": {
    "ExecuteTime": {
     "end_time": "2019-05-16T07:16:02.261000Z",
     "start_time": "2019-05-16T07:16:02.208167Z"
    },
    "scrolled": true
   },
   "outputs": [
    {
     "name": "stdout",
     "output_type": "stream",
     "text": [
      "> je suis tres fier de nos etudiants .\n",
      "= i m very proud of our students .\n",
      "< i m very proud of you . <EOS>\n",
      "\n",
      "> vous etes faibles .\n",
      "= you re weak .\n",
      "< you re rude . <EOS>\n",
      "\n",
      "> tu n es pas si vieux .\n",
      "= you re not that old .\n",
      "< you re not that old . <EOS>\n",
      "\n",
      "> je songe a demissionner immediatement .\n",
      "= i am thinking of resigning at once .\n",
      "< i m thinking about the problem . <EOS>\n",
      "\n",
      "> je suis en retard sur le programme .\n",
      "= i m behind schedule .\n",
      "< i m behind schedule . <EOS>\n",
      "\n",
      "> je suis submerge de travail .\n",
      "= i m swamped with work .\n",
      "< i m proud of that . <EOS>\n",
      "\n",
      "> je ne vais pas prendre le moindre risque .\n",
      "= i m not taking any chances .\n",
      "< i m not taking any chances . <EOS>\n",
      "\n",
      "> je suis au restaurant .\n",
      "= i m at the restaurant .\n",
      "< i m in the office . <EOS>\n",
      "\n",
      "> c est toi la doyenne .\n",
      "= you re the oldest .\n",
      "< you re the oldest . <EOS>\n",
      "\n",
      "> je suis tres reconnaissant pour votre aide .\n",
      "= i m very grateful for your help .\n",
      "< i m very worried about you . <EOS>\n",
      "\n"
     ]
    }
   ],
   "source": [
    "# Randomly pick up 10 sentence and observe the performance\n",
    "evaluate_randomly(encoder, decoder, 10, reverse_source_sentence)"
   ]
  },
  {
   "cell_type": "markdown",
   "metadata": {},
   "source": [
    "## 作业-1\n",
    "1. 注意到,Seq2seq的论文中，input sentence的输入是逆序的，实际上本实验课也是如此。\n",
    "   按照论文的说法，如果是input sentence是顺序的，模型在同等条件下应该收敛速度可能会更慢。\n",
    "   请运行 **train** 去检验该想法。\n",
    "   (Hint: reverse_source_sentence 控制source sentence是否是逆序输入）\n",
    "   \n",
    "答：通过观察运行的结果，在句子是顺序和逆序两种情况下，实际上收敛速度差不多，没有明显的差距。\n",
    "\n",
    "2. 注意到, 该课件decoder的输入，既可以是来自于targer sentence也可以是是来自于上一个时刻\n",
    "   decoder的output。请运行 **train** 去看看有什么差别\n",
    "   (Hint: reverse_source_sentence 控制source sentence是否是逆序输入）\n",
    "   \n",
    "答：可以发现不指定`use_teacher_forcing`的情况下，开始loss值会比上面模型的loss值要低，但是训练的效果不如上面的模型的训练效果，最终网络模型会比上面的模型略差。\n",
    "\n",
    "3. 实际上decoder的激活函数除了relu，还可以选用tanh，请改变decoder的激活函数并且运行 **train**。\n",
    "\n",
    "答：使用Tanh的一开始收敛速度会快于ReLU，但是最终网络模型的loss值都相差不大。"
   ]
  },
  {
   "cell_type": "code",
   "execution_count": 17,
   "metadata": {
    "ExecuteTime": {
     "end_time": "2019-05-16T07:23:53.553041Z",
     "start_time": "2019-05-16T07:16:02.261951Z"
    },
    "scrolled": true
   },
   "outputs": [
    {
     "name": "stdout",
     "output_type": "stream",
     "text": [
      ">> Model is on: True\n",
      ">> Model is on: True\n",
      "0m 15s (- 49m 58s) (250 0%) 4.6714\n",
      "0m 28s (- 46m 57s) (500 1%) 3.4858\n",
      "0m 46s (- 50m 48s) (750 1%) 3.2751\n",
      "1m 2s (- 51m 9s) (1000 2%) 3.0976\n",
      "1m 17s (- 50m 26s) (1250 2%) 3.0855\n",
      "1m 30s (- 48m 57s) (1500 3%) 2.9952\n",
      "1m 48s (- 49m 56s) (1750 3%) 2.9293\n",
      "2m 3s (- 49m 23s) (2000 4%) 2.9101\n",
      "2m 16s (- 48m 26s) (2250 4%) 2.8425\n",
      "2m 30s (- 47m 34s) (2500 5%) 2.8138\n",
      "2m 44s (- 47m 5s) (2750 5%) 2.7875\n",
      "2m 57s (- 46m 25s) (3000 6%) 2.6527\n",
      "3m 10s (- 45m 44s) (3250 6%) 2.6663\n",
      "3m 24s (- 45m 10s) (3500 7%) 2.6896\n",
      "3m 36s (- 44m 34s) (3750 7%) 2.6877\n",
      "3m 49s (- 44m 4s) (4000 8%) 2.5639\n",
      "4m 3s (- 43m 41s) (4250 8%) 2.5633\n",
      "4m 17s (- 43m 19s) (4500 9%) 2.4649\n",
      "4m 30s (- 42m 56s) (4750 9%) 2.4340\n",
      "4m 44s (- 42m 40s) (5000 10%) 2.4237\n",
      "5m 0s (- 42m 40s) (5250 10%) 2.4428\n",
      "5m 14s (- 42m 24s) (5500 11%) 2.4482\n",
      "5m 27s (- 42m 3s) (5750 11%) 2.3957\n",
      "5m 41s (- 41m 41s) (6000 12%) 2.3834\n",
      "5m 54s (- 41m 23s) (6250 12%) 2.3281\n",
      "6m 9s (- 41m 12s) (6500 13%) 2.2984\n",
      "6m 24s (- 41m 5s) (6750 13%) 2.2002\n",
      "6m 37s (- 40m 44s) (7000 14%) 2.2964\n",
      "6m 52s (- 40m 30s) (7250 14%) 2.3317\n",
      "7m 9s (- 40m 34s) (7500 15%) 2.2087\n",
      "7m 24s (- 40m 24s) (7750 15%) 2.2318\n",
      "7m 39s (- 40m 10s) (8000 16%) 2.1741\n",
      "7m 52s (- 39m 52s) (8250 16%) 2.1802\n",
      "8m 7s (- 39m 37s) (8500 17%) 2.2237\n",
      "8m 21s (- 39m 26s) (8750 17%) 2.1596\n",
      "8m 36s (- 39m 12s) (9000 18%) 2.1561\n",
      "8m 49s (- 38m 54s) (9250 18%) 2.0127\n",
      "9m 4s (- 38m 39s) (9500 19%) 2.0805\n",
      "9m 17s (- 38m 20s) (9750 19%) 1.9760\n",
      "9m 31s (- 38m 4s) (10000 20%) 2.0731\n",
      "9m 44s (- 37m 48s) (10250 20%) 2.0243\n",
      "9m 59s (- 37m 34s) (10500 21%) 1.9722\n",
      "10m 13s (- 37m 19s) (10750 21%) 2.0133\n",
      "10m 27s (- 37m 5s) (11000 22%) 2.0114\n",
      "10m 40s (- 36m 46s) (11250 22%) 1.9371\n",
      "10m 54s (- 36m 29s) (11500 23%) 2.0084\n",
      "11m 8s (- 36m 14s) (11750 23%) 1.9365\n",
      "11m 21s (- 35m 58s) (12000 24%) 1.8248\n",
      "11m 34s (- 35m 41s) (12250 24%) 1.9471\n",
      "11m 48s (- 35m 25s) (12500 25%) 1.8760\n",
      "12m 2s (- 35m 11s) (12750 25%) 2.0061\n",
      "12m 16s (- 34m 55s) (13000 26%) 1.8975\n",
      "12m 29s (- 34m 39s) (13250 26%) 1.8681\n",
      "12m 43s (- 34m 23s) (13500 27%) 1.8666\n",
      "12m 56s (- 34m 7s) (13750 27%) 1.8889\n",
      "13m 9s (- 33m 51s) (14000 28%) 1.8494\n",
      "13m 23s (- 33m 35s) (14250 28%) 1.8718\n",
      "13m 36s (- 33m 19s) (14500 28%) 1.8546\n",
      "13m 49s (- 33m 2s) (14750 29%) 1.7775\n",
      "14m 4s (- 32m 49s) (15000 30%) 1.7341\n",
      "14m 17s (- 32m 34s) (15250 30%) 1.8543\n",
      "14m 31s (- 32m 20s) (15500 31%) 1.8051\n",
      "14m 47s (- 32m 10s) (15750 31%) 1.7052\n",
      "15m 2s (- 31m 58s) (16000 32%) 1.6546\n",
      "15m 16s (- 31m 44s) (16250 32%) 1.7894\n",
      "15m 30s (- 31m 29s) (16500 33%) 1.7909\n",
      "15m 43s (- 31m 13s) (16750 33%) 1.6812\n",
      "15m 57s (- 30m 59s) (17000 34%) 1.7208\n",
      "16m 12s (- 30m 46s) (17250 34%) 1.6634\n",
      "16m 26s (- 30m 32s) (17500 35%) 1.6423\n",
      "16m 40s (- 30m 18s) (17750 35%) 1.6812\n",
      "16m 54s (- 30m 4s) (18000 36%) 1.6888\n",
      "17m 8s (- 29m 49s) (18250 36%) 1.6100\n",
      "17m 23s (- 29m 35s) (18500 37%) 1.5059\n",
      "17m 37s (- 29m 22s) (18750 37%) 1.5959\n",
      "17m 51s (- 29m 7s) (19000 38%) 1.6546\n",
      "18m 5s (- 28m 53s) (19250 38%) 1.5423\n",
      "18m 20s (- 28m 41s) (19500 39%) 1.5616\n",
      "18m 35s (- 28m 27s) (19750 39%) 1.5739\n",
      "18m 49s (- 28m 14s) (20000 40%) 1.5041\n",
      "19m 3s (- 28m 0s) (20250 40%) 1.5423\n",
      "19m 16s (- 27m 44s) (20500 41%) 1.5468\n",
      "19m 31s (- 27m 30s) (20750 41%) 1.5539\n",
      "19m 44s (- 27m 15s) (21000 42%) 1.5784\n",
      "19m 57s (- 27m 0s) (21250 42%) 1.5044\n",
      "20m 10s (- 26m 45s) (21500 43%) 1.5461\n",
      "20m 23s (- 26m 29s) (21750 43%) 1.6279\n",
      "20m 35s (- 26m 12s) (22000 44%) 1.4824\n",
      "20m 48s (- 25m 57s) (22250 44%) 1.4165\n",
      "21m 1s (- 25m 42s) (22500 45%) 1.4686\n",
      "21m 14s (- 25m 26s) (22750 45%) 1.4966\n",
      "21m 27s (- 25m 11s) (23000 46%) 1.4789\n",
      "21m 41s (- 24m 57s) (23250 46%) 1.3615\n",
      "21m 55s (- 24m 43s) (23500 47%) 1.4052\n",
      "22m 10s (- 24m 30s) (23750 47%) 1.4511\n",
      "22m 24s (- 24m 16s) (24000 48%) 1.4402\n",
      "22m 37s (- 24m 1s) (24250 48%) 1.3447\n",
      "22m 50s (- 23m 46s) (24500 49%) 1.4752\n",
      "23m 3s (- 23m 31s) (24750 49%) 1.3075\n",
      "23m 16s (- 23m 16s) (25000 50%) 1.3571\n",
      "23m 29s (- 23m 1s) (25250 50%) 1.4438\n",
      "23m 42s (- 22m 46s) (25500 51%) 1.3615\n",
      "23m 55s (- 22m 31s) (25750 51%) 1.3481\n",
      "24m 8s (- 22m 17s) (26000 52%) 1.3252\n",
      "24m 21s (- 22m 2s) (26250 52%) 1.2551\n",
      "24m 34s (- 21m 47s) (26500 53%) 1.3232\n",
      "24m 46s (- 21m 32s) (26750 53%) 1.3265\n",
      "24m 59s (- 21m 17s) (27000 54%) 1.2293\n",
      "25m 12s (- 21m 2s) (27250 54%) 1.3035\n",
      "25m 25s (- 20m 48s) (27500 55%) 1.3292\n",
      "25m 39s (- 20m 34s) (27750 55%) 1.3038\n",
      "25m 52s (- 20m 20s) (28000 56%) 1.3342\n",
      "26m 6s (- 20m 6s) (28250 56%) 1.2919\n",
      "26m 20s (- 19m 52s) (28500 56%) 1.3521\n",
      "26m 33s (- 19m 38s) (28750 57%) 1.2852\n",
      "26m 49s (- 19m 25s) (29000 57%) 1.2585\n",
      "27m 4s (- 19m 12s) (29250 58%) 1.2053\n",
      "27m 19s (- 18m 59s) (29500 59%) 1.2100\n",
      "27m 35s (- 18m 47s) (29750 59%) 1.1837\n",
      "27m 51s (- 18m 34s) (30000 60%) 1.2855\n",
      "28m 4s (- 18m 19s) (30250 60%) 1.1795\n",
      "28m 17s (- 18m 5s) (30500 61%) 1.1474\n",
      "28m 32s (- 17m 52s) (30750 61%) 1.2269\n",
      "28m 46s (- 17m 38s) (31000 62%) 1.1390\n",
      "28m 59s (- 17m 23s) (31250 62%) 1.1778\n",
      "29m 12s (- 17m 9s) (31500 63%) 1.1195\n",
      "29m 28s (- 16m 56s) (31750 63%) 1.1402\n",
      "29m 41s (- 16m 42s) (32000 64%) 1.0976\n",
      "29m 55s (- 16m 28s) (32250 64%) 1.1781\n",
      "30m 11s (- 16m 15s) (32500 65%) 1.1969\n",
      "30m 25s (- 16m 1s) (32750 65%) 1.1784\n",
      "30m 40s (- 15m 48s) (33000 66%) 1.1126\n",
      "30m 54s (- 15m 34s) (33250 66%) 1.2442\n",
      "31m 8s (- 15m 20s) (33500 67%) 1.1424\n",
      "31m 22s (- 15m 6s) (33750 67%) 1.1265\n",
      "31m 38s (- 14m 53s) (34000 68%) 1.1299\n",
      "31m 51s (- 14m 38s) (34250 68%) 1.1325\n",
      "32m 4s (- 14m 24s) (34500 69%) 1.0950\n",
      "32m 17s (- 14m 10s) (34750 69%) 1.0889\n",
      "32m 30s (- 13m 55s) (35000 70%) 1.0644\n",
      "32m 43s (- 13m 41s) (35250 70%) 1.1237\n",
      "32m 56s (- 13m 27s) (35500 71%) 1.1032\n",
      "33m 9s (- 13m 12s) (35750 71%) 1.1367\n",
      "33m 22s (- 12m 58s) (36000 72%) 1.1039\n",
      "33m 36s (- 12m 44s) (36250 72%) 1.0013\n",
      "33m 49s (- 12m 30s) (36500 73%) 1.1018\n",
      "34m 2s (- 12m 16s) (36750 73%) 1.0291\n",
      "34m 17s (- 12m 2s) (37000 74%) 1.0513\n",
      "34m 30s (- 11m 48s) (37250 74%) 1.0345\n",
      "34m 44s (- 11m 34s) (37500 75%) 0.9229\n",
      "34m 58s (- 11m 21s) (37750 75%) 0.9472\n",
      "35m 12s (- 11m 7s) (38000 76%) 0.9795\n",
      "35m 27s (- 10m 53s) (38250 76%) 1.0625\n",
      "35m 42s (- 10m 39s) (38500 77%) 0.9455\n",
      "35m 56s (- 10m 26s) (38750 77%) 0.9808\n",
      "36m 10s (- 10m 12s) (39000 78%) 1.0044\n",
      "36m 22s (- 9m 57s) (39250 78%) 0.9169\n",
      "36m 36s (- 9m 43s) (39500 79%) 0.9849\n",
      "36m 50s (- 9m 29s) (39750 79%) 0.9961\n",
      "37m 3s (- 9m 15s) (40000 80%) 0.9106\n",
      "37m 17s (- 9m 2s) (40250 80%) 0.9502\n",
      "37m 30s (- 8m 47s) (40500 81%) 0.9925\n",
      "37m 44s (- 8m 34s) (40750 81%) 0.9969\n",
      "37m 58s (- 8m 20s) (41000 82%) 0.9025\n",
      "38m 12s (- 8m 6s) (41250 82%) 0.9700\n",
      "38m 26s (- 7m 52s) (41500 83%) 0.9398\n",
      "38m 40s (- 7m 38s) (41750 83%) 0.8147\n",
      "38m 54s (- 7m 24s) (42000 84%) 0.9346\n",
      "39m 8s (- 7m 10s) (42250 84%) 0.9792\n",
      "39m 22s (- 6m 56s) (42500 85%) 0.8348\n",
      "39m 37s (- 6m 43s) (42750 85%) 0.9208\n",
      "39m 52s (- 6m 29s) (43000 86%) 0.9285\n",
      "40m 8s (- 6m 15s) (43250 86%) 0.9242\n",
      "40m 21s (- 6m 1s) (43500 87%) 0.8695\n",
      "40m 34s (- 5m 47s) (43750 87%) 0.7792\n",
      "40m 49s (- 5m 34s) (44000 88%) 0.8718\n",
      "41m 4s (- 5m 20s) (44250 88%) 0.8257\n",
      "41m 18s (- 5m 6s) (44500 89%) 0.8202\n",
      "41m 31s (- 4m 52s) (44750 89%) 0.9108\n",
      "41m 46s (- 4m 38s) (45000 90%) 0.8588\n",
      "42m 2s (- 4m 24s) (45250 90%) 0.7951\n",
      "42m 16s (- 4m 10s) (45500 91%) 0.8723\n",
      "42m 30s (- 3m 56s) (45750 91%) 0.8268\n",
      "42m 45s (- 3m 43s) (46000 92%) 0.8319\n",
      "42m 59s (- 3m 29s) (46250 92%) 0.7746\n",
      "43m 13s (- 3m 15s) (46500 93%) 0.7857\n",
      "43m 28s (- 3m 1s) (46750 93%) 0.7949\n",
      "43m 43s (- 2m 47s) (47000 94%) 0.7646\n",
      "43m 58s (- 2m 33s) (47250 94%) 0.7716\n",
      "44m 13s (- 2m 19s) (47500 95%) 0.9043\n",
      "44m 27s (- 2m 5s) (47750 95%) 0.8049\n",
      "44m 42s (- 1m 51s) (48000 96%) 0.7793\n",
      "44m 59s (- 1m 37s) (48250 96%) 0.8312\n",
      "45m 14s (- 1m 23s) (48500 97%) 0.7354\n",
      "45m 29s (- 1m 9s) (48750 97%) 0.7525\n",
      "45m 43s (- 0m 55s) (49000 98%) 0.8443\n",
      "45m 57s (- 0m 41s) (49250 98%) 0.8365\n",
      "46m 10s (- 0m 27s) (49500 99%) 0.7765\n",
      "46m 22s (- 0m 13s) (49750 99%) 0.8225\n",
      "46m 35s (- 0m 0s) (50000 100%) 0.7427\n"
     ]
    },
    {
     "data": {
      "text/plain": [
       "<Figure size 432x288 with 0 Axes>"
      ]
     },
     "metadata": {},
     "output_type": "display_data"
    },
    {
     "data": {
      "image/png": "[encoded data removed]",
      "text/plain": [
       "<Figure size 432x288 with 1 Axes>"
      ]
     },
     "metadata": {
      "needs_background": "light"
     },
     "output_type": "display_data"
    }
   ],
   "source": [
    "# Hw 1.1\n",
    "\n",
    "setup_seed(45)\n",
    "hidden_size = 256\n",
    "# Reverse the order of source input sentence\n",
    "reverse_source_sentence = False\n",
    "# Feed the target as the next input\n",
    "use_teacher_forcing = True\n",
    "encoder = EncoderLSTM(input_lang.n_words, hidden_size).to(device)\n",
    "decoder = DecoderLSTM(hidden_size, output_lang.n_words).to(device)\n",
    "print(\">> Model is on: {}\".format(next(encoder.parameters()).is_cuda))\n",
    "print(\">> Model is on: {}\".format(next(decoder.parameters()).is_cuda))\n",
    "\n",
    "iters = 50000\n",
    "train(encoder, decoder, iters, reverse_source_sentence=reverse_source_sentence, \n",
    "      use_teacher_forcing=use_teacher_forcing,print_every=250, plot_every=250)"
   ]
  },
  {
   "cell_type": "code",
   "execution_count": 18,
   "metadata": {
    "ExecuteTime": {
     "end_time": "2019-05-16T07:31:53.446854Z",
     "start_time": "2019-05-16T07:23:53.554223Z"
    },
    "scrolled": true
   },
   "outputs": [
    {
     "name": "stdout",
     "output_type": "stream",
     "text": [
      ">> Model is on: True\n",
      ">> Model is on: True\n",
      "0m 14s (- 49m 22s) (250 0%) 4.5025\n",
      "0m 27s (- 45m 11s) (500 1%) 3.3029\n",
      "0m 39s (- 43m 14s) (750 1%) 2.9893\n",
      "0m 52s (- 42m 33s) (1000 2%) 2.8886\n",
      "1m 6s (- 43m 10s) (1250 2%) 2.9643\n",
      "1m 21s (- 43m 53s) (1500 3%) 2.8594\n",
      "1m 35s (- 43m 40s) (1750 3%) 2.8643\n",
      "1m 49s (- 43m 48s) (2000 4%) 2.7976\n",
      "2m 2s (- 43m 24s) (2250 4%) 2.8458\n",
      "2m 15s (- 42m 54s) (2500 5%) 2.8655\n",
      "2m 29s (- 42m 54s) (2750 5%) 2.8859\n",
      "2m 43s (- 42m 40s) (3000 6%) 2.7476\n",
      "2m 57s (- 42m 38s) (3250 6%) 2.7577\n",
      "3m 11s (- 42m 27s) (3500 7%) 2.7986\n",
      "3m 26s (- 42m 22s) (3750 7%) 2.7935\n",
      "3m 41s (- 42m 22s) (4000 8%) 2.7148\n",
      "3m 56s (- 42m 20s) (4250 8%) 2.6984\n",
      "4m 10s (- 42m 14s) (4500 9%) 2.6851\n",
      "4m 26s (- 42m 14s) (4750 9%) 2.6087\n",
      "4m 40s (- 42m 0s) (5000 10%) 2.5876\n",
      "4m 53s (- 41m 42s) (5250 10%) 2.7120\n",
      "5m 7s (- 41m 29s) (5500 11%) 2.6891\n",
      "5m 21s (- 41m 13s) (5750 11%) 2.6112\n",
      "5m 36s (- 41m 8s) (6000 12%) 2.6307\n",
      "5m 52s (- 41m 5s) (6250 12%) 2.5999\n",
      "6m 7s (- 40m 58s) (6500 13%) 2.5548\n",
      "6m 20s (- 40m 39s) (6750 13%) 2.4575\n",
      "6m 34s (- 40m 23s) (7000 14%) 2.5242\n",
      "6m 49s (- 40m 11s) (7250 14%) 2.5643\n",
      "7m 3s (- 39m 58s) (7500 15%) 2.4702\n",
      "7m 18s (- 39m 51s) (7750 15%) 2.4989\n",
      "7m 33s (- 39m 43s) (8000 16%) 2.4834\n",
      "7m 50s (- 39m 40s) (8250 16%) 2.4431\n",
      "8m 4s (- 39m 27s) (8500 17%) 2.5258\n",
      "8m 20s (- 39m 19s) (8750 17%) 2.4261\n",
      "8m 34s (- 39m 3s) (9000 18%) 2.4441\n",
      "8m 49s (- 38m 51s) (9250 18%) 2.2770\n",
      "9m 2s (- 38m 33s) (9500 19%) 2.3535\n",
      "9m 15s (- 38m 15s) (9750 19%) 2.2491\n",
      "9m 29s (- 37m 58s) (10000 20%) 2.3741\n",
      "9m 43s (- 37m 41s) (10250 20%) 2.2997\n",
      "9m 56s (- 37m 23s) (10500 21%) 2.2575\n",
      "10m 10s (- 37m 9s) (10750 21%) 2.2566\n",
      "10m 25s (- 36m 58s) (11000 22%) 2.2933\n",
      "10m 40s (- 36m 44s) (11250 22%) 2.2505\n",
      "10m 55s (- 36m 34s) (11500 23%) 2.3371\n",
      "11m 11s (- 36m 27s) (11750 23%) 2.3011\n",
      "11m 25s (- 36m 10s) (12000 24%) 2.0989\n",
      "11m 38s (- 35m 52s) (12250 24%) 2.2465\n",
      "11m 52s (- 35m 36s) (12500 25%) 2.2069\n",
      "12m 6s (- 35m 21s) (12750 25%) 2.3457\n",
      "12m 20s (- 35m 8s) (13000 26%) 2.2645\n",
      "12m 37s (- 34m 59s) (13250 26%) 2.1701\n",
      "12m 51s (- 34m 47s) (13500 27%) 2.1677\n",
      "13m 6s (- 34m 33s) (13750 27%) 2.1980\n",
      "13m 21s (- 34m 21s) (14000 28%) 2.2050\n",
      "13m 37s (- 34m 10s) (14250 28%) 2.2295\n",
      "13m 50s (- 33m 54s) (14500 28%) 2.1602\n",
      "14m 3s (- 33m 36s) (14750 29%) 2.1159\n",
      "14m 17s (- 33m 20s) (15000 30%) 2.0797\n",
      "14m 31s (- 33m 6s) (15250 30%) 2.1747\n",
      "14m 45s (- 32m 51s) (15500 31%) 2.1242\n",
      "14m 59s (- 32m 35s) (15750 31%) 1.9999\n",
      "15m 13s (- 32m 20s) (16000 32%) 2.0295\n",
      "15m 26s (- 32m 5s) (16250 32%) 2.1235\n",
      "15m 41s (- 31m 52s) (16500 33%) 2.1474\n",
      "15m 56s (- 31m 38s) (16750 33%) 2.0056\n",
      "16m 11s (- 31m 26s) (17000 34%) 2.1091\n",
      "16m 26s (- 31m 13s) (17250 34%) 2.0094\n",
      "16m 41s (- 31m 0s) (17500 35%) 2.0407\n",
      "16m 55s (- 30m 45s) (17750 35%) 2.1027\n",
      "17m 11s (- 30m 33s) (18000 36%) 2.0396\n",
      "17m 25s (- 30m 19s) (18250 36%) 1.9195\n",
      "17m 40s (- 30m 4s) (18500 37%) 1.8826\n",
      "17m 54s (- 29m 50s) (18750 37%) 1.9585\n",
      "18m 8s (- 29m 36s) (19000 38%) 1.9856\n",
      "18m 21s (- 29m 19s) (19250 38%) 1.8507\n",
      "18m 35s (- 29m 5s) (19500 39%) 1.9137\n",
      "18m 49s (- 28m 50s) (19750 39%) 1.8913\n",
      "19m 3s (- 28m 34s) (20000 40%) 1.8300\n",
      "19m 17s (- 28m 20s) (20250 40%) 1.9194\n",
      "19m 32s (- 28m 6s) (20500 41%) 1.8994\n",
      "19m 46s (- 27m 52s) (20750 41%) 1.9269\n",
      "19m 59s (- 27m 36s) (21000 42%) 1.9591\n",
      "20m 12s (- 27m 21s) (21250 42%) 1.8543\n",
      "20m 27s (- 27m 7s) (21500 43%) 1.9058\n",
      "20m 41s (- 26m 52s) (21750 43%) 1.9672\n",
      "20m 54s (- 26m 37s) (22000 44%) 1.8047\n",
      "21m 9s (- 26m 23s) (22250 44%) 1.7742\n",
      "21m 23s (- 26m 9s) (22500 45%) 1.8339\n",
      "21m 37s (- 25m 54s) (22750 45%) 1.8410\n",
      "21m 51s (- 25m 39s) (23000 46%) 1.8805\n",
      "22m 4s (- 25m 24s) (23250 46%) 1.7419\n",
      "22m 19s (- 25m 10s) (23500 47%) 1.7621\n",
      "22m 33s (- 24m 56s) (23750 47%) 1.8105\n",
      "22m 48s (- 24m 42s) (24000 48%) 1.7943\n",
      "23m 4s (- 24m 29s) (24250 48%) 1.6676\n",
      "23m 20s (- 24m 17s) (24500 49%) 1.8287\n",
      "23m 35s (- 24m 4s) (24750 49%) 1.6563\n",
      "23m 49s (- 23m 49s) (25000 50%) 1.7273\n",
      "24m 4s (- 23m 36s) (25250 50%) 1.8329\n",
      "24m 19s (- 23m 22s) (25500 51%) 1.7469\n",
      "24m 33s (- 23m 8s) (25750 51%) 1.7384\n",
      "24m 47s (- 22m 52s) (26000 52%) 1.6652\n",
      "25m 0s (- 22m 37s) (26250 52%) 1.6037\n",
      "25m 14s (- 22m 23s) (26500 53%) 1.7191\n",
      "25m 29s (- 22m 9s) (26750 53%) 1.6973\n",
      "25m 43s (- 21m 55s) (27000 54%) 1.6083\n",
      "25m 58s (- 21m 40s) (27250 54%) 1.7156\n",
      "26m 13s (- 21m 27s) (27500 55%) 1.7280\n",
      "26m 28s (- 21m 13s) (27750 55%) 1.7159\n",
      "26m 44s (- 21m 0s) (28000 56%) 1.7114\n",
      "26m 59s (- 20m 46s) (28250 56%) 1.6274\n",
      "27m 12s (- 20m 31s) (28500 56%) 1.7392\n",
      "27m 26s (- 20m 16s) (28750 57%) 1.6450\n",
      "27m 39s (- 20m 1s) (29000 57%) 1.6486\n",
      "27m 55s (- 19m 48s) (29250 58%) 1.5500\n",
      "28m 9s (- 19m 33s) (29500 59%) 1.5396\n",
      "28m 23s (- 19m 19s) (29750 59%) 1.5874\n",
      "28m 37s (- 19m 4s) (30000 60%) 1.6781\n",
      "28m 50s (- 18m 50s) (30250 60%) 1.5464\n",
      "29m 4s (- 18m 35s) (30500 61%) 1.5097\n",
      "29m 17s (- 18m 20s) (30750 61%) 1.6336\n",
      "29m 31s (- 18m 5s) (31000 62%) 1.4506\n",
      "29m 44s (- 17m 50s) (31250 62%) 1.5574\n",
      "29m 57s (- 17m 35s) (31500 63%) 1.4673\n",
      "30m 11s (- 17m 21s) (31750 63%) 1.5363\n",
      "30m 24s (- 17m 6s) (32000 64%) 1.4984\n",
      "30m 39s (- 16m 52s) (32250 64%) 1.5828\n",
      "30m 52s (- 16m 37s) (32500 65%) 1.5599\n",
      "31m 6s (- 16m 23s) (32750 65%) 1.5457\n",
      "31m 20s (- 16m 8s) (33000 66%) 1.4696\n",
      "31m 36s (- 15m 55s) (33250 66%) 1.5849\n",
      "31m 50s (- 15m 41s) (33500 67%) 1.4862\n",
      "32m 4s (- 15m 26s) (33750 67%) 1.5384\n",
      "32m 18s (- 15m 12s) (34000 68%) 1.5472\n",
      "32m 31s (- 14m 57s) (34250 68%) 1.5177\n",
      "32m 44s (- 14m 42s) (34500 69%) 1.4774\n",
      "32m 58s (- 14m 28s) (34750 69%) 1.5311\n",
      "33m 12s (- 14m 13s) (35000 70%) 1.4315\n",
      "33m 26s (- 13m 59s) (35250 70%) 1.5333\n",
      "33m 40s (- 13m 45s) (35500 71%) 1.5042\n",
      "33m 54s (- 13m 30s) (35750 71%) 1.5169\n",
      "34m 8s (- 13m 16s) (36000 72%) 1.4865\n",
      "34m 21s (- 13m 2s) (36250 72%) 1.4325\n",
      "34m 35s (- 12m 47s) (36500 73%) 1.4366\n",
      "34m 48s (- 12m 33s) (36750 73%) 1.3897\n",
      "35m 2s (- 12m 18s) (37000 74%) 1.4056\n",
      "35m 15s (- 12m 4s) (37250 74%) 1.3767\n",
      "35m 29s (- 11m 49s) (37500 75%) 1.2663\n",
      "35m 44s (- 11m 35s) (37750 75%) 1.2585\n",
      "35m 59s (- 11m 21s) (38000 76%) 1.3711\n",
      "36m 14s (- 11m 7s) (38250 76%) 1.4283\n",
      "36m 29s (- 10m 54s) (38500 77%) 1.2946\n",
      "36m 44s (- 10m 39s) (38750 77%) 1.3490\n",
      "36m 58s (- 10m 25s) (39000 78%) 1.3680\n",
      "37m 13s (- 10m 11s) (39250 78%) 1.3051\n",
      "37m 27s (- 9m 57s) (39500 79%) 1.3372\n",
      "37m 43s (- 9m 43s) (39750 79%) 1.3481\n",
      "37m 56s (- 9m 29s) (40000 80%) 1.2466\n",
      "38m 11s (- 9m 15s) (40250 80%) 1.3027\n",
      "38m 24s (- 9m 0s) (40500 81%) 1.3294\n",
      "38m 38s (- 8m 46s) (40750 81%) 1.3335\n",
      "38m 52s (- 8m 32s) (41000 82%) 1.3182\n",
      "39m 6s (- 8m 17s) (41250 82%) 1.2889\n",
      "39m 20s (- 8m 3s) (41500 83%) 1.2759\n",
      "39m 34s (- 7m 49s) (41750 83%) 1.1475\n",
      "39m 48s (- 7m 34s) (42000 84%) 1.3096\n",
      "40m 2s (- 7m 20s) (42250 84%) 1.3623\n",
      "40m 16s (- 7m 6s) (42500 85%) 1.1836\n",
      "40m 29s (- 6m 52s) (42750 85%) 1.2626\n",
      "40m 43s (- 6m 37s) (43000 86%) 1.3089\n",
      "40m 57s (- 6m 23s) (43250 86%) 1.3444\n",
      "41m 10s (- 6m 9s) (43500 87%) 1.1942\n",
      "41m 24s (- 5m 54s) (43750 87%) 1.1610\n",
      "41m 37s (- 5m 40s) (44000 88%) 1.2403\n",
      "41m 51s (- 5m 26s) (44250 88%) 1.2399\n",
      "42m 4s (- 5m 11s) (44500 89%) 1.1469\n",
      "42m 17s (- 4m 57s) (44750 89%) 1.2939\n",
      "42m 31s (- 4m 43s) (45000 90%) 1.1891\n",
      "42m 45s (- 4m 29s) (45250 90%) 1.1746\n",
      "43m 0s (- 4m 15s) (45500 91%) 1.2312\n",
      "43m 15s (- 4m 1s) (45750 91%) 1.1844\n",
      "43m 30s (- 3m 46s) (46000 92%) 1.2206\n",
      "43m 45s (- 3m 32s) (46250 92%) 1.1198\n",
      "44m 0s (- 3m 18s) (46500 93%) 1.1725\n",
      "44m 15s (- 3m 4s) (46750 93%) 1.1767\n",
      "44m 30s (- 2m 50s) (47000 94%) 1.0955\n",
      "44m 45s (- 2m 36s) (47250 94%) 1.1346\n",
      "45m 1s (- 2m 22s) (47500 95%) 1.2594\n",
      "45m 14s (- 2m 7s) (47750 95%) 1.1463\n",
      "45m 28s (- 1m 53s) (48000 96%) 1.0840\n",
      "45m 41s (- 1m 39s) (48250 96%) 1.2354\n",
      "45m 54s (- 1m 25s) (48500 97%) 1.1347\n",
      "46m 8s (- 1m 10s) (48750 97%) 1.1060\n",
      "46m 22s (- 0m 56s) (49000 98%) 1.1978\n",
      "46m 36s (- 0m 42s) (49250 98%) 1.1906\n",
      "46m 50s (- 0m 28s) (49500 99%) 1.0553\n",
      "47m 3s (- 0m 14s) (49750 99%) 1.1334\n",
      "47m 18s (- 0m 0s) (50000 100%) 1.0692\n"
     ]
    },
    {
     "data": {
      "text/plain": [
       "<Figure size 432x288 with 0 Axes>"
      ]
     },
     "metadata": {},
     "output_type": "display_data"
    },
    {
     "data": {
      "image/png": "[encoded data removed]",
      "text/plain": [
       "<Figure size 432x288 with 1 Axes>"
      ]
     },
     "metadata": {
      "needs_background": "light"
     },
     "output_type": "display_data"
    }
   ],
   "source": [
    "# Hw 1.2\n",
    "\n",
    "setup_seed(45)\n",
    "hidden_size = 256\n",
    "# Reverse the order of source input sentence\n",
    "reverse_source_sentence = True\n",
    "# Feed the target as the next input\n",
    "use_teacher_forcing = False\n",
    "encoder = EncoderLSTM(input_lang.n_words, hidden_size).to(device)\n",
    "decoder = DecoderLSTM(hidden_size, output_lang.n_words).to(device)\n",
    "print(\">> Model is on: {}\".format(next(encoder.parameters()).is_cuda))\n",
    "print(\">> Model is on: {}\".format(next(decoder.parameters()).is_cuda))\n",
    "\n",
    "iters = 50000\n",
    "train(encoder, decoder, iters, reverse_source_sentence=reverse_source_sentence, \n",
    "      use_teacher_forcing=use_teacher_forcing,print_every=250, plot_every=250)"
   ]
  },
  {
   "cell_type": "code",
   "execution_count": 21,
   "metadata": {
    "ExecuteTime": {
     "end_time": "2019-05-16T07:31:53.473713Z",
     "start_time": "2019-05-16T07:31:53.452768Z"
    }
   },
   "outputs": [],
   "source": [
    "# Hw 1.3\n",
    "# TODO: change activation of DecoderLSTM firstly\n",
    "\n",
    "class DecoderLSTM_v2(nn.Module):\n",
    "    \"\"\"Decoder use LSTM as backbone\"\"\"\n",
    "    def __init__(self, hidden_size: int, output_size: int):\n",
    "        \"\"\"\n",
    "        Args:\n",
    "            hidden_size: The number of features in the hidden state \n",
    "            output_size : The number of expected features in the output \n",
    "        \"\"\"\n",
    "        super(DecoderLSTM_v2, self).__init__()\n",
    "        self.hidden_size = hidden_size\n",
    "        # Retrieve word embeddings with dimentionality hidden_size \n",
    "        # using indices with dimentionality input_size, embeddding is learnable\n",
    "        # After embedding, input vector with input_size would be converted to hidden_size\n",
    "        self.embedding = nn.Embedding(output_size, hidden_size)\n",
    "        # LSTM\n",
    "        self.lstm = nn.LSTM(hidden_size, hidden_size)\n",
    "        # out\n",
    "        self.out = nn.Linear(hidden_size, output_size)\n",
    "        # log after softmax\n",
    "        self.log_softmax = nn.LogSoftmax(dim=1)\n",
    "        # activation function, TODO!!\n",
    "        self.activation_function = torch.tanh\n",
    "        \n",
    "    def forward(self, inputs, state):\n",
    "        \"\"\"Forward\n",
    "        Args:\n",
    "            inputs: [1, hidden_size]\n",
    "            state : ([1, 1, hidden_size], [1, 1, hidden_size])\n",
    "        Returns:\n",
    "            output:\n",
    "            state: (hidden, cell)\n",
    "        \"\"\"\n",
    "        (hidden, cell) = state\n",
    "        # Retrieve word embeddings, [1, 1, hidden_size]\n",
    "        output = self.embedding(inputs).view(1, 1, -1)\n",
    "        # activation function, [1, 1, hidden_size]\n",
    "        output = self.activation_function(output)\n",
    "        # output: [1, 1, hidden_size]\n",
    "        output, (hidden, cell) = self.lstm(output, (hidden, cell))\n",
    "        # output: [output_size]\n",
    "        output = self.log_softmax(self.out(output[0]))\n",
    "        return output, (hidden, cell)\n",
    "\n",
    "    def init_hidden(self):\n",
    "        \"\"\"Init hidden\n",
    "        Returns:\n",
    "            hidden:\n",
    "            cell:\n",
    "        \"\"\"\n",
    "        cell = torch.zeros(1, 1, self.hidden_size, device=device)\n",
    "        hidden = torch.zeros(1, 1, self.hidden_size, device=device)\n",
    "        return hidden, cell"
   ]
  },
  {
   "cell_type": "code",
   "execution_count": 22,
   "metadata": {
    "ExecuteTime": {
     "end_time": "2019-05-16T07:39:41.141944Z",
     "start_time": "2019-05-16T07:31:53.476161Z"
    },
    "scrolled": true
   },
   "outputs": [
    {
     "name": "stdout",
     "output_type": "stream",
     "text": [
      ">> Model is on: True\n",
      ">> Model is on: True\n",
      "0m 15s (- 52m 49s) (250 0%) 5.4118\n",
      "0m 29s (- 48m 55s) (500 1%) 3.4440\n",
      "0m 42s (- 46m 57s) (750 1%) 3.1115\n",
      "0m 55s (- 45m 34s) (1000 2%) 2.9068\n",
      "1m 9s (- 45m 4s) (1250 2%) 2.8706\n",
      "1m 22s (- 44m 33s) (1500 3%) 2.7711\n",
      "1m 35s (- 43m 56s) (1750 3%) 2.7297\n",
      "1m 48s (- 43m 27s) (2000 4%) 2.7282\n",
      "2m 1s (- 42m 59s) (2250 4%) 2.6766\n",
      "2m 15s (- 42m 47s) (2500 5%) 2.6640\n",
      "2m 28s (- 42m 36s) (2750 5%) 2.6400\n",
      "2m 42s (- 42m 20s) (3000 6%) 2.5584\n",
      "2m 55s (- 42m 5s) (3250 6%) 2.5408\n",
      "3m 9s (- 41m 56s) (3500 7%) 2.5797\n",
      "3m 23s (- 41m 44s) (3750 7%) 2.5578\n",
      "3m 36s (- 41m 32s) (4000 8%) 2.4568\n",
      "3m 50s (- 41m 18s) (4250 8%) 2.4575\n",
      "4m 3s (- 41m 1s) (4500 9%) 2.3789\n",
      "4m 17s (- 40m 48s) (4750 9%) 2.3421\n",
      "4m 31s (- 40m 45s) (5000 10%) 2.3405\n",
      "4m 46s (- 40m 39s) (5250 10%) 2.3912\n",
      "5m 0s (- 40m 28s) (5500 11%) 2.3813\n",
      "5m 15s (- 40m 25s) (5750 11%) 2.3159\n",
      "5m 29s (- 40m 16s) (6000 12%) 2.3369\n",
      "5m 44s (- 40m 8s) (6250 12%) 2.2909\n",
      "5m 57s (- 39m 55s) (6500 13%) 2.2288\n",
      "6m 11s (- 39m 40s) (6750 13%) 2.1220\n",
      "6m 25s (- 39m 25s) (7000 14%) 2.2243\n",
      "6m 39s (- 39m 16s) (7250 14%) 2.2551\n",
      "6m 53s (- 39m 2s) (7500 15%) 2.1419\n",
      "7m 6s (- 38m 47s) (7750 15%) 2.1616\n",
      "7m 20s (- 38m 32s) (8000 16%) 2.1254\n",
      "7m 34s (- 38m 19s) (8250 16%) 2.0929\n",
      "7m 48s (- 38m 6s) (8500 17%) 2.1534\n",
      "8m 2s (- 37m 53s) (8750 17%) 2.0851\n",
      "8m 16s (- 37m 39s) (9000 18%) 2.0738\n",
      "8m 29s (- 37m 24s) (9250 18%) 1.9404\n",
      "8m 44s (- 37m 14s) (9500 19%) 2.0076\n",
      "8m 57s (- 36m 57s) (9750 19%) 1.9080\n",
      "9m 10s (- 36m 40s) (10000 20%) 2.0130\n",
      "9m 22s (- 36m 21s) (10250 20%) 1.9649\n",
      "9m 35s (- 36m 4s) (10500 21%) 1.8951\n",
      "9m 49s (- 35m 50s) (10750 21%) 1.9457\n",
      "10m 2s (- 35m 37s) (11000 22%) 1.9487\n",
      "10m 16s (- 35m 23s) (11250 22%) 1.8837\n",
      "10m 30s (- 35m 10s) (11500 23%) 1.9643\n",
      "10m 44s (- 34m 58s) (11750 23%) 1.8865\n",
      "10m 58s (- 34m 44s) (12000 24%) 1.7592\n",
      "11m 11s (- 34m 30s) (12250 24%) 1.8790\n",
      "11m 25s (- 34m 16s) (12500 25%) 1.8230\n",
      "11m 39s (- 34m 2s) (12750 25%) 1.9465\n",
      "11m 52s (- 33m 48s) (13000 26%) 1.8486\n",
      "12m 6s (- 33m 34s) (13250 26%) 1.8044\n",
      "12m 20s (- 33m 21s) (13500 27%) 1.7861\n",
      "12m 33s (- 33m 6s) (13750 27%) 1.8498\n",
      "12m 47s (- 32m 52s) (14000 28%) 1.7992\n",
      "13m 0s (- 32m 38s) (14250 28%) 1.8050\n",
      "13m 14s (- 32m 24s) (14500 28%) 1.7724\n",
      "13m 28s (- 32m 11s) (14750 29%) 1.7104\n",
      "13m 43s (- 32m 1s) (15000 30%) 1.6796\n",
      "13m 59s (- 31m 53s) (15250 30%) 1.7817\n",
      "14m 13s (- 31m 40s) (15500 31%) 1.7459\n",
      "14m 27s (- 31m 26s) (15750 31%) 1.6660\n",
      "14m 41s (- 31m 14s) (16000 32%) 1.6038\n",
      "14m 56s (- 31m 1s) (16250 32%) 1.7209\n",
      "15m 10s (- 30m 47s) (16500 33%) 1.7453\n",
      "15m 24s (- 30m 34s) (16750 33%) 1.6432\n",
      "15m 37s (- 30m 20s) (17000 34%) 1.6812\n",
      "15m 52s (- 30m 7s) (17250 34%) 1.6068\n",
      "16m 6s (- 29m 54s) (17500 35%) 1.6077\n",
      "16m 21s (- 29m 43s) (17750 35%) 1.6540\n",
      "16m 35s (- 29m 30s) (18000 36%) 1.6522\n",
      "16m 50s (- 29m 17s) (18250 36%) 1.5541\n",
      "17m 4s (- 29m 5s) (18500 37%) 1.4592\n",
      "17m 19s (- 28m 52s) (18750 37%) 1.5580\n",
      "17m 34s (- 28m 40s) (19000 38%) 1.5883\n",
      "17m 48s (- 28m 27s) (19250 38%) 1.4840\n",
      "18m 3s (- 28m 14s) (19500 39%) 1.5447\n",
      "18m 17s (- 28m 1s) (19750 39%) 1.5163\n",
      "18m 32s (- 27m 48s) (20000 40%) 1.4560\n",
      "18m 47s (- 27m 37s) (20250 40%) 1.5119\n",
      "19m 3s (- 27m 26s) (20500 41%) 1.5253\n",
      "19m 19s (- 27m 14s) (20750 41%) 1.5125\n",
      "19m 34s (- 27m 1s) (21000 42%) 1.5314\n",
      "19m 49s (- 26m 49s) (21250 42%) 1.4621\n",
      "20m 3s (- 26m 35s) (21500 43%) 1.5241\n",
      "20m 17s (- 26m 21s) (21750 43%) 1.5766\n",
      "20m 30s (- 26m 5s) (22000 44%) 1.4428\n",
      "20m 44s (- 25m 51s) (22250 44%) 1.3960\n",
      "20m 57s (- 25m 37s) (22500 45%) 1.4166\n",
      "21m 11s (- 25m 23s) (22750 45%) 1.4751\n",
      "21m 26s (- 25m 10s) (23000 46%) 1.4560\n",
      "21m 40s (- 24m 56s) (23250 46%) 1.3324\n",
      "21m 54s (- 24m 42s) (23500 47%) 1.3579\n",
      "22m 9s (- 24m 29s) (23750 47%) 1.4121\n",
      "22m 23s (- 24m 15s) (24000 48%) 1.4008\n",
      "22m 37s (- 24m 1s) (24250 48%) 1.3320\n",
      "22m 51s (- 23m 47s) (24500 49%) 1.4318\n",
      "23m 6s (- 23m 34s) (24750 49%) 1.2667\n",
      "23m 21s (- 23m 21s) (25000 50%) 1.3110\n",
      "23m 36s (- 23m 8s) (25250 50%) 1.4134\n",
      "23m 51s (- 22m 55s) (25500 51%) 1.3328\n",
      "24m 7s (- 22m 42s) (25750 51%) 1.3002\n",
      "24m 22s (- 22m 30s) (26000 52%) 1.2974\n",
      "24m 37s (- 22m 16s) (26250 52%) 1.2296\n",
      "24m 52s (- 22m 3s) (26500 53%) 1.3079\n",
      "25m 6s (- 21m 49s) (26750 53%) 1.2736\n",
      "25m 20s (- 21m 35s) (27000 54%) 1.1862\n",
      "25m 36s (- 21m 22s) (27250 54%) 1.2917\n",
      "25m 50s (- 21m 8s) (27500 55%) 1.3090\n",
      "26m 6s (- 20m 55s) (27750 55%) 1.2842\n",
      "26m 21s (- 20m 42s) (28000 56%) 1.3294\n",
      "26m 37s (- 20m 30s) (28250 56%) 1.2652\n",
      "26m 51s (- 20m 15s) (28500 56%) 1.3036\n",
      "27m 6s (- 20m 2s) (28750 57%) 1.2516\n",
      "27m 19s (- 19m 47s) (29000 57%) 1.2109\n",
      "27m 33s (- 19m 33s) (29250 58%) 1.1726\n",
      "27m 48s (- 19m 19s) (29500 59%) 1.1645\n",
      "28m 3s (- 19m 5s) (29750 59%) 1.1421\n",
      "28m 17s (- 18m 51s) (30000 60%) 1.2620\n",
      "28m 32s (- 18m 37s) (30250 60%) 1.1545\n",
      "28m 47s (- 18m 24s) (30500 61%) 1.1347\n",
      "29m 1s (- 18m 10s) (30750 61%) 1.2216\n",
      "29m 16s (- 17m 56s) (31000 62%) 1.1070\n",
      "29m 32s (- 17m 43s) (31250 62%) 1.1662\n",
      "29m 47s (- 17m 30s) (31500 63%) 1.1051\n",
      "30m 3s (- 17m 16s) (31750 63%) 1.1288\n",
      "30m 17s (- 17m 2s) (32000 64%) 1.0735\n",
      "30m 31s (- 16m 48s) (32250 64%) 1.1689\n",
      "30m 46s (- 16m 34s) (32500 65%) 1.1648\n",
      "30m 59s (- 16m 19s) (32750 65%) 1.1337\n",
      "31m 13s (- 16m 5s) (33000 66%) 1.0650\n",
      "31m 27s (- 15m 50s) (33250 66%) 1.2024\n",
      "31m 41s (- 15m 36s) (33500 67%) 1.0940\n",
      "31m 55s (- 15m 22s) (33750 67%) 1.1060\n",
      "32m 10s (- 15m 8s) (34000 68%) 1.1126\n",
      "32m 25s (- 14m 54s) (34250 68%) 1.1412\n",
      "32m 40s (- 14m 40s) (34500 69%) 1.0815\n",
      "32m 54s (- 14m 26s) (34750 69%) 1.0864\n",
      "33m 9s (- 14m 12s) (35000 70%) 1.0517\n",
      "33m 24s (- 13m 58s) (35250 70%) 1.0901\n",
      "33m 38s (- 13m 44s) (35500 71%) 1.0965\n",
      "33m 52s (- 13m 30s) (35750 71%) 1.1462\n",
      "34m 7s (- 13m 16s) (36000 72%) 1.0654\n",
      "34m 21s (- 13m 1s) (36250 72%) 0.9683\n",
      "34m 35s (- 12m 47s) (36500 73%) 1.0852\n",
      "34m 49s (- 12m 33s) (36750 73%) 1.0260\n",
      "35m 3s (- 12m 18s) (37000 74%) 1.0323\n",
      "35m 17s (- 12m 4s) (37250 74%) 1.0400\n",
      "35m 31s (- 11m 50s) (37500 75%) 0.9172\n",
      "35m 45s (- 11m 36s) (37750 75%) 0.9479\n",
      "36m 0s (- 11m 22s) (38000 76%) 0.9919\n",
      "36m 14s (- 11m 7s) (38250 76%) 1.0249\n",
      "36m 28s (- 10m 53s) (38500 77%) 0.9339\n",
      "36m 42s (- 10m 39s) (38750 77%) 0.9684\n",
      "36m 56s (- 10m 25s) (39000 78%) 0.9866\n",
      "37m 10s (- 10m 10s) (39250 78%) 0.9021\n",
      "37m 25s (- 9m 56s) (39500 79%) 0.9421\n",
      "37m 39s (- 9m 42s) (39750 79%) 0.9982\n",
      "37m 53s (- 9m 28s) (40000 80%) 0.8918\n",
      "38m 7s (- 9m 14s) (40250 80%) 0.9356\n",
      "38m 22s (- 8m 59s) (40500 81%) 0.9880\n",
      "38m 36s (- 8m 45s) (40750 81%) 1.0126\n",
      "38m 51s (- 8m 31s) (41000 82%) 0.8997\n",
      "39m 5s (- 8m 17s) (41250 82%) 0.9651\n",
      "39m 19s (- 8m 3s) (41500 83%) 0.9271\n",
      "39m 33s (- 7m 49s) (41750 83%) 0.8294\n",
      "39m 47s (- 7m 34s) (42000 84%) 0.8939\n",
      "40m 2s (- 7m 20s) (42250 84%) 0.9690\n",
      "40m 16s (- 7m 6s) (42500 85%) 0.8294\n",
      "40m 30s (- 6m 52s) (42750 85%) 0.9057\n",
      "40m 44s (- 6m 37s) (43000 86%) 0.9040\n",
      "40m 59s (- 6m 23s) (43250 86%) 0.9020\n",
      "41m 13s (- 6m 9s) (43500 87%) 0.8598\n",
      "41m 28s (- 5m 55s) (43750 87%) 0.7808\n",
      "41m 43s (- 5m 41s) (44000 88%) 0.8651\n",
      "41m 58s (- 5m 27s) (44250 88%) 0.8298\n",
      "42m 13s (- 5m 13s) (44500 89%) 0.8292\n",
      "42m 30s (- 4m 59s) (44750 89%) 0.9227\n",
      "42m 44s (- 4m 44s) (45000 90%) 0.8551\n",
      "43m 2s (- 4m 31s) (45250 90%) 0.7870\n",
      "43m 21s (- 4m 17s) (45500 91%) 0.8815\n",
      "43m 38s (- 4m 3s) (45750 91%) 0.8191\n",
      "43m 57s (- 3m 49s) (46000 92%) 0.8107\n",
      "44m 14s (- 3m 35s) (46250 92%) 0.7644\n",
      "44m 29s (- 3m 20s) (46500 93%) 0.7996\n",
      "44m 45s (- 3m 6s) (46750 93%) 0.7954\n",
      "45m 2s (- 2m 52s) (47000 94%) 0.7589\n",
      "45m 19s (- 2m 38s) (47250 94%) 0.7825\n",
      "45m 36s (- 2m 24s) (47500 95%) 0.8812\n",
      "45m 52s (- 2m 9s) (47750 95%) 0.8011\n",
      "46m 8s (- 1m 55s) (48000 96%) 0.7464\n",
      "46m 24s (- 1m 41s) (48250 96%) 0.8238\n",
      "46m 42s (- 1m 26s) (48500 97%) 0.7181\n",
      "46m 57s (- 1m 12s) (48750 97%) 0.7389\n",
      "47m 11s (- 0m 57s) (49000 98%) 0.8540\n",
      "47m 26s (- 0m 43s) (49250 98%) 0.8352\n",
      "47m 39s (- 0m 28s) (49500 99%) 0.7494\n",
      "47m 53s (- 0m 14s) (49750 99%) 0.8223\n",
      "48m 7s (- 0m 0s) (50000 100%) 0.7700\n"
     ]
    },
    {
     "data": {
      "text/plain": [
       "<Figure size 432x288 with 0 Axes>"
      ]
     },
     "metadata": {},
     "output_type": "display_data"
    },
    {
     "data": {
      "image/png": "[encoded data removed]",
      "text/plain": [
       "<Figure size 432x288 with 1 Axes>"
      ]
     },
     "metadata": {
      "needs_background": "light"
     },
     "output_type": "display_data"
    }
   ],
   "source": [
    "setup_seed(45)\n",
    "hidden_size = 256\n",
    "# Reverse the order of source input sentence\n",
    "reverse_source_sentence = True\n",
    "# Feed the target as the next input\n",
    "use_teacher_forcing = True\n",
    "encoder = EncoderLSTM(input_lang.n_words, hidden_size).to(device)\n",
    "decoder = DecoderLSTM_v2(hidden_size, output_lang.n_words).to(device)\n",
    "print(\">> Model is on: {}\".format(next(encoder.parameters()).is_cuda))\n",
    "print(\">> Model is on: {}\".format(next(decoder.parameters()).is_cuda))\n",
    "\n",
    "iters = 50000\n",
    "train(encoder, decoder, iters, reverse_source_sentence=reverse_source_sentence, \n",
    "      use_teacher_forcing=use_teacher_forcing,print_every=250, plot_every=250)"
   ]
  },
  {
   "cell_type": "markdown",
   "metadata": {},
   "source": [
    "## 1.2 Decoder with Attention\n",
    "Why we need attention mechanism ?   \n",
    "In short version, because seq2seq could achieve better performance and consumes less time with attention mechanism.   \n",
    "In long version, attention allows the decoder network to “focus” on a different part of the encoder’s outputs for every step of the decoder’s own outputs.\n",
    "For simplicity, we change **DecoderLSTM** to **AttentionDecoderLSTM** and some hepler function and then\n",
    "we can train model.\n",
    "\n",
    "**Very Detail of AttentionDecoderLSTM**  \n",
    "Since there are many ways to do attention, we select a simple way to do that.  \n",
    "First we calculate a set of attention weights.    \n",
    "These will be multiplied by the encoder output vectors to create a weighted combination. \n",
    "The result (called attention_applied in the code) should contain information about that \n",
    "specific part of the input sequence, and thus help the decoder choose the right output words."
   ]
  },
  {
   "attachments": {
    "Attention.png": {
     "image/png": "[encoded data removed]"
    }
   },
   "cell_type": "markdown",
   "metadata": {},
   "source": [
    "![Attention.png](attachment:Attention.png)"
   ]
  },
  {
   "cell_type": "code",
   "execution_count": 12,
   "metadata": {
    "ExecuteTime": {
     "end_time": "2019-05-16T07:39:41.156079Z",
     "start_time": "2019-05-16T07:39:41.143448Z"
    }
   },
   "outputs": [],
   "source": [
    "class AttentionDecoderLSTM(nn.Module):\n",
    "    def __init__(self, hidden_size: int, output_size: int, dropout_p=0.1, max_length=MAX_LENGTH):\n",
    "        \"\"\"DecoderLSTM with attention mechanism\n",
    "        \"\"\"\n",
    "        super(AttentionDecoderLSTM, self).__init__()\n",
    "        self.hidden_size = hidden_size\n",
    "        self.output_size = output_size\n",
    "        self.dropout_p = dropout_p\n",
    "        self.max_length = max_length\n",
    "        # Retrieve word embeddings with dimentionality hidden_size \n",
    "        # using indices with dimentionality input_size, embeddding is learnable\n",
    "        # After embedding, input vector with input_size would be converted to hidden_size\n",
    "        self.embedding = nn.Embedding(self.output_size, self.hidden_size)\n",
    "        # W1 \n",
    "        self.attention = nn.Linear(self.hidden_size * 2, self.max_length)\n",
    "        # W2 \n",
    "        self.attention_combine = nn.Linear(self.hidden_size * 2, self.hidden_size)\n",
    "        self.dropout = nn.Dropout(self.dropout_p)\n",
    "        self.lstm = nn.LSTM(self.hidden_size, self.hidden_size)\n",
    "        # prediction layer \n",
    "        self.out = nn.Linear(self.hidden_size, self.output_size)\n",
    "        # activation\n",
    "        self.activation_fn = F.relu\n",
    "        \n",
    "    def forward(self, inputs, state, encoder_outputs):\n",
    "        \"\"\"Forward\n",
    "        Args:\n",
    "            inputs: [1, hidden_size]\n",
    "            state : ([1, 1, hidden_size], [1, 1, hidden_size])\n",
    "            encoder_outputs: [max_length, hidden_size]\n",
    "        Returns:\n",
    "            output:\n",
    "            state: (hidden, cell)\n",
    "        \"\"\"\n",
    "        # embedded: [1, 1, hidden_size]\n",
    "        embedded = self.embedding(inputs).view(1, 1, -1)\n",
    "        embedded = self.dropout(embedded)\n",
    "        (hidden, cell) = state\n",
    "       \n",
    "        # attention_weights: [1, max_length]\n",
    "        attention_weights = F.softmax(\n",
    "            self.attention(torch.cat((embedded[0], hidden[0]), 1)), dim=1)\n",
    "        # attention_applied: [1, hidden_size]\n",
    "        # torch.bmm == @, matrix muplication\n",
    "        attention_applied = torch.bmm(attention_weights.unsqueeze(0),\n",
    "                                      encoder_outputs.unsqueeze(0))\n",
    "        \n",
    "        # output: [1, hidden_size * 2]\n",
    "        output = torch.cat((embedded[0], attention_applied[0]), 1)\n",
    "        # output: [1, 1, hidden_size]\n",
    "        output = self.attention_combine(output).unsqueeze(0)\n",
    "        \n",
    "        output = self.activation_fn(output)\n",
    "        # output, [1, 1, output_size]\n",
    "        output, (hidden, cell) = self.lstm(output, (hidden, cell))\n",
    "        \n",
    "        # output, [1, output_size]\n",
    "        output = F.log_softmax(self.out(output[0]), dim=1)\n",
    "        return output, (hidden, cell), attention_weights\n",
    "    \n",
    "    def init_hidden(self):\n",
    "        \"\"\"Init hidden\n",
    "        Returns:\n",
    "            hidden:\n",
    "            cell:\n",
    "        \"\"\"\n",
    "        cell = torch.zeros(1, 1, self.hidden_size, device=device)\n",
    "        hidden = torch.zeros(1, 1, self.hidden_size, device=device)\n",
    "        return hidden, cell"
   ]
  },
  {
   "cell_type": "code",
   "execution_count": 13,
   "metadata": {
    "ExecuteTime": {
     "end_time": "2019-05-16T07:39:41.176308Z",
     "start_time": "2019-05-16T07:39:41.157125Z"
    }
   },
   "outputs": [],
   "source": [
    "def train_by_sentence_attn(input_tensor, target_tensor, encoder, decoder, \n",
    "                      encoder_optimizer, decoder_optimizer, loss_fn, \n",
    "                      use_teacher_forcing=True, reverse_source_sentence=True,\n",
    "                      max_length=MAX_LENGTH):\n",
    "    \"\"\"Train by single sentence using EncoderLSTM and DecoderLSTM\n",
    "       including training and update model, combining attention mechanism.\n",
    "    Args:\n",
    "        input_tensor: [input_sequence_len, 1, hidden_size]\n",
    "        target_tensor: [target_sequence_len, 1, hidden_size]\n",
    "        encoder: EncoderLSTM\n",
    "        decoder: DecoderLSTM\n",
    "        encoder_optimizer: optimizer for encoder\n",
    "        decoder_optimizer: optimizer for decoder\n",
    "        loss_fn: loss function\n",
    "        use_teacher_forcing: True is to Feed the target as the next input, \n",
    "                             False is to use its own predictions as the next input\n",
    "        max_length: max length for input and output\n",
    "    Returns:\n",
    "        loss: scalar\n",
    "    \"\"\"\n",
    "    if reverse_source_sentence:\n",
    "        input_tensor = torch.flip(input_tensor, [0])\n",
    "        \n",
    "    hidden, cell = encoder.init_hidden()\n",
    "\n",
    "    # Clears the gradients of all optimized torch.Tensors'\n",
    "    encoder_optimizer.zero_grad()\n",
    "    decoder_optimizer.zero_grad()\n",
    "\n",
    "    # Get sequence length of the input and target sentences.\n",
    "    input_length = input_tensor.size(0)\n",
    "    target_length = target_tensor.size(0)\n",
    "    \n",
    "    # encoder outputs:  [max_length, hidden_size]\n",
    "    encoder_outputs = torch.zeros(max_length, encoder.hidden_size, device=device)\n",
    "\n",
    "    loss = 0\n",
    "\n",
    "    # Get encoder outputs\n",
    "    for ei in range(input_length):\n",
    "        encoder_output, (hidden, cell) = encoder(\n",
    "            input_tensor[ei], (hidden, cell))\n",
    "        encoder_outputs[ei] = encoder_output[0, 0]\n",
    "    \n",
    "    # First input for the decoder\n",
    "    decoder_input = torch.tensor([[SOS_token]], device=device)\n",
    "    \n",
    "    # Last state of encoder as the init state of decoder\n",
    "    decoder_hidden = (hidden, cell)\n",
    "\n",
    "    for di in range(target_length):\n",
    "        # !! Most important change, apply attention mechnism \n",
    "        decoder_output, (hidden, cell), _ = decoder(\n",
    "            decoder_input, (hidden, cell), encoder_outputs)\n",
    "        \n",
    "        if use_teacher_forcing:\n",
    "            # Feed the target as the next input\n",
    "            loss += loss_fn(decoder_output, target_tensor[di])\n",
    "            decoder_input = target_tensor[di]  # Teacher forcing\n",
    "        else:\n",
    "            # Use its own predictions as the next input\n",
    "            topv, topi = decoder_output.topk(1)\n",
    "            decoder_input = topi.squeeze().detach()\n",
    "            loss += loss_fn(decoder_output, target_tensor[di])\n",
    "\n",
    "        # End if decoder output End of Signal(EOS)\n",
    "        if decoder_input.item() == EOS_token:\n",
    "            break\n",
    "\n",
    "    loss.backward()\n",
    "\n",
    "    encoder_optimizer.step()\n",
    "    decoder_optimizer.step()\n",
    "\n",
    "    return loss.item() / target_length"
   ]
  },
  {
   "cell_type": "code",
   "execution_count": 14,
   "metadata": {
    "ExecuteTime": {
     "end_time": "2019-05-16T07:39:41.187086Z",
     "start_time": "2019-05-16T07:39:41.177269Z"
    }
   },
   "outputs": [],
   "source": [
    "def train_attn(encoder, decoder, n_iters, reverse_source_sentence=True, \n",
    "          use_teacher_forcing=True,\n",
    "          print_every=1000, plot_every=100, \n",
    "          learning_rate=0.01):\n",
    "    \"\"\"Train of Seq2seq with attention \n",
    "    Args:\n",
    "        encoder: EncoderLSTM\n",
    "        decoder: DecoderLSTM\n",
    "        n_iters: train with n_iters sentences without replacement\n",
    "        reverse_source_sentence: True is to reverse the source sentence \n",
    "                                 but keep order of target unchanged,\n",
    "                                 False is to keep order of the source sentence \n",
    "                                 target unchanged\n",
    "        use_teacher_forcing: True is to Feed the target as the next input, \n",
    "                             False is to use its own predictions as the next input\n",
    "        print_every: print log every print_every \n",
    "        plot_every: plot every plot_every \n",
    "        learning_rate: \n",
    "        \n",
    "    \"\"\"\n",
    "    \n",
    "    start = time.time()\n",
    "    \n",
    "    plot_losses = []\n",
    "    print_loss_total = 0\n",
    "    plot_loss_total = 0\n",
    "\n",
    "    # Use SGD to optimize encoder and decoder parameters\n",
    "    encoder_optimizer = optim.SGD(encoder.parameters(), lr=learning_rate)\n",
    "    decoder_optimizer = optim.SGD(decoder.parameters(), lr=learning_rate)\n",
    "    \n",
    "    # Obtain training input \n",
    "    training_pairs = [tensor_from_pair(random.choice(pairs), input_lang, output_lang)\n",
    "                      for _ in range(n_iters)]\n",
    "    \n",
    "    # Negative log likelihood loss\n",
    "    loss_fn = nn.NLLLoss()\n",
    "\n",
    "    for i in range(1, n_iters+1):\n",
    "        # Get a pair of sentences and move them to device, \n",
    "        # training_pair: ([Seq_size, 1, input_size], [Seq_size, 1, input_size])\n",
    "        training_pair = training_pairs[i-1]\n",
    "        input_tensor = training_pair[0].to(device)\n",
    "        target_tensor = training_pair[1].to(device)            \n",
    "            \n",
    "        # Train by a pair of source sentence and target sentence\n",
    "        loss = train_by_sentence_attn(input_tensor, target_tensor, \n",
    "                                      encoder, decoder,\n",
    "                                      encoder_optimizer, decoder_optimizer, \n",
    "                                      loss_fn, use_teacher_forcing=use_teacher_forcing,\n",
    "                                      reverse_source_sentence=reverse_source_sentence)\n",
    "        \n",
    "        print_loss_total += loss\n",
    "        plot_loss_total += loss\n",
    "\n",
    "        if i % print_every == 0:\n",
    "            # Print Loss\n",
    "            print_loss_avg = print_loss_total / print_every\n",
    "            print_loss_total = 0\n",
    "            print(\"%s (%d %d%%) %.4f\" % (time_since(start, i / n_iters),\n",
    "                                         i, i / n_iters * 100, print_loss_avg))\n",
    "\n",
    "        if i % plot_every == 0:\n",
    "            # Plot\n",
    "            plot_loss_avg = plot_loss_total / plot_every\n",
    "            plot_losses.append(plot_loss_avg)\n",
    "            plot_loss_total = 0\n",
    "    \n",
    "    # show plot\n",
    "    show_plot(plot_losses)"
   ]
  },
  {
   "cell_type": "code",
   "execution_count": 15,
   "metadata": {
    "ExecuteTime": {
     "end_time": "2019-05-16T07:39:41.197551Z",
     "start_time": "2019-05-16T07:39:41.187974Z"
    }
   },
   "outputs": [],
   "source": [
    "def evaluate_by_sentence_attn(encoder, decoder, sentence, \n",
    "                              reverse_source_sentence=True, max_length=MAX_LENGTH):\n",
    "    \"\"\"Evalutae on a source sentence with model trained with attention mechanism\n",
    "    Args:\n",
    "        encoder\n",
    "        decoder\n",
    "        sentence\n",
    "        max_length\n",
    "    Return:\n",
    "        decoded_words: predicted sentence\n",
    "    \"\"\"\n",
    "    with torch.no_grad():\n",
    "        # Get tensor of sentence\n",
    "        input_tensor = tensor_from_sentence(input_lang, sentence).to(device)\n",
    "        input_length = input_tensor.size(0)\n",
    "        \n",
    "        if reverse_source_sentence:\n",
    "            input_tensor = torch.flip(input_tensor, [0])\n",
    "        \n",
    "        # init state for encoder\n",
    "        (hidden, cell) = encoder.init_hidden()\n",
    "\n",
    "        # encoder outputs: [max_length, hidden_size]\n",
    "        encoder_outputs = torch.zeros(max_length, encoder.hidden_size, device=device)\n",
    "\n",
    "        for ei in range(input_length):\n",
    "            encoder_output, (hidden, cell) = encoder(input_tensor[ei],\n",
    "                                                     (hidden, cell))\n",
    "            encoder_outputs[ei] += encoder_output[0, 0]\n",
    "            \n",
    "        # Last state of encoder as the init state of decoder\n",
    "        decoder_input = torch.tensor([[SOS_token]], device=device)\n",
    "        decoder_hidden = (hidden, cell)\n",
    "        decoded_words = []\n",
    "        \n",
    "        # CHANGE!! Add decoder_attentions to collect attention map\n",
    "        decoder_attentions = torch.zeros(max_length, max_length)\n",
    "\n",
    "        # When evaluate, use its own predictions as the next input\n",
    "        for di in range(max_length):\n",
    "            # CHANGE!! Attention\n",
    "            decoder_output, (hidden, cell), decoder_attention = \\\n",
    "                decoder(decoder_input, (hidden, cell), encoder_outputs)\n",
    "            topv, topi = decoder_output.data.topk(1)\n",
    "            # CHANGE!!\n",
    "            decoder_attentions[di] = decoder_attention.data\n",
    "            if topi.item() == EOS_token:\n",
    "                decoded_words.append(\"<EOS>\")\n",
    "                break\n",
    "            else:\n",
    "                decoded_words.append(output_lang.index2word[topi.item()])\n",
    "                \n",
    "            decoder_input = topi.squeeze().detach()\n",
    "\n",
    "    return decoded_words, decoder_attentions[:di + 1]"
   ]
  },
  {
   "cell_type": "code",
   "execution_count": 16,
   "metadata": {
    "ExecuteTime": {
     "end_time": "2019-05-16T07:39:41.205839Z",
     "start_time": "2019-05-16T07:39:41.198441Z"
    }
   },
   "outputs": [],
   "source": [
    "def show_attention(input_sentence, output_words, attentions):\n",
    "    \"\"\"Show attention between input sentence and output words\n",
    "    \"\"\"\n",
    "    # Set up figure with colorbar\n",
    "    fig = plt.figure()\n",
    "    ax = fig.add_subplot(111)\n",
    "    cax = ax.matshow(attentions.numpy(), cmap='bone')\n",
    "    fig.colorbar(cax)\n",
    "\n",
    "    # Set up axes\n",
    "    ax.set_xticklabels([''] + input_sentence.split(' ') +\n",
    "                       ['<EOS>'], rotation=90)\n",
    "    ax.set_yticklabels([''] + output_words)\n",
    "\n",
    "    # Show label at every tick\n",
    "    ax.xaxis.set_major_locator(ticker.MultipleLocator(1))\n",
    "    ax.yaxis.set_major_locator(ticker.MultipleLocator(1))\n",
    "\n",
    "    plt.show()"
   ]
  },
  {
   "cell_type": "code",
   "execution_count": 17,
   "metadata": {
    "ExecuteTime": {
     "end_time": "2019-05-16T07:39:41.213223Z",
     "start_time": "2019-05-16T07:39:41.206704Z"
    }
   },
   "outputs": [],
   "source": [
    "def evaluate_and_show_attention(input_sentence, encoder, decoder):\n",
    "    \"\"\"Evaluate and show attention for a input sentence\n",
    "    \"\"\"\n",
    "    output_words, attentions = evaluate_by_sentence_attn(\n",
    "        encoder, decoder, input_sentence)\n",
    "    print('input =', input_sentence)\n",
    "    print('output =', ' '.join(output_words))\n",
    "    show_attention(input_sentence, output_words, attentions)"
   ]
  },
  {
   "cell_type": "code",
   "execution_count": 20,
   "metadata": {
    "ExecuteTime": {
     "end_time": "2019-05-16T07:39:41.243565Z",
     "start_time": "2019-05-16T07:39:41.214148Z"
    }
   },
   "outputs": [
    {
     "name": "stdout",
     "output_type": "stream",
     "text": [
      ">> Model is on: True\n",
      ">> Model is on: True\n"
     ]
    }
   ],
   "source": [
    "setup_seed(45)\n",
    "hidden_size = 256\n",
    "# Reverse the order of source input sentence\n",
    "reverse_source_sentence = True\n",
    "# Feed the target as the next input\n",
    "use_teacher_forcing = True\n",
    "encoder = EncoderLSTM(input_lang.n_words, hidden_size).to(device)\n",
    "decoder = AttentionDecoderLSTM(hidden_size, output_lang.n_words).to(device)\n",
    "print(\">> Model is on: {}\".format(next(encoder.parameters()).is_cuda))\n",
    "print(\">> Model is on: {}\".format(next(decoder.parameters()).is_cuda))"
   ]
  },
  {
   "cell_type": "code",
   "execution_count": 21,
   "metadata": {
    "ExecuteTime": {
     "end_time": "2019-05-16T07:51:18.677011Z",
     "start_time": "2019-05-16T07:39:41.244405Z"
    },
    "scrolled": true
   },
   "outputs": [
    {
     "name": "stdout",
     "output_type": "stream",
     "text": [
      "0m 23s (- 77m 56s) (250 0%) 4.9045\n",
      "0m 41s (- 68m 39s) (500 1%) 3.3049\n",
      "1m 0s (- 65m 48s) (750 1%) 3.0303\n",
      "1m 17s (- 63m 40s) (1000 2%) 2.8569\n",
      "1m 36s (- 62m 31s) (1250 2%) 2.8321\n",
      "1m 54s (- 61m 38s) (1500 3%) 2.7320\n",
      "2m 11s (- 60m 23s) (1750 3%) 2.6652\n",
      "2m 28s (- 59m 34s) (2000 4%) 2.6601\n",
      "2m 46s (- 58m 53s) (2250 4%) 2.6078\n",
      "3m 10s (- 60m 10s) (2500 5%) 2.5934\n",
      "3m 30s (- 60m 12s) (2750 5%) 2.5855\n",
      "3m 49s (- 60m 2s) (3000 6%) 2.4951\n",
      "4m 12s (- 60m 35s) (3250 6%) 2.4717\n",
      "4m 32s (- 60m 23s) (3500 7%) 2.4963\n",
      "4m 54s (- 60m 38s) (3750 7%) 2.4969\n",
      "5m 15s (- 60m 30s) (4000 8%) 2.3994\n",
      "5m 35s (- 60m 11s) (4250 8%) 2.3991\n",
      "5m 55s (- 59m 56s) (4500 9%) 2.3072\n",
      "6m 17s (- 59m 53s) (4750 9%) 2.2703\n",
      "6m 38s (- 59m 48s) (5000 10%) 2.2681\n",
      "6m 56s (- 59m 8s) (5250 10%) 2.3253\n",
      "7m 15s (- 58m 47s) (5500 11%) 2.3062\n",
      "7m 35s (- 58m 24s) (5750 11%) 2.2431\n",
      "7m 54s (- 58m 2s) (6000 12%) 2.2481\n",
      "8m 14s (- 57m 38s) (6250 12%) 2.2147\n",
      "8m 34s (- 57m 20s) (6500 13%) 2.1789\n",
      "8m 52s (- 56m 54s) (6750 13%) 2.0689\n",
      "9m 12s (- 56m 31s) (7000 14%) 2.1624\n",
      "9m 32s (- 56m 15s) (7250 14%) 2.1783\n",
      "9m 51s (- 55m 51s) (7500 15%) 2.0618\n",
      "10m 12s (- 55m 38s) (7750 15%) 2.0752\n",
      "10m 31s (- 55m 14s) (8000 16%) 2.0351\n",
      "10m 49s (- 54m 45s) (8250 16%) 2.0126\n",
      "11m 8s (- 54m 21s) (8500 17%) 2.0556\n",
      "11m 27s (- 53m 58s) (8750 17%) 2.0194\n",
      "11m 45s (- 53m 35s) (9000 18%) 2.0155\n",
      "12m 3s (- 53m 8s) (9250 18%) 1.8749\n",
      "12m 21s (- 52m 42s) (9500 19%) 1.9430\n",
      "12m 38s (- 52m 12s) (9750 19%) 1.8124\n",
      "12m 56s (- 51m 45s) (10000 20%) 1.9113\n",
      "13m 14s (- 51m 19s) (10250 20%) 1.8959\n",
      "13m 31s (- 50m 52s) (10500 21%) 1.8226\n",
      "13m 49s (- 50m 26s) (10750 21%) 1.8846\n",
      "14m 7s (- 50m 3s) (11000 22%) 1.8598\n",
      "14m 25s (- 49m 41s) (11250 22%) 1.8070\n",
      "14m 45s (- 49m 24s) (11500 23%) 1.8770\n",
      "15m 3s (- 49m 2s) (11750 23%) 1.7991\n",
      "15m 22s (- 48m 40s) (12000 24%) 1.6979\n",
      "15m 40s (- 48m 19s) (12250 24%) 1.7849\n",
      "15m 58s (- 47m 56s) (12500 25%) 1.7383\n",
      "16m 18s (- 47m 38s) (12750 25%) 1.8461\n",
      "16m 39s (- 47m 23s) (13000 26%) 1.7735\n",
      "16m 58s (- 47m 4s) (13250 26%) 1.7250\n",
      "17m 16s (- 46m 42s) (13500 27%) 1.7031\n",
      "17m 34s (- 46m 19s) (13750 27%) 1.7557\n",
      "17m 52s (- 45m 58s) (14000 28%) 1.7034\n",
      "18m 12s (- 45m 41s) (14250 28%) 1.7474\n",
      "18m 32s (- 45m 23s) (14500 28%) 1.7002\n",
      "18m 52s (- 45m 6s) (14750 29%) 1.6098\n",
      "19m 12s (- 44m 49s) (15000 30%) 1.6132\n",
      "19m 31s (- 44m 30s) (15250 30%) 1.7066\n",
      "19m 51s (- 44m 11s) (15500 31%) 1.6781\n",
      "20m 9s (- 43m 51s) (15750 31%) 1.5791\n",
      "20m 28s (- 43m 31s) (16000 32%) 1.5366\n",
      "20m 47s (- 43m 10s) (16250 32%) 1.6449\n",
      "21m 8s (- 42m 56s) (16500 33%) 1.6655\n",
      "21m 27s (- 42m 36s) (16750 33%) 1.5604\n",
      "21m 48s (- 42m 20s) (17000 34%) 1.5838\n",
      "22m 8s (- 42m 1s) (17250 34%) 1.5468\n",
      "22m 26s (- 41m 39s) (17500 35%) 1.5449\n",
      "22m 44s (- 41m 18s) (17750 35%) 1.5705\n",
      "23m 3s (- 41m 0s) (18000 36%) 1.5782\n",
      "23m 21s (- 40m 38s) (18250 36%) 1.4957\n",
      "23m 39s (- 40m 16s) (18500 37%) 1.3964\n",
      "23m 56s (- 39m 54s) (18750 37%) 1.4830\n",
      "24m 15s (- 39m 34s) (19000 38%) 1.5285\n",
      "24m 32s (- 39m 12s) (19250 38%) 1.4140\n",
      "24m 51s (- 38m 52s) (19500 39%) 1.4499\n",
      "25m 8s (- 38m 30s) (19750 39%) 1.4234\n",
      "25m 26s (- 38m 10s) (20000 40%) 1.4060\n",
      "25m 44s (- 37m 49s) (20250 40%) 1.4435\n",
      "26m 3s (- 37m 29s) (20500 41%) 1.4514\n",
      "26m 20s (- 37m 7s) (20750 41%) 1.4453\n",
      "26m 37s (- 36m 46s) (21000 42%) 1.4741\n",
      "26m 56s (- 36m 26s) (21250 42%) 1.3784\n",
      "27m 15s (- 36m 7s) (21500 43%) 1.4439\n",
      "27m 32s (- 35m 46s) (21750 43%) 1.4836\n",
      "27m 49s (- 35m 25s) (22000 44%) 1.3703\n",
      "28m 7s (- 35m 4s) (22250 44%) 1.3226\n",
      "28m 25s (- 34m 43s) (22500 45%) 1.3610\n",
      "28m 42s (- 34m 23s) (22750 45%) 1.4003\n",
      "29m 1s (- 34m 3s) (23000 46%) 1.3914\n",
      "29m 18s (- 33m 43s) (23250 46%) 1.2699\n",
      "29m 36s (- 33m 23s) (23500 47%) 1.2957\n",
      "29m 54s (- 33m 3s) (23750 47%) 1.3403\n",
      "30m 11s (- 32m 42s) (24000 48%) 1.3439\n",
      "30m 29s (- 32m 22s) (24250 48%) 1.2482\n",
      "30m 46s (- 32m 2s) (24500 49%) 1.3789\n",
      "31m 4s (- 31m 41s) (24750 49%) 1.1900\n",
      "31m 22s (- 31m 22s) (25000 50%) 1.2474\n",
      "31m 40s (- 31m 2s) (25250 50%) 1.3320\n",
      "31m 58s (- 30m 43s) (25500 51%) 1.2478\n",
      "32m 17s (- 30m 24s) (25750 51%) 1.2392\n",
      "32m 34s (- 30m 4s) (26000 52%) 1.2369\n",
      "32m 52s (- 29m 44s) (26250 52%) 1.1629\n",
      "33m 11s (- 29m 26s) (26500 53%) 1.2625\n",
      "33m 30s (- 29m 7s) (26750 53%) 1.2236\n",
      "33m 49s (- 28m 48s) (27000 54%) 1.1323\n",
      "34m 8s (- 28m 29s) (27250 54%) 1.2009\n",
      "34m 25s (- 28m 10s) (27500 55%) 1.2412\n",
      "34m 43s (- 27m 50s) (27750 55%) 1.2053\n",
      "35m 0s (- 27m 30s) (28000 56%) 1.2504\n",
      "35m 18s (- 27m 10s) (28250 56%) 1.1889\n",
      "35m 36s (- 26m 51s) (28500 56%) 1.2637\n",
      "35m 53s (- 26m 32s) (28750 57%) 1.2014\n",
      "36m 12s (- 26m 12s) (29000 57%) 1.1773\n",
      "36m 30s (- 25m 54s) (29250 58%) 1.1245\n",
      "36m 48s (- 25m 34s) (29500 59%) 1.1128\n",
      "37m 7s (- 25m 16s) (29750 59%) 1.1001\n",
      "37m 25s (- 24m 56s) (30000 60%) 1.2020\n",
      "37m 43s (- 24m 37s) (30250 60%) 1.0931\n",
      "38m 0s (- 24m 18s) (30500 61%) 1.0847\n",
      "38m 18s (- 23m 58s) (30750 61%) 1.1683\n",
      "38m 35s (- 23m 39s) (31000 62%) 1.0578\n",
      "38m 53s (- 23m 20s) (31250 62%) 1.1204\n",
      "39m 11s (- 23m 0s) (31500 63%) 1.0375\n",
      "39m 29s (- 22m 42s) (31750 63%) 1.0673\n",
      "39m 47s (- 22m 23s) (32000 64%) 1.0291\n",
      "40m 6s (- 22m 4s) (32250 64%) 1.1162\n",
      "40m 24s (- 21m 45s) (32500 65%) 1.1235\n",
      "40m 41s (- 21m 26s) (32750 65%) 1.0975\n",
      "40m 59s (- 21m 6s) (33000 66%) 1.0241\n",
      "41m 17s (- 20m 48s) (33250 66%) 1.1561\n",
      "41m 36s (- 20m 29s) (33500 67%) 1.0525\n",
      "41m 55s (- 20m 11s) (33750 67%) 1.0605\n",
      "42m 13s (- 19m 52s) (34000 68%) 1.0551\n",
      "42m 31s (- 19m 33s) (34250 68%) 1.0728\n",
      "42m 49s (- 19m 14s) (34500 69%) 1.0422\n",
      "43m 8s (- 18m 56s) (34750 69%) 1.0189\n",
      "43m 26s (- 18m 37s) (35000 70%) 0.9925\n",
      "43m 44s (- 18m 18s) (35250 70%) 1.0572\n",
      "44m 2s (- 17m 59s) (35500 71%) 1.0211\n",
      "44m 19s (- 17m 40s) (35750 71%) 1.0857\n",
      "44m 37s (- 17m 21s) (36000 72%) 1.0427\n",
      "44m 55s (- 17m 2s) (36250 72%) 0.9366\n",
      "45m 12s (- 16m 43s) (36500 73%) 1.0282\n",
      "45m 30s (- 16m 24s) (36750 73%) 0.9766\n",
      "45m 48s (- 16m 5s) (37000 74%) 0.9918\n",
      "46m 6s (- 15m 46s) (37250 74%) 0.9713\n",
      "46m 24s (- 15m 28s) (37500 75%) 0.8682\n",
      "46m 42s (- 15m 9s) (37750 75%) 0.8866\n",
      "47m 0s (- 14m 50s) (38000 76%) 0.9383\n",
      "47m 18s (- 14m 31s) (38250 76%) 0.9673\n",
      "47m 36s (- 14m 13s) (38500 77%) 0.8919\n",
      "47m 54s (- 13m 54s) (38750 77%) 0.9282\n",
      "48m 12s (- 13m 35s) (39000 78%) 0.9390\n",
      "48m 30s (- 13m 17s) (39250 78%) 0.8759\n",
      "48m 48s (- 12m 58s) (39500 79%) 0.9049\n",
      "49m 6s (- 12m 39s) (39750 79%) 0.9363\n",
      "49m 24s (- 12m 21s) (40000 80%) 0.8546\n",
      "49m 41s (- 12m 2s) (40250 80%) 0.8826\n",
      "49m 59s (- 11m 43s) (40500 81%) 0.9364\n",
      "50m 17s (- 11m 24s) (40750 81%) 0.9326\n",
      "50m 35s (- 11m 6s) (41000 82%) 0.8726\n",
      "50m 52s (- 10m 47s) (41250 82%) 0.9256\n",
      "51m 10s (- 10m 28s) (41500 83%) 0.8858\n",
      "51m 29s (- 10m 10s) (41750 83%) 0.7803\n",
      "51m 47s (- 9m 51s) (42000 84%) 0.8532\n",
      "52m 6s (- 9m 33s) (42250 84%) 0.9056\n",
      "52m 24s (- 9m 14s) (42500 85%) 0.7939\n",
      "52m 41s (- 8m 56s) (42750 85%) 0.8685\n",
      "52m 59s (- 8m 37s) (43000 86%) 0.8675\n",
      "53m 17s (- 8m 19s) (43250 86%) 0.8868\n",
      "53m 34s (- 8m 0s) (43500 87%) 0.8165\n",
      "53m 52s (- 7m 41s) (43750 87%) 0.7273\n",
      "54m 10s (- 7m 23s) (44000 88%) 0.8150\n",
      "54m 28s (- 7m 4s) (44250 88%) 0.8015\n",
      "54m 45s (- 6m 46s) (44500 89%) 0.7703\n",
      "55m 2s (- 6m 27s) (44750 89%) 0.8699\n",
      "55m 20s (- 6m 8s) (45000 90%) 0.8267\n",
      "55m 38s (- 5m 50s) (45250 90%) 0.7528\n",
      "55m 55s (- 5m 31s) (45500 91%) 0.8305\n",
      "56m 13s (- 5m 13s) (45750 91%) 0.7830\n",
      "56m 31s (- 4m 54s) (46000 92%) 0.8001\n",
      "56m 48s (- 4m 36s) (46250 92%) 0.7384\n",
      "57m 5s (- 4m 17s) (46500 93%) 0.7825\n",
      "57m 23s (- 3m 59s) (46750 93%) 0.7710\n",
      "57m 41s (- 3m 40s) (47000 94%) 0.7454\n",
      "57m 58s (- 3m 22s) (47250 94%) 0.7490\n",
      "58m 16s (- 3m 4s) (47500 95%) 0.8604\n",
      "58m 33s (- 2m 45s) (47750 95%) 0.7776\n",
      "58m 51s (- 2m 27s) (48000 96%) 0.7263\n",
      "59m 9s (- 2m 8s) (48250 96%) 0.8098\n",
      "59m 28s (- 1m 50s) (48500 97%) 0.6916\n",
      "59m 45s (- 1m 31s) (48750 97%) 0.7064\n",
      "60m 3s (- 1m 13s) (49000 98%) 0.8158\n",
      "60m 24s (- 0m 55s) (49250 98%) 0.7894\n",
      "60m 43s (- 0m 36s) (49500 99%) 0.7465\n",
      "61m 1s (- 0m 18s) (49750 99%) 0.7975\n",
      "61m 19s (- 0m 0s) (50000 100%) 0.7190\n"
     ]
    },
    {
     "data": {
      "text/plain": [
       "<Figure size 432x288 with 0 Axes>"
      ]
     },
     "metadata": {},
     "output_type": "display_data"
    },
    {
     "data": {
      "image/png": "[encoded data removed]",
      "text/plain": [
       "<Figure size 432x288 with 1 Axes>"
      ]
     },
     "metadata": {
      "needs_background": "light"
     },
     "output_type": "display_data"
    }
   ],
   "source": [
    "iters = 50000\n",
    "train_attn(encoder, decoder, iters, reverse_source_sentence=reverse_source_sentence, \n",
    "           use_teacher_forcing=use_teacher_forcing,print_every=250, plot_every=250)"
   ]
  },
  {
   "cell_type": "code",
   "execution_count": 22,
   "metadata": {
    "ExecuteTime": {
     "end_time": "2019-05-16T07:51:19.158098Z",
     "start_time": "2019-05-16T07:51:18.678328Z"
    },
    "scrolled": true
   },
   "outputs": [
    {
     "name": "stdout",
     "output_type": "stream",
     "text": [
      "input = elle a cinq ans de moins que moi .\n",
      "output = she is two years younger than me . <EOS>\n"
     ]
    },
    {
     "data": {
      "image/png": "[encoded data removed]",
      "text/plain": [
       "<Figure size 432x288 with 2 Axes>"
      ]
     },
     "metadata": {
      "needs_background": "light"
     },
     "output_type": "display_data"
    },
    {
     "name": "stdout",
     "output_type": "stream",
     "text": [
      "input = elle est trop petit .\n",
      "output = she is too drunk . <EOS>\n"
     ]
    },
    {
     "data": {
      "image/png": "[encoded data removed]",
      "text/plain": [
       "<Figure size 432x288 with 2 Axes>"
      ]
     },
     "metadata": {
      "needs_background": "light"
     },
     "output_type": "display_data"
    },
    {
     "name": "stdout",
     "output_type": "stream",
     "text": [
      "input = je ne crains pas de mourir .\n",
      "output = i m not afraid of making mistakes . <EOS>\n"
     ]
    },
    {
     "data": {
      "image/png": "[encoded data removed]",
      "text/plain": [
       "<Figure size 432x288 with 2 Axes>"
      ]
     },
     "metadata": {
      "needs_background": "light"
     },
     "output_type": "display_data"
    },
    {
     "name": "stdout",
     "output_type": "stream",
     "text": [
      "input = c est un jeune directeur plein de talent .\n",
      "output = he s a very talented writer . <EOS>\n"
     ]
    },
    {
     "data": {
      "image/png": "[encoded data removed]",
      "text/plain": [
       "<Figure size 432x288 with 2 Axes>"
      ]
     },
     "metadata": {
      "needs_background": "light"
     },
     "output_type": "display_data"
    }
   ],
   "source": [
    "evaluate_and_show_attention(\"elle a cinq ans de moins que moi .\", encoder, decoder)\n",
    "\n",
    "evaluate_and_show_attention(\"elle est trop petit .\", encoder, decoder)\n",
    "\n",
    "evaluate_and_show_attention(\"je ne crains pas de mourir .\", encoder, decoder)\n",
    "\n",
    "evaluate_and_show_attention(\"c est un jeune directeur plein de talent .\", encoder, decoder)"
   ]
  },
  {
   "cell_type": "markdown",
   "metadata": {},
   "source": [
    "## 2.1 Diving into LSTM "
   ]
  },
  {
   "cell_type": "markdown",
   "metadata": {},
   "source": [
    "## 2.1.1 Implement your own LSTM from scratch using pytorch"
   ]
  },
  {
   "attachments": {
    "LSTM-Inner.png": {
     "image/png": "[encoded data removed]"
    }
   },
   "cell_type": "markdown",
   "metadata": {},
   "source": [
    "![LSTM-Inner.png](attachment:LSTM-Inner.png)\n",
    "\n",
    "**@** 指的是 matrix mipliplication"
   ]
  },
  {
   "cell_type": "code",
   "execution_count": 23,
   "metadata": {
    "ExecuteTime": {
     "end_time": "2019-05-16T07:51:19.174754Z",
     "start_time": "2019-05-16T07:51:19.159540Z"
    }
   },
   "outputs": [],
   "source": [
    "class NaiveLSTM(nn.Module):\n",
    "    \"\"\"Naive LSTM like nn.LSTM\"\"\"\n",
    "    def __init__(self, input_size: int, hidden_size: int):\n",
    "        super(NaiveLSTM, self).__init__()\n",
    "        self.input_size = input_size\n",
    "        self.hidden_size = hidden_size\n",
    "\n",
    "        # input gate\n",
    "        self.w_ii = Parameter(Tensor(hidden_size, input_size))\n",
    "        self.w_hi = Parameter(Tensor(hidden_size, hidden_size))\n",
    "        self.b_ii = Parameter(Tensor(hidden_size, 1))\n",
    "        self.b_hi = Parameter(Tensor(hidden_size, 1))\n",
    "\n",
    "        # forget gate\n",
    "        self.w_if = Parameter(Tensor(hidden_size, input_size))\n",
    "        self.w_hf = Parameter(Tensor(hidden_size, hidden_size))\n",
    "        self.b_if = Parameter(Tensor(hidden_size, 1))\n",
    "        self.b_hf = Parameter(Tensor(hidden_size, 1))\n",
    "\n",
    "        # output gate\n",
    "        self.w_io = Parameter(Tensor(hidden_size, input_size))\n",
    "        self.w_ho = Parameter(Tensor(hidden_size, hidden_size))\n",
    "        self.b_io = Parameter(Tensor(hidden_size, 1))\n",
    "        self.b_ho = Parameter(Tensor(hidden_size, 1))\n",
    "        \n",
    "        # cell\n",
    "        self.w_ig = Parameter(Tensor(hidden_size, input_size))\n",
    "        self.w_hg = Parameter(Tensor(hidden_size, hidden_size))\n",
    "        self.b_ig = Parameter(Tensor(hidden_size, 1))\n",
    "        self.b_hg = Parameter(Tensor(hidden_size, 1))\n",
    "\n",
    "        self.reset_weigths()\n",
    "\n",
    "    def reset_weigths(self):\n",
    "        \"\"\"reset weights\n",
    "        \"\"\"\n",
    "        stdv = 1.0 / math.sqrt(self.hidden_size)\n",
    "        for weight in self.parameters():\n",
    "            init.uniform_(weight, -stdv, stdv)\n",
    "\n",
    "    def forward(self, inputs: Tensor, state: Tuple[Tensor]) \\\n",
    "        -> Tuple[Tensor, Tuple[Tensor, Tensor]]:\n",
    "        \"\"\"Forward\n",
    "        Args:\n",
    "            inputs: [1, 1, input_size]\n",
    "            state: ([1, 1, hidden_size], [1, 1, hidden_size])\n",
    "        \"\"\"\n",
    "\n",
    "#         seq_size, batch_size, _ = inputs.size()\n",
    "\n",
    "        if state is None:\n",
    "            h_t = torch.zeros(1, self.hidden_size).t()\n",
    "            c_t = torch.zeros(1, self.hidden_size).t()\n",
    "        else:\n",
    "            (h, c) = state\n",
    "            h_t = h.squeeze(0).t()\n",
    "            c_t = c.squeeze(0).t()\n",
    "\n",
    "        hidden_seq = []\n",
    "\n",
    "        seq_size = 1\n",
    "        for t in range(seq_size):\n",
    "            x = inputs[:, t, :].t()\n",
    "            # input gate\n",
    "            i = torch.sigmoid(self.w_ii @ x + self.b_ii + self.w_hi @ h_t +\n",
    "                              self.b_hi)\n",
    "            # forget gate\n",
    "            f = torch.sigmoid(self.w_if @ x + self.b_if + self.w_hf @ h_t +\n",
    "                              self.b_hf)\n",
    "            # cell\n",
    "            g = torch.tanh(self.w_ig @ x + self.b_ig + self.w_hg @ h_t\n",
    "                           + self.b_hg)\n",
    "            # output gate\n",
    "            o = torch.sigmoid(self.w_io @ x + self.b_io + self.w_ho @ h_t +\n",
    "                              self.b_ho)\n",
    "            \n",
    "            c_next = f * c_t + i * g\n",
    "            h_next = o * torch.tanh(c_next)\n",
    "            c_next_t = c_next.t().unsqueeze(0)\n",
    "            h_next_t = h_next.t().unsqueeze(0)\n",
    "            hidden_seq.append(h_next_t)\n",
    "\n",
    "        hidden_seq = torch.cat(hidden_seq, dim=0)\n",
    "        return hidden_seq, (h_next_t, c_next_t)"
   ]
  },
  {
   "cell_type": "code",
   "execution_count": 24,
   "metadata": {
    "ExecuteTime": {
     "end_time": "2019-05-16T07:51:19.185367Z",
     "start_time": "2019-05-16T07:51:19.175905Z"
    }
   },
   "outputs": [],
   "source": [
    "def reset_weigths(model):\n",
    "    \"\"\"reset weights\n",
    "    \"\"\"\n",
    "    for weight in model.parameters():\n",
    "        init.constant_(weight, 0.5)"
   ]
  },
  {
   "cell_type": "code",
   "execution_count": 25,
   "metadata": {
    "ExecuteTime": {
     "end_time": "2019-05-16T07:51:19.195085Z",
     "start_time": "2019-05-16T07:51:19.186293Z"
    }
   },
   "outputs": [
    {
     "name": "stdout",
     "output_type": "stream",
     "text": [
      "torch.Size([1, 1, 20]) tensor([[[1., 1., 1., 1., 1., 1., 1., 1., 1., 1., 1., 1., 1., 1., 1., 1., 1.,\n",
      "          1., 1., 1.]]])\n",
      "torch.Size([1, 1, 20]) tensor([[[1., 1., 1., 1., 1., 1., 1., 1., 1., 1., 1., 1., 1., 1., 1., 1., 1.,\n",
      "          1., 1., 1.]]])\n",
      "torch.Size([1, 1, 10]) tensor([[[1., 1., 1., 1., 1., 1., 1., 1., 1., 1.]]])\n"
     ]
    }
   ],
   "source": [
    "inputs = torch.ones(1, 1, 10)\n",
    "h0 = torch.ones(1, 1, 20)\n",
    "c0 = torch.ones(1, 1, 20)\n",
    "print(h0.shape, h0)\n",
    "print(c0.shape, c0)\n",
    "print(inputs.shape, inputs)"
   ]
  },
  {
   "cell_type": "code",
   "execution_count": 26,
   "metadata": {
    "ExecuteTime": {
     "end_time": "2019-05-16T07:51:19.202651Z",
     "start_time": "2019-05-16T07:51:19.196019Z"
    }
   },
   "outputs": [],
   "source": [
    "# test naive_lstm with input_size=10, hidden_size=20\n",
    "naive_lstm = NaiveLSTM(10, 20)\n",
    "reset_weigths(naive_lstm)"
   ]
  },
  {
   "cell_type": "code",
   "execution_count": 27,
   "metadata": {
    "ExecuteTime": {
     "end_time": "2019-05-16T07:51:19.210151Z",
     "start_time": "2019-05-16T07:51:19.203520Z"
    },
    "scrolled": true
   },
   "outputs": [],
   "source": [
    "output1, (hn1, cn1) = naive_lstm(inputs, (h0, c0))"
   ]
  },
  {
   "cell_type": "code",
   "execution_count": 28,
   "metadata": {
    "ExecuteTime": {
     "end_time": "2019-05-16T07:51:19.218804Z",
     "start_time": "2019-05-16T07:51:19.211006Z"
    },
    "scrolled": true
   },
   "outputs": [
    {
     "name": "stdout",
     "output_type": "stream",
     "text": [
      "torch.Size([1, 1, 20]) torch.Size([1, 1, 20]) torch.Size([1, 1, 20])\n",
      "tensor([[[0.9640, 0.9640, 0.9640, 0.9640, 0.9640, 0.9640, 0.9640, 0.9640,\n",
      "          0.9640, 0.9640, 0.9640, 0.9640, 0.9640, 0.9640, 0.9640, 0.9640,\n",
      "          0.9640, 0.9640, 0.9640, 0.9640]]], grad_fn=<UnsqueezeBackward0>)\n",
      "tensor([[[2.0000, 2.0000, 2.0000, 2.0000, 2.0000, 2.0000, 2.0000, 2.0000,\n",
      "          2.0000, 2.0000, 2.0000, 2.0000, 2.0000, 2.0000, 2.0000, 2.0000,\n",
      "          2.0000, 2.0000, 2.0000, 2.0000]]], grad_fn=<UnsqueezeBackward0>)\n",
      "tensor([[[0.9640, 0.9640, 0.9640, 0.9640, 0.9640, 0.9640, 0.9640, 0.9640,\n",
      "          0.9640, 0.9640, 0.9640, 0.9640, 0.9640, 0.9640, 0.9640, 0.9640,\n",
      "          0.9640, 0.9640, 0.9640, 0.9640]]], grad_fn=<CatBackward>)\n"
     ]
    }
   ],
   "source": [
    "print(hn1.shape, cn1.shape, output1.shape)\n",
    "print(hn1)\n",
    "print(cn1)\n",
    "print(output1)"
   ]
  },
  {
   "cell_type": "markdown",
   "metadata": {},
   "source": [
    "## 2.1.2 Compare with Official LSTM"
   ]
  },
  {
   "cell_type": "code",
   "execution_count": 29,
   "metadata": {
    "ExecuteTime": {
     "end_time": "2019-05-16T07:51:19.226325Z",
     "start_time": "2019-05-16T07:51:19.219717Z"
    }
   },
   "outputs": [],
   "source": [
    "# Use official lstm with input_size=10, hidden_size=20\n",
    "lstm = nn.LSTM(10, 20)\n",
    "reset_weigths(lstm)"
   ]
  },
  {
   "cell_type": "code",
   "execution_count": 30,
   "metadata": {
    "ExecuteTime": {
     "end_time": "2019-05-16T07:51:19.235697Z",
     "start_time": "2019-05-16T07:51:19.227203Z"
    },
    "scrolled": false
   },
   "outputs": [
    {
     "name": "stdout",
     "output_type": "stream",
     "text": [
      "torch.Size([1, 1, 20]) torch.Size([1, 1, 20]) torch.Size([1, 1, 20])\n",
      "tensor([[[0.9640, 0.9640, 0.9640, 0.9640, 0.9640, 0.9640, 0.9640, 0.9640,\n",
      "          0.9640, 0.9640, 0.9640, 0.9640, 0.9640, 0.9640, 0.9640, 0.9640,\n",
      "          0.9640, 0.9640, 0.9640, 0.9640]]], grad_fn=<StackBackward>)\n",
      "tensor([[[2.0000, 2.0000, 2.0000, 2.0000, 2.0000, 2.0000, 2.0000, 2.0000,\n",
      "          2.0000, 2.0000, 2.0000, 2.0000, 2.0000, 2.0000, 2.0000, 2.0000,\n",
      "          2.0000, 2.0000, 2.0000, 2.0000]]], grad_fn=<StackBackward>)\n",
      "tensor([[[0.9640, 0.9640, 0.9640, 0.9640, 0.9640, 0.9640, 0.9640, 0.9640,\n",
      "          0.9640, 0.9640, 0.9640, 0.9640, 0.9640, 0.9640, 0.9640, 0.9640,\n",
      "          0.9640, 0.9640, 0.9640, 0.9640]]], grad_fn=<StackBackward>)\n"
     ]
    }
   ],
   "source": [
    "output2, (hn2, cn2) = lstm(inputs, (h0, c0))\n",
    "print(hn2.shape, cn2.shape, output2.shape)\n",
    "print(hn2)\n",
    "print(cn2)\n",
    "print(output2)"
   ]
  },
  {
   "cell_type": "markdown",
   "metadata": {
    "ExecuteTime": {
     "end_time": "2019-05-12T09:39:51.096892Z",
     "start_time": "2019-05-12T09:33:10.120Z"
    }
   },
   "source": [
    "## 2.2 Observing the Grad Vanishing of LSTM and RNN "
   ]
  },
  {
   "cell_type": "code",
   "execution_count": 31,
   "metadata": {
    "ExecuteTime": {
     "end_time": "2019-05-16T07:51:19.243082Z",
     "start_time": "2019-05-16T07:51:19.236716Z"
    }
   },
   "outputs": [],
   "source": [
    "# Implementation of RNN for our experiment \n",
    "from NaiveRNN import NaiveRNN"
   ]
  },
  {
   "cell_type": "code",
   "execution_count": 32,
   "metadata": {
    "ExecuteTime": {
     "end_time": "2019-05-16T07:51:19.251906Z",
     "start_time": "2019-05-16T07:51:19.243973Z"
    }
   },
   "outputs": [],
   "source": [
    "hidden_size = 50\n",
    "input_size = 100\n",
    "sequence_len = 100\n",
    "high = 1000000"
   ]
  },
  {
   "cell_type": "code",
   "execution_count": 33,
   "metadata": {
    "ExecuteTime": {
     "end_time": "2019-05-16T07:51:19.261083Z",
     "start_time": "2019-05-16T07:51:19.252749Z"
    },
    "scrolled": true
   },
   "outputs": [
    {
     "name": "stdout",
     "output_type": "stream",
     "text": [
      "tensor([[467641, 438165, 935784, 348843, 456126, 678722, 544521, 629650, 913052,\n",
      "         515704, 359498, 813691,  85030, 812238,  81280, 534390, 213301, 739639,\n",
      "         946166, 142993, 176025, 324614, 504309, 253316,  20391, 536403, 934167,\n",
      "         390225, 640486, 736492, 462829, 287346, 267072, 136907, 162403, 581682,\n",
      "         251738, 852900, 377706,  95229, 817013, 533409, 486543, 639531, 823225,\n",
      "         393774, 451828, 300227, 620261, 894586, 392700, 298598, 399744, 551383,\n",
      "         934141, 695864, 855742, 290926, 663304, 578266, 672847, 429797, 580725,\n",
      "         394330, 248653,  28963, 842417, 337341, 445876, 271879, 831151, 824026,\n",
      "         226680, 804180, 468878, 716080, 324929, 540810, 686717, 493021, 133503,\n",
      "         913081, 488010, 758172, 446451, 518270, 381352, 378181, 296251, 519946,\n",
      "         205581, 921540, 626297, 817562, 742148, 732258, 934476, 589189, 638731,\n",
      "         298330]], device='cuda:0')\n"
     ]
    }
   ],
   "source": [
    "# Generate random input with sequence_len=100\n",
    "test_idx = torch.randint(high=high, size=(1, sequence_len)).to(device)\n",
    "print(test_idx)"
   ]
  },
  {
   "cell_type": "code",
   "execution_count": 34,
   "metadata": {
    "ExecuteTime": {
     "end_time": "2019-05-16T07:51:19.968961Z",
     "start_time": "2019-05-16T07:51:19.262173Z"
    },
    "scrolled": true
   },
   "outputs": [
    {
     "name": "stdout",
     "output_type": "stream",
     "text": [
      "tensor([[[ 0.5697,  0.7304, -0.4647,  ...,  0.7549,  0.3112, -0.4582],\n",
      "         [ 1.5171,  0.7328,  0.0803,  ...,  1.2385,  1.2259, -0.5259],\n",
      "         [-0.2804, -0.4395,  1.5441,  ..., -0.8644,  0.1858, -0.9446],\n",
      "         ...,\n",
      "         [ 0.5019, -0.8431, -0.9560,  ...,  0.2607,  1.2035,  0.6892],\n",
      "         [-0.5062,  0.8530,  0.3743,  ..., -0.4148, -0.3384,  0.9264],\n",
      "         [-2.1523,  0.6292, -0.9732,  ..., -0.2591, -1.6320, -0.1915]]],\n",
      "       device='cuda:0', grad_fn=<EmbeddingBackward>)\n",
      "tensor([[0., 0., 0., 0., 0., 0., 0., 0., 0., 0., 0., 0., 0., 0., 0., 0., 0., 0., 0., 0., 0., 0., 0., 0.,\n",
      "         0., 0., 0., 0., 0., 0., 0., 0., 0., 0., 0., 0., 0., 0., 0., 0., 0., 0., 0., 0., 0., 0., 0., 0.,\n",
      "         0., 0.]], device='cuda:0', grad_fn=<CopyBackwards>)\n",
      "tensor([[[ 0.5697,  0.7304, -0.4647,  ...,  0.7549,  0.3112, -0.4582],\n",
      "         [ 1.5171,  0.7328,  0.0803,  ...,  1.2385,  1.2259, -0.5259],\n",
      "         [-0.2804, -0.4395,  1.5441,  ..., -0.8644,  0.1858, -0.9446],\n",
      "         ...,\n",
      "         [ 0.5019, -0.8431, -0.9560,  ...,  0.2607,  1.2035,  0.6892],\n",
      "         [-0.5062,  0.8530,  0.3743,  ..., -0.4148, -0.3384,  0.9264],\n",
      "         [-2.1523,  0.6292, -0.9732,  ..., -0.2591, -1.6320, -0.1915]]],\n",
      "       device='cuda:0', grad_fn=<EmbeddingBackward>)\n"
     ]
    }
   ],
   "source": [
    "setup_seed(45)\n",
    "embeddings = nn.Embedding(high, input_size).to(device)\n",
    "test_embeddings = embeddings(test_idx).to(device)\n",
    "print(test_embeddings)\n",
    "\n",
    "h_0 = torch.zeros(1, hidden_size, requires_grad=True).to(device)\n",
    "h_t = h_0\n",
    "print(h_0)\n",
    "print(test_embeddings)"
   ]
  },
  {
   "cell_type": "markdown",
   "metadata": {},
   "source": [
    "## 2.2.1 Grad of RNN"
   ]
  },
  {
   "cell_type": "code",
   "execution_count": 35,
   "metadata": {
    "ExecuteTime": {
     "end_time": "2019-05-16T07:51:19.977497Z",
     "start_time": "2019-05-16T07:51:19.969940Z"
    }
   },
   "outputs": [],
   "source": [
    "def rnn_step(x, h, w_ih, b_ih, w_hh, b_hh):\n",
    "    \"\"\"run rnn a step\n",
    "    \"\"\"\n",
    "    h = torch.tanh(w_ih @ x.t() + b_ih + w_hh @ h.t() + b_hh)\n",
    "    h_t = h.t()\n",
    "    return h_t"
   ]
  },
  {
   "cell_type": "code",
   "execution_count": 36,
   "metadata": {
    "ExecuteTime": {
     "end_time": "2019-05-16T07:51:21.324547Z",
     "start_time": "2019-05-16T07:51:19.978503Z"
    }
   },
   "outputs": [
    {
     "name": "stdout",
     "output_type": "stream",
     "text": [
      "tensor([[[ 0.5697,  0.7304, -0.4647,  ...,  0.7549,  0.3112, -0.4582],\n",
      "         [ 1.5171,  0.7328,  0.0803,  ...,  1.2385,  1.2259, -0.5259],\n",
      "         [-0.2804, -0.4395,  1.5441,  ..., -0.8644,  0.1858, -0.9446],\n",
      "         ...,\n",
      "         [ 0.5019, -0.8431, -0.9560,  ...,  0.2607,  1.2035,  0.6892],\n",
      "         [-0.5062,  0.8530,  0.3743,  ..., -0.4148, -0.3384,  0.9264],\n",
      "         [-2.1523,  0.6292, -0.9732,  ..., -0.2591, -1.6320, -0.1915]]],\n",
      "       device='cuda:0', grad_fn=<EmbeddingBackward>)\n"
     ]
    }
   ],
   "source": [
    "print(test_embeddings)\n",
    "\n",
    "rnn = NaiveRNN(input_size, hidden_size).to(device)\n",
    "iters = test_embeddings.size(1)\n",
    "rnn_grads = []\n",
    "for t in range(iters):\n",
    "    h_t = rnn_step(test_embeddings[: , t, :], h_t, \n",
    "                           rnn.w_ih, rnn.b_ih, rnn.w_hh, rnn.b_hh)\n",
    "    loss = h_t.abs().sum()\n",
    "    h_0.retain_grad()\n",
    "    loss.backward(retain_graph=True)\n",
    "    rnn_grads.append(torch.norm(h_0.grad).item())\n",
    "    h_0.grad.zero_()\n",
    "    rnn.zero_grad()"
   ]
  },
  {
   "cell_type": "code",
   "execution_count": 37,
   "metadata": {
    "ExecuteTime": {
     "end_time": "2019-05-16T07:51:21.422776Z",
     "start_time": "2019-05-16T07:51:21.325673Z"
    },
    "scrolled": true
   },
   "outputs": [
    {
     "data": {
      "text/plain": [
       "[<matplotlib.lines.Line2D at 0x1694fd9fcf8>]"
      ]
     },
     "execution_count": 37,
     "metadata": {},
     "output_type": "execute_result"
    },
    {
     "data": {
      "image/png": "[encoded data removed]",
      "text/plain": [
       "<Figure size 432x288 with 1 Axes>"
      ]
     },
     "metadata": {
      "needs_background": "light"
     },
     "output_type": "display_data"
    }
   ],
   "source": [
    "plt.plot(rnn_grads)"
   ]
  },
  {
   "cell_type": "markdown",
   "metadata": {},
   "source": [
    "## 2.2.1 Grad of LSTM"
   ]
  },
  {
   "cell_type": "code",
   "execution_count": 38,
   "metadata": {
    "ExecuteTime": {
     "end_time": "2019-05-16T07:51:21.432206Z",
     "start_time": "2019-05-16T07:51:21.423918Z"
    }
   },
   "outputs": [],
   "source": [
    "def show_gates(i_s, o_s, f_s):\n",
    "    \"\"\"Show input gate, output gate, forget gate for LSTM\n",
    "    \"\"\"\n",
    "    plt.plot(i_s, \"r\", label=\"input gate\")\n",
    "    plt.plot(o_s, \"b\", label=\"output gate\")\n",
    "    plt.plot(f_s, \"g\", label=\"forget gate\")\n",
    "    plt.title('Input gate, output gate and forget gate of LSTM')\n",
    "    plt.xlabel('t', color='#1C2833')\n",
    "    plt.ylabel('Mean Value', color='#1C2833')\n",
    "    plt.legend(loc='best')\n",
    "    plt.grid()\n",
    "    plt.show()"
   ]
  },
  {
   "cell_type": "code",
   "execution_count": 39,
   "metadata": {
    "ExecuteTime": {
     "end_time": "2019-05-16T07:51:21.443538Z",
     "start_time": "2019-05-16T07:51:21.433289Z"
    }
   },
   "outputs": [],
   "source": [
    "def lstm_step(x, h, c, w_ii, b_ii, w_hi, b_hi,\n",
    "                  w_if, b_if, w_hf, b_hf,\n",
    "                  w_ig, b_ig, w_hg, b_hg,\n",
    "                  w_io, b_io, w_ho, b_ho, use_forget_gate=True):\n",
    "    \"\"\"run lstm a step\n",
    "    \"\"\"\n",
    "    x_t = x.t()\n",
    "    h_t = h.t()\n",
    "    c_t = c.t()\n",
    "    i = torch.sigmoid(w_ii @ x_t + b_ii + w_hi @ h_t + b_hi)\n",
    "    o = torch.sigmoid(w_io @ x_t + b_io + w_ho @ h_t + b_ho)\n",
    "    g = torch.tanh(w_ig @ x_t + b_ig + w_hg @ h_t + b_hg)\n",
    "    f = torch.sigmoid(w_if @ x_t + b_if + w_hf @ h_t + b_hf)\n",
    "    if use_forget_gate:\n",
    "        c_next = f * c_t + i * g\n",
    "    else:\n",
    "        c_next = c_t + i * g\n",
    "    h_next = o * torch.tanh(c_next)\n",
    "    c_next_t = c_next.t()\n",
    "    h_next_t = h_next.t()\n",
    "    \n",
    "    i_avg = torch.mean(i).detach()\n",
    "    o_avg = torch.mean(o).detach()\n",
    "    f_avg = torch.mean(f).detach()\n",
    "    \n",
    "    return h_next_t, c_next_t, f_avg, i_avg, o_avg"
   ]
  },
  {
   "cell_type": "code",
   "execution_count": 40,
   "metadata": {
    "ExecuteTime": {
     "end_time": "2019-05-16T07:51:22.128230Z",
     "start_time": "2019-05-16T07:51:21.444674Z"
    },
    "scrolled": false
   },
   "outputs": [
    {
     "name": "stdout",
     "output_type": "stream",
     "text": [
      "tensor([[[ 0.5697,  0.7304, -0.4647,  ...,  0.7549,  0.3112, -0.4582],\n",
      "         [ 1.5171,  0.7328,  0.0803,  ...,  1.2385,  1.2259, -0.5259],\n",
      "         [-0.2804, -0.4395,  1.5441,  ..., -0.8644,  0.1858, -0.9446],\n",
      "         ...,\n",
      "         [ 0.5019, -0.8431, -0.9560,  ...,  0.2607,  1.2035,  0.6892],\n",
      "         [-0.5062,  0.8530,  0.3743,  ..., -0.4148, -0.3384,  0.9264],\n",
      "         [-2.1523,  0.6292, -0.9732,  ..., -0.2591, -1.6320, -0.1915]]],\n",
      "       device='cuda:0', grad_fn=<EmbeddingBackward>)\n",
      "tensor([[0., 0., 0., 0., 0., 0., 0., 0., 0., 0., 0., 0., 0., 0., 0., 0., 0., 0., 0., 0., 0., 0., 0., 0.,\n",
      "         0., 0., 0., 0., 0., 0., 0., 0., 0., 0., 0., 0., 0., 0., 0., 0., 0., 0., 0., 0., 0., 0., 0., 0.,\n",
      "         0., 0.]], device='cuda:0', grad_fn=<CopyBackwards>)\n",
      "tensor([[0., 0., 0., 0., 0., 0., 0., 0., 0., 0., 0., 0., 0., 0., 0., 0., 0., 0., 0., 0., 0., 0., 0., 0.,\n",
      "         0., 0., 0., 0., 0., 0., 0., 0., 0., 0., 0., 0., 0., 0., 0., 0., 0., 0., 0., 0., 0., 0., 0., 0.,\n",
      "         0., 0.]], device='cuda:0', grad_fn=<CopyBackwards>)\n"
     ]
    }
   ],
   "source": [
    "setup_seed(45)\n",
    "embeddings = nn.Embedding(high, input_size).to(device)\n",
    "test_embeddings = embeddings(test_idx).to(device)\n",
    "h_0 = torch.zeros(1, hidden_size, requires_grad=True).to(device)\n",
    "c_0 = torch.zeros(1, hidden_size, requires_grad=True).to(device)\n",
    "h_t = h_0\n",
    "c_t = c_0\n",
    "print(test_embeddings)\n",
    "print(h_0)\n",
    "print(c_0)"
   ]
  },
  {
   "cell_type": "markdown",
   "metadata": {},
   "source": [
    "## 2.2.2.1 Grad of LSTM (Not Using forget gate)"
   ]
  },
  {
   "cell_type": "code",
   "execution_count": 41,
   "metadata": {
    "ExecuteTime": {
     "end_time": "2019-05-16T07:51:25.124378Z",
     "start_time": "2019-05-16T07:51:22.129633Z"
    },
    "scrolled": true
   },
   "outputs": [],
   "source": [
    "lstm = NaiveLSTM(input_size, hidden_size).to(device)\n",
    "iters = test_embeddings.size(1)\n",
    "lstm_grads = []\n",
    "i_s = []\n",
    "o_s = []\n",
    "f_s = []\n",
    "for t in range(iters):\n",
    "    h_t, c_t, f, i, o = lstm_step(test_embeddings[: , t, :], h_t, c_t, \n",
    "                               lstm.w_ii, lstm.b_ii, lstm.w_hi, lstm.b_hi,\n",
    "                               lstm.w_if, lstm.b_if, lstm.w_hf, lstm.b_hf,\n",
    "                               lstm.w_ig, lstm.b_ig, lstm.w_hg, lstm.b_hg,\n",
    "                               lstm.w_io, lstm.b_io, lstm.w_ho, lstm.b_ho,\n",
    "                               use_forget_gate=False)\n",
    "    loss = h_t.abs().sum()\n",
    "    h_0.retain_grad()\n",
    "    loss.backward(retain_graph=True)\n",
    "    lstm_grads.append(torch.norm(h_0.grad).item())\n",
    "    i_s.append(i)\n",
    "    o_s.append(o)\n",
    "    f_s.append(f)\n",
    "    h_0.grad.zero_()\n",
    "    lstm.zero_grad()"
   ]
  },
  {
   "cell_type": "code",
   "execution_count": 42,
   "metadata": {
    "ExecuteTime": {
     "end_time": "2019-05-16T07:51:25.219225Z",
     "start_time": "2019-05-16T07:51:25.125424Z"
    },
    "scrolled": true
   },
   "outputs": [
    {
     "data": {
      "text/plain": [
       "[<matplotlib.lines.Line2D at 0x16953664f28>]"
      ]
     },
     "execution_count": 42,
     "metadata": {},
     "output_type": "execute_result"
    },
    {
     "data": {
      "image/png": "[encoded data removed]",
      "text/plain": [
       "<Figure size 432x288 with 1 Axes>"
      ]
     },
     "metadata": {
      "needs_background": "light"
     },
     "output_type": "display_data"
    }
   ],
   "source": [
    "plt.plot(lstm_grads)"
   ]
  },
  {
   "cell_type": "code",
   "execution_count": 43,
   "metadata": {
    "ExecuteTime": {
     "end_time": "2019-05-16T07:51:25.355642Z",
     "start_time": "2019-05-16T07:51:25.220388Z"
    }
   },
   "outputs": [
    {
     "data": {
      "image/png": "[encoded data removed]",
      "text/plain": [
       "<Figure size 432x288 with 1 Axes>"
      ]
     },
     "metadata": {
      "needs_background": "light"
     },
     "output_type": "display_data"
    }
   ],
   "source": [
    "show_gates(i_s, o_s, f_s)"
   ]
  },
  {
   "cell_type": "markdown",
   "metadata": {},
   "source": [
    "## 2.2.2.2 Grad of LSTM (Using forget gate)"
   ]
  },
  {
   "cell_type": "code",
   "execution_count": 44,
   "metadata": {
    "ExecuteTime": {
     "end_time": "2019-05-16T07:51:26.034854Z",
     "start_time": "2019-05-16T07:51:25.356813Z"
    },
    "scrolled": true
   },
   "outputs": [
    {
     "name": "stdout",
     "output_type": "stream",
     "text": [
      "tensor([[[ 0.5697,  0.7304, -0.4647,  ...,  0.7549,  0.3112, -0.4582],\n",
      "         [ 1.5171,  0.7328,  0.0803,  ...,  1.2385,  1.2259, -0.5259],\n",
      "         [-0.2804, -0.4395,  1.5441,  ..., -0.8644,  0.1858, -0.9446],\n",
      "         ...,\n",
      "         [ 0.5019, -0.8431, -0.9560,  ...,  0.2607,  1.2035,  0.6892],\n",
      "         [-0.5062,  0.8530,  0.3743,  ..., -0.4148, -0.3384,  0.9264],\n",
      "         [-2.1523,  0.6292, -0.9732,  ..., -0.2591, -1.6320, -0.1915]]],\n",
      "       device='cuda:0', grad_fn=<EmbeddingBackward>)\n",
      "tensor([[0., 0., 0., 0., 0., 0., 0., 0., 0., 0., 0., 0., 0., 0., 0., 0., 0., 0., 0., 0., 0., 0., 0., 0.,\n",
      "         0., 0., 0., 0., 0., 0., 0., 0., 0., 0., 0., 0., 0., 0., 0., 0., 0., 0., 0., 0., 0., 0., 0., 0.,\n",
      "         0., 0.]], device='cuda:0', grad_fn=<CopyBackwards>)\n",
      "tensor([[0., 0., 0., 0., 0., 0., 0., 0., 0., 0., 0., 0., 0., 0., 0., 0., 0., 0., 0., 0., 0., 0., 0., 0.,\n",
      "         0., 0., 0., 0., 0., 0., 0., 0., 0., 0., 0., 0., 0., 0., 0., 0., 0., 0., 0., 0., 0., 0., 0., 0.,\n",
      "         0., 0.]], device='cuda:0', grad_fn=<CopyBackwards>)\n"
     ]
    }
   ],
   "source": [
    "setup_seed(45)\n",
    "embeddings = nn.Embedding(high, input_size).to(device)\n",
    "test_embeddings = embeddings(test_idx).to(device)\n",
    "h_0 = torch.zeros(1, hidden_size, requires_grad=True).to(device)\n",
    "c_0 = torch.zeros(1, hidden_size, requires_grad=True).to(device)\n",
    "h_t = h_0\n",
    "c_t = c_0\n",
    "print(test_embeddings)\n",
    "print(h_0)\n",
    "print(c_0)"
   ]
  },
  {
   "cell_type": "code",
   "execution_count": 45,
   "metadata": {
    "ExecuteTime": {
     "end_time": "2019-05-16T07:51:29.884345Z",
     "start_time": "2019-05-16T07:51:26.035851Z"
    }
   },
   "outputs": [],
   "source": [
    "lstm = NaiveLSTM(input_size, hidden_size).to(device)\n",
    "## BIG CHANGE!!\n",
    "lstm.b_hf.data = torch.ones_like(lstm.b_hf) * 1/2\n",
    "lstm.b_if.data = torch.ones_like(lstm.b_if) * 1/2\n",
    "iters = test_embeddings.size(1)\n",
    "lstm_grads = []\n",
    "i_s = []\n",
    "o_s = []\n",
    "f_s = []\n",
    "for t in range(iters):\n",
    "    h_t, c_t, f, i, o = lstm_step(test_embeddings[: , t, :], h_t, c_t, \n",
    "                               lstm.w_ii, lstm.b_ii, lstm.w_hi, lstm.b_hi,\n",
    "                               lstm.w_if, lstm.b_if, lstm.w_hf, lstm.b_hf,\n",
    "                               lstm.w_ig, lstm.b_ig, lstm.w_hg, lstm.b_hg,\n",
    "                               lstm.w_io, lstm.b_io, lstm.w_ho, lstm.b_ho,\n",
    "                               use_forget_gate=True)\n",
    "    loss = h_t.abs().sum()\n",
    "    h_0.retain_grad()\n",
    "    loss.backward(retain_graph=True)\n",
    "    lstm_grads.append(torch.norm(h_0.grad).item())\n",
    "    i_s.append(i)\n",
    "    o_s.append(o)\n",
    "    f_s.append(f)\n",
    "    h_0.grad.zero_()\n",
    "    lstm.zero_grad()"
   ]
  },
  {
   "cell_type": "code",
   "execution_count": 46,
   "metadata": {
    "ExecuteTime": {
     "end_time": "2019-05-16T07:51:29.983291Z",
     "start_time": "2019-05-16T07:51:29.885413Z"
    },
    "scrolled": true
   },
   "outputs": [
    {
     "data": {
      "text/plain": [
       "[<matplotlib.lines.Line2D at 0x16953782550>]"
      ]
     },
     "execution_count": 46,
     "metadata": {},
     "output_type": "execute_result"
    },
    {
     "data": {
      "image/png": "[encoded data removed]",
      "text/plain": [
       "<Figure size 432x288 with 1 Axes>"
      ]
     },
     "metadata": {
      "needs_background": "light"
     },
     "output_type": "display_data"
    }
   ],
   "source": [
    "plt.plot(lstm_grads)"
   ]
  },
  {
   "cell_type": "code",
   "execution_count": 47,
   "metadata": {
    "ExecuteTime": {
     "end_time": "2019-05-16T07:51:30.137367Z",
     "start_time": "2019-05-16T07:51:29.984372Z"
    }
   },
   "outputs": [
    {
     "data": {
      "image/png": "[encoded data removed]",
      "text/plain": [
       "<Figure size 432x288 with 1 Axes>"
      ]
     },
     "metadata": {
      "needs_background": "light"
     },
     "output_type": "display_data"
    }
   ],
   "source": [
    "show_gates(i_s, o_s, f_s)"
   ]
  },
  {
   "cell_type": "markdown",
   "metadata": {},
   "source": [
    "Reference\n",
    "--------\n",
    "\n",
    "1. [Seq2seq](https://github.com/bentrevett/pytorch-seq2seq)\n",
    "2. [building-an-lstm-from-scratch-in-pytorch-lstms-in-depth-part-1](http://mlexplained.com/2019/02/15/building-an-lstm-from-scratch-in-pytorch-lstms-in-depth-part-1/)\n",
    "3. [seq2seq_translation_tutorial](https://pytorch.org/tutorials/intermediate/seq2seq_translation_tutorial.html)\n",
    "4. [Understanding-LSTMs](https://colah.github.io/posts/2015-08-Understanding-LSTMs/)\n",
    "5. [pytorch-seq2seq](https://github.com/bentrevett/pytorch-seq2seq/blob/master/1%20-%20Sequence%20to%20Sequence%20Learning%20with%20Neural%20Networks.ipynb)"
   ]
  },
  {
   "cell_type": "markdown",
   "metadata": {},
   "source": [
    "## 做了无加分的作业 \n",
    "1. 使用GRU加速Seq2seq的训练速度。请简单修改以下几个函数，不要改变函数形参。并且重复使用它重复作业1.1。 (5+4个cell)  \n",
    "   Hints: 相对LSTM，GRU做了优化。它将LSTM的两个输入hidden和cell用同一个参数hidden表示。目的是降低计算开销，劣势是会牺牲一定的精度。\n",
    "2. 简答，课件实现的seq2seq和 [Sequence to Sequence Learning\n",
    "with Neural Networks](https://papers.nips.cc/paper/5346-sequence-to-sequence-learning-with-neural-networks.pdf) 的有什么差别？论文中模型训练开销是多久？有什么简单的办法可以提升训练速度吗？（开放性问题， 1个cell）\n",
    "\n",
    "```\n",
    "EncoderLSTM -> EncoderGRU, 将nn.LSTM换成nn.GRU\n",
    "DecoderLSTM -> DecoderGRU, 将nn.LSTM换成nn.GRU\n",
    "train_by_sentence -> train_by_sentence_v2      \n",
    "train -> train_v2\n",
    "evaluate -> train_v2\n",
    "```\n",
    " "
   ]
  },
  {
   "cell_type": "code",
   "execution_count": null,
   "metadata": {},
   "outputs": [],
   "source": []
  }
 ],
 "metadata": {
  "kernelspec": {
   "display_name": "Python 3",
   "language": "python",
   "name": "python3"
  },
  "language_info": {
   "codemirror_mode": {
    "name": "ipython",
    "version": 3
   },
   "file_extension": ".py",
   "mimetype": "text/x-python",
   "name": "python",
   "nbconvert_exporter": "python",
   "pygments_lexer": "ipython3",
   "version": "3.7.1"
  }
 },
 "nbformat": 4,
 "nbformat_minor": 2
}
