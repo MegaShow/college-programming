{
 "cells": [
  {
   "cell_type": "markdown",
   "metadata": {},
   "source": [
    "# Question 1"
   ]
  },
  {
   "cell_type": "code",
   "execution_count": 1,
   "metadata": {},
   "outputs": [
    {
     "name": "stdout",
     "output_type": "stream",
     "text": [
      "0.9999546021312976\n",
      "20\n",
      "-0.7615941559557649\n",
      "-0.1\n",
      "-0.06321205588285576\n"
     ]
    }
   ],
   "source": [
    "import math\n",
    "\n",
    "class Activation:\n",
    "    '''A math class\n",
    "    '''\n",
    "    \n",
    "    def sigmoid(self, x):\n",
    "        return 1 / (1 + math.exp(-x))\n",
    "    \n",
    "    def tanh(self, x):\n",
    "        a, b = math.exp(x), math.exp(-x)\n",
    "        return (a - b) / (a + b)\n",
    "    \n",
    "    def relu(self, x):\n",
    "        return x if x >= 0 else 0\n",
    "    \n",
    "    def leaky_relu(self, alpha, x):\n",
    "        return x if x >= 0 else alpha * x\n",
    "    \n",
    "    def elu(self, alpha, x):\n",
    "        return x if x >= 0 else alpha * (math.exp(x) - 1)\n",
    "\n",
    "activation = Activation()\n",
    "print(activation.sigmoid(10))\n",
    "print(activation.relu(20))\n",
    "print(activation.tanh(-1))\n",
    "print(activation.leaky_relu(0.1, -1))\n",
    "print(activation.elu(0.1, -1))"
   ]
  },
  {
   "cell_type": "markdown",
   "metadata": {},
   "source": [
    "# Question 2"
   ]
  },
  {
   "cell_type": "code",
   "execution_count": 2,
   "metadata": {},
   "outputs": [
    {
     "name": "stdout",
     "output_type": "stream",
     "text": [
      "69\n"
     ]
    }
   ],
   "source": [
    "import os\n",
    "\n",
    "def len(path):\n",
    "    sum = 0\n",
    "    for i in os.listdir(path):\n",
    "        if os.path.isdir(path + os.path.sep + i):\n",
    "            sum = sum + len(path + os.path.sep + i)\n",
    "        else:\n",
    "            sum = sum + 1\n",
    "    return sum\n",
    "\n",
    "print(len('face'))"
   ]
  }
 ],
 "metadata": {
  "kernelspec": {
   "display_name": "Python 3",
   "language": "python",
   "name": "python3"
  },
  "language_info": {
   "codemirror_mode": {
    "name": "ipython",
    "version": 3
   },
   "file_extension": ".py",
   "mimetype": "text/x-python",
   "name": "python",
   "nbconvert_exporter": "python",
   "pygments_lexer": "ipython3",
   "version": "3.7.1"
  }
 },
 "nbformat": 4,
 "nbformat_minor": 2
}
